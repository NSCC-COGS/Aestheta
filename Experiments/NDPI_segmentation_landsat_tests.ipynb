{
  "nbformat": 4,
  "nbformat_minor": 0,
  "metadata": {
    "colab": {
      "name": "NDPI_segmentation_landsat_tests.ipynb",
      "provenance": [],
      "collapsed_sections": []
    },
    "kernelspec": {
      "name": "python3",
      "display_name": "Python 3"
    }
  },
  "cells": [
    {
      "cell_type": "code",
      "metadata": {
        "colab": {
          "base_uri": "https://localhost:8080/"
        },
        "id": "CE7E120Ztpyj",
        "outputId": "98aebf69-c6e8-419b-af62-c6571d3eeae2"
      },
      "source": [
        "!git clone https://github.com/NSCC-COGS/Aestheta.git"
      ],
      "execution_count": 1,
      "outputs": [
        {
          "output_type": "stream",
          "text": [
            "Cloning into 'Aestheta'...\n",
            "remote: Enumerating objects: 190, done.\u001b[K\n",
            "remote: Counting objects: 100% (190/190), done.\u001b[K\n",
            "remote: Compressing objects: 100% (156/156), done.\u001b[K\n",
            "remote: Total 579 (delta 106), reused 65 (delta 29), pack-reused 389\u001b[K\n",
            "Receiving objects: 100% (579/579), 7.48 MiB | 6.09 MiB/s, done.\n",
            "Resolving deltas: 100% (310/310), done.\n"
          ],
          "name": "stdout"
        }
      ]
    },
    {
      "cell_type": "code",
      "metadata": {
        "colab": {
          "base_uri": "https://localhost:8080/"
        },
        "id": "uX6x91M-zIF1",
        "outputId": "034e6877-d5d6-4b71-9296-66e2b6b3ccb9"
      },
      "source": [
        "%cd /content/Aestheta/\n",
        "!git pull"
      ],
      "execution_count": 2,
      "outputs": [
        {
          "output_type": "stream",
          "text": [
            "/content/Aestheta\n",
            "Already up to date.\n"
          ],
          "name": "stdout"
        }
      ]
    },
    {
      "cell_type": "code",
      "metadata": {
        "colab": {
          "base_uri": "https://localhost:8080/"
        },
        "id": "YahWntAG0hNa",
        "outputId": "137b3a7b-c6f6-46c5-dd7d-7ab438fb92fc"
      },
      "source": [
        "import Aestheta.Library.core as core\n",
        "earth_RGB = core.getTile(source='google_sat')"
      ],
      "execution_count": 3,
      "outputs": [
        {
          "output_type": "stream",
          "text": [
            "0 0 0\n"
          ],
          "name": "stdout"
        }
      ]
    },
    {
      "cell_type": "code",
      "metadata": {
        "id": "Dngr6wm3kvqq"
      },
      "source": [
        "core.getTile(source='google_sat', show=True)"
      ],
      "execution_count": null,
      "outputs": []
    },
    {
      "cell_type": "code",
      "metadata": {
        "id": "MDeY_S1Wka95"
      },
      "source": [
        "core.norm_diff(earth_RGB,  B1=1, B2=2, show=True)\n",
        "core.norm_diff(earth_RGB,  B1=2, B2=3, show=True)\n",
        "core.norm_diff(earth_RGB,  B1=3, B2=1, show=True)"
      ],
      "execution_count": null,
      "outputs": []
    },
    {
      "cell_type": "code",
      "metadata": {
        "id": "1nVVrDZYqzs3"
      },
      "source": [
        "from matplotlib import pyplot as plt\n",
        "for i in range(3):\n",
        "  plt.imshow(earth_RGB[:,:,i])\n",
        "  plt.show()"
      ],
      "execution_count": null,
      "outputs": []
    },
    {
      "cell_type": "code",
      "metadata": {
        "id": "5x-SwHn1yju0"
      },
      "source": [
        "# ND1 = core.norm_diff(earth_RGB,  B1=1, B2=2, show=False)\n",
        "# ND2 = core.norm_diff(earth_RGB,  B1=2, B2=3, show=False)\n",
        "# ND3 = core.norm_diff(earth_RGB,  B1=3, B2=1, show=False)"
      ],
      "execution_count": 7,
      "outputs": []
    },
    {
      "cell_type": "code",
      "metadata": {
        "id": "Ev3DYemsiQyI"
      },
      "source": [
        "def NDPI(img, show=False):\n",
        "  import numpy as np\n",
        "  ND1 = core.norm_diff(img,  B1=1, B2=2, show=False)\n",
        "  ND2 = core.norm_diff(img,  B1=2, B2=3, show=False)\n",
        "  ND3 = core.norm_diff(img,  B1=3, B2=1, show=False)\n",
        "\n",
        "  NDPI = np.dstack([ND1,ND2,ND3])\n",
        "  \n",
        "  # NDPI-=np.nanmin(NDPI)\n",
        "  # NDPI/=np.nanmax(NDPI)\n",
        "\n",
        "  NDPI -= -.5\n",
        "  NDPI /= 1.2\n",
        "  NDPI*=255\n",
        "\n",
        "  NDPI = np.uint8(NDPI)\n",
        "  \n",
        "  print(NDPI.min(),NDPI.max())\n",
        "  if show:\n",
        "    from matplotlib import pyplot as plt\n",
        "    plt.imshow(NDPI)\n",
        "    plt.show()\n",
        "    return NDPI\n",
        "  else:\n",
        "    return NDPI"
      ],
      "execution_count": 8,
      "outputs": []
    },
    {
      "cell_type": "code",
      "metadata": {
        "id": "DME17LYcg-8r"
      },
      "source": [
        "earth_NDPI = NDPI(earth_RGB, show=True)"
      ],
      "execution_count": null,
      "outputs": []
    },
    {
      "cell_type": "code",
      "metadata": {
        "id": "clst4bTC1h2t"
      },
      "source": [
        "# kmeans cluster\n",
        "# more info at\n",
        "# https://www.thepythoncode.com/article/kmeans-for-image-segmentation-opencv-python\n",
        "\n",
        "def kmeans(image, k=3, show = True):\n",
        "\n",
        "  import cv2\n",
        "  import numpy as np\n",
        "  import matplotlib.pyplot as plt\n",
        "\n",
        "  pixel_values = image.reshape((-1, 3))\n",
        "  pixel_values = np.float32(pixel_values)\n",
        "\n",
        "  criteria = (cv2.TERM_CRITERIA_EPS + cv2.TERM_CRITERIA_MAX_ITER, 100, 0.2)\n",
        "  _, labels, (centers) = cv2.kmeans(pixel_values, k, None, criteria, 10, cv2.KMEANS_RANDOM_CENTERS)\n",
        "\n",
        "  centers = np.uint8(centers)\n",
        "  labels = labels.flatten()\n",
        "  segmented_image = centers[labels.flatten()]\n",
        "  segmented_image = segmented_image.reshape(image.shape)\n",
        "\n",
        "  if show:\n",
        "    plt.imshow(segmented_image)\n",
        "    plt.show()\n",
        "    return segmented_image\n",
        "  else:\n",
        "    return segmented_image"
      ],
      "execution_count": 10,
      "outputs": []
    },
    {
      "cell_type": "code",
      "metadata": {
        "id": "fKIBppad2FWd"
      },
      "source": [
        "earth_k3= kmeans(earth_RGB, k=3,show=True)"
      ],
      "execution_count": null,
      "outputs": []
    },
    {
      "cell_type": "code",
      "metadata": {
        "id": "nOkvrIr82NP5"
      },
      "source": [
        "earth_NDPI_k3 = kmeans(earth_NDPI, k=3,show=True)"
      ],
      "execution_count": null,
      "outputs": []
    },
    {
      "cell_type": "code",
      "metadata": {
        "id": "cEphE6C02nbV"
      },
      "source": [
        "earth_k7= kmeans(earth_RGB, k=7,show=True)\n",
        "earth_NDPI_k7 = kmeans(earth_NDPI, k=7,show=True)"
      ],
      "execution_count": null,
      "outputs": []
    },
    {
      "cell_type": "code",
      "metadata": {
        "id": "MztxXULSQSFZ"
      },
      "source": [
        "def unique_colors(image, show=True):\n",
        "  import numpy as np\n",
        "\n",
        "  classes,arr_classes =  np.unique(image.reshape(-1, image.shape[2]), axis=0, return_inverse=True)\n",
        "  img_classes = np.reshape(arr_classes,image[:,:,0].shape)\n",
        "\n",
        "\n",
        "  if show:\n",
        "    plt.imshow(img_classes, cmap='rainbow')\n",
        "    plt.show()\n",
        "    return img_classes\n",
        "\n",
        "  else:\n",
        "    return img_classes\n"
      ],
      "execution_count": 16,
      "outputs": []
    },
    {
      "cell_type": "code",
      "metadata": {
        "id": "-eTrCAFyVK7S"
      },
      "source": [
        "earth_k7_class = unique_colors(earth_k7)\n",
        "earth_NDPI_k7_class = unique_colors(earth_NDPI_k7)"
      ],
      "execution_count": null,
      "outputs": []
    },
    {
      "cell_type": "code",
      "metadata": {
        "id": "Nzs9-LwzfYO3"
      },
      "source": [
        "def edge(image, show=True, abs=True, mask=True):\n",
        "  import numpy as np\n",
        "  edges = core.image_shift_diff(image, axis=0)\n",
        "  edges += core.image_shift_diff(image, axis=1)\n",
        "\n",
        "  if abs:\n",
        "    edges = np.abs(edges)\n",
        "\n",
        "  if mask:\n",
        "    edges = edges==0\n",
        "\n",
        "  if show:\n",
        "    # plt.imshow(np.mod(edges,2), cmap='viridis')\n",
        "    plt.imshow(edges, cmap='viridis', interpolation='Nearest')\n",
        "    plt.show()\n",
        "    return edges\n",
        "\n",
        "  else:\n",
        "    return edges"
      ],
      "execution_count": 20,
      "outputs": []
    },
    {
      "cell_type": "code",
      "metadata": {
        "id": "6vRuxjz2WQFC"
      },
      "source": [
        "earth_k7_class_seg = edge(earth_k7_class)\n",
        "earth_NDPI_k7_class_seg = edge(earth_NDPI_k7_class)"
      ],
      "execution_count": null,
      "outputs": []
    },
    {
      "cell_type": "code",
      "metadata": {
        "id": "MOhj4htkV0Bt"
      },
      "source": [
        "def segment_old(image, show=True):\n",
        "\n",
        "  edges = edge(image, show=False)\n",
        "  from scipy.ndimage import label\n",
        "  # thresholdImage = earth_NDPI_k3 > earth_NDPI_k3.mean()\n",
        "  # img_segments=np.mod(image,3)\n",
        "  img_segments,unused = label(edges)\n",
        "\n",
        "  # img_segments[~edges] -= core.image_shift_diff(img_segments, axis=0)[~edges]\n",
        "\n",
        "  edges = edge(img_segments, show=False)\n",
        "\n",
        "  # edges = core.image_shift_diff(image, axis=0)\n",
        "  # edges += core.image_shift_diff(image, axis=1)\n",
        "\n",
        "  # for i in range(0,image.max()):\n",
        "  #   print\n",
        "\n",
        "  # print(image.max(), image.min())\n",
        "\n",
        "  # img_segments*=np.random.randint(0,2,size=img_segments.shape)\n",
        "\n",
        "  # from scipy import stats\n",
        "  # print(stats.describe(img_segments))\n",
        "\n",
        "  # import numpy as np\n",
        "  # labels, pixelCount = np.unique(img_segments, return_counts=True)\n",
        "  # sorter = np.argsort(pixelCount)\n",
        "  # img_segments = sorter[img_segments]\n",
        "\n",
        "  # img_segments, pixelCount = np.unique(img_segments, return_counts=True)\n",
        "  # img_segments = np.reshape(img_segments,image)\n",
        "  #img_segments = unique_colors(img_segments,show=False)\n",
        "  print(unused)\n",
        "  # print(labelMask.max())\n",
        "  # print(labelMask.min())\n",
        "  if show:\n",
        "    # plt.imshow(np.mod(img_segments,4), cmap='viridis')\n",
        "    plt.imshow(img_segments, cmap='viridis')\n",
        "    # plt.imshow(edges, cmap='viridis')\n",
        "    plt.show()\n",
        "    return img_segments\n",
        "\n",
        "  else:\n",
        "    return img_segments"
      ],
      "execution_count": 22,
      "outputs": []
    },
    {
      "cell_type": "code",
      "metadata": {
        "id": "TSrhxJUckjSY"
      },
      "source": [
        "def segment(image, show=True, sort = 'random'):\n",
        "\n",
        "  import numpy as np\n",
        "  from scipy.ndimage import label\n",
        "\n",
        "  img_segments = np.zeros_like(image)\n",
        "\n",
        "  uniques = np.unique(image)\n",
        "\n",
        "  for i in uniques:\n",
        "    # print(i)\n",
        "    i_segments,unused = label(image==i)\n",
        "    i_segments[i_segments<0]+=img_segments.max()\n",
        "    # print(img_segments.min(), img_segments.max())\n",
        "    img_segments+=i_segments\n",
        "\n",
        "  print('nsegments', img_segments.max())\n",
        "\n",
        "  if sort == 'random':\n",
        "    labels = np.arange(img_segments.max())\n",
        "    seed = np.random.rand(img_segments.max())\n",
        "    sorter = np.argsort(seed)\n",
        "    labels = sorter[labels-1]\n",
        "    img_segments = labels[img_segments-1]\n",
        "\n",
        "  if sort == 'size':\n",
        "    '''currently does not seem to be qworking correctly'''\n",
        "    labels, pixelCount = np.unique(img_segments, return_counts=True)\n",
        "    print(labels.shape)\n",
        "    sorter = np.argsort(pixelCount)\n",
        "    print(labels)\n",
        "    labels = sorter[labels-1]\n",
        "    labels+=1\n",
        "    print(labels)\n",
        "    test = np.arange(0,100)\n",
        "    test = labels[test]\n",
        "    print(img_segments.max())\n",
        "    img_segments = labels[img_segments-1]\n",
        "\n",
        "  if show:\n",
        "    # plt.imshow(np.mod(img_segments,4), cmap='viridis')\n",
        "    plt.imshow(img_segments, cmap='magma')\n",
        "    # plt.imshow(edges, cmap='viridis')\n",
        "    plt.show()\n",
        "    return img_segments\n",
        "\n",
        "  else:\n",
        "    return img_segments"
      ],
      "execution_count": 23,
      "outputs": []
    },
    {
      "cell_type": "code",
      "metadata": {
        "id": "1NFZvOpxhuw_"
      },
      "source": [
        "earth_k7_class_seg = segment(earth_k7_class)\n",
        "earth_NDPI_k7_class_seg = segment(earth_NDPI_k7_class)"
      ],
      "execution_count": null,
      "outputs": []
    },
    {
      "cell_type": "code",
      "metadata": {
        "id": "u2bi3HWS2yaB"
      },
      "source": [
        "def RGB_v_NDPI(location=None, k=3, image=False):\n",
        "  if location:\n",
        "    img_RGB = core.getTile(xyz = location, source='google_sat')\n",
        "  else:\n",
        "    img_RGB = image\n",
        "  RGB_k = kmeans(img_RGB, k=3,show=True)\n",
        "  RGB_k_class = unique_colors(RGB_k,show=True)\n",
        "  img_NDPI = NDPI(img_RGB, show=False)\n",
        "  NDPI_k = kmeans(img_NDPI, k=3,show=True)\n",
        "  NDPI_k_class = unique_colors(NDPI_k,show=True)"
      ],
      "execution_count": 25,
      "outputs": []
    },
    {
      "cell_type": "code",
      "metadata": {
        "id": "nXIAKp5qitCO"
      },
      "source": [
        "ns = [-65.0,45.5,5]\n",
        "RGB_v_NDPI(ns)"
      ],
      "execution_count": null,
      "outputs": []
    },
    {
      "cell_type": "code",
      "metadata": {
        "id": "kWRgjk9gjmNn"
      },
      "source": [
        "city = [-63.5752,44.6488,17]\n",
        "RGB_v_NDPI(city)"
      ],
      "execution_count": null,
      "outputs": []
    },
    {
      "cell_type": "code",
      "metadata": {
        "id": "LZKPXTP-l9BG"
      },
      "source": [
        "forest = [-64.937823,44.902670,16]\n",
        "RGB_v_NDPI(forest)"
      ],
      "execution_count": null,
      "outputs": []
    },
    {
      "cell_type": "code",
      "metadata": {
        "id": "EGPARXEZp2zi"
      },
      "source": [
        "shore = [-64.690149,46.449160,19]\n",
        "RGB_v_NDPI(shore)"
      ],
      "execution_count": null,
      "outputs": []
    },
    {
      "cell_type": "code",
      "metadata": {
        "id": "GRtcy7UXrLr5"
      },
      "source": [
        "bay = [-64.721486,46.464353,15]\n",
        "RGB_v_NDPI(bay)"
      ],
      "execution_count": null,
      "outputs": []
    },
    {
      "cell_type": "markdown",
      "metadata": {
        "id": "ZRB56ay8CKDh"
      },
      "source": [
        "Lets look at Zostera Data!"
      ]
    },
    {
      "cell_type": "code",
      "metadata": {
        "id": "7bSUNf7zCRE0"
      },
      "source": [
        "%cd /content/\n",
        "!wget -O PQ_RCD_50cm_Cubic.tif https://nscc-my.sharepoint.com/:i:/g/personal/w0001006_campus_nscc_ca/EeGmrgtNc9ZErvlXcVXfNaABsgdvFf7XTX-RprngA9KaCA?download=1"
      ],
      "execution_count": null,
      "outputs": []
    },
    {
      "cell_type": "code",
      "metadata": {
        "colab": {
          "base_uri": "https://localhost:8080/"
        },
        "id": "teOqvmS4CNwj",
        "outputId": "7e018294-59e6-436a-9fed-9e7008624e79"
      },
      "source": [
        "import imageio\n",
        "b = '/content/PQ_RCD_50cm_Cubic.tif'\n",
        "a = imageio.imread(b)\n",
        "print(a.shape)"
      ],
      "execution_count": 32,
      "outputs": [
        {
          "output_type": "stream",
          "text": [
            "(21450, 21710, 4)\n"
          ],
          "name": "stdout"
        }
      ]
    },
    {
      "cell_type": "code",
      "metadata": {
        "id": "KcTrT0A9Nat-"
      },
      "source": [
        "xWater= int(13000)\n",
        "yWater = int(12500)\n",
        "# xWater= int(13200)\n",
        "# yWater = int(12500)\n",
        "aWater_RGBN = a[xWater:xWater+256,yWater:yWater+256,:]\n",
        "aWater_RGB = aWater_RGBN[:,:,0:3]\n",
        "\n",
        "RGB_v_NDPI(image = aWater_RGB, k=3)"
      ],
      "execution_count": null,
      "outputs": []
    },
    {
      "cell_type": "markdown",
      "metadata": {
        "id": "KFGYwwzHBMkF"
      },
      "source": [
        "Lets grab some lansat!!"
      ]
    },
    {
      "cell_type": "code",
      "metadata": {
        "colab": {
          "base_uri": "https://localhost:8080/"
        },
        "id": "vrrhx1bR9d-u",
        "outputId": "5ed5aa2b-26f8-4453-eed3-b9621a5fc0b2"
      },
      "source": [
        "%cd /content/\n",
        "!git clone https://github.com/NSCC-COGS/GDAA2030.git"
      ],
      "execution_count": 34,
      "outputs": [
        {
          "output_type": "stream",
          "text": [
            "/content\n",
            "Cloning into 'GDAA2030'...\n",
            "remote: Enumerating objects: 119, done.\u001b[K\n",
            "remote: Counting objects: 100% (119/119), done.\u001b[K\n",
            "remote: Compressing objects: 100% (108/108), done.\u001b[K\n",
            "remote: Total 489 (delta 56), reused 19 (delta 9), pack-reused 370\u001b[K\n",
            "Receiving objects: 100% (489/489), 65.92 MiB | 18.97 MiB/s, done.\n",
            "Resolving deltas: 100% (214/214), done.\n"
          ],
          "name": "stdout"
        }
      ]
    },
    {
      "cell_type": "code",
      "metadata": {
        "colab": {
          "base_uri": "https://localhost:8080/"
        },
        "id": "dbXoah0e9zNY",
        "outputId": "78f83402-85a4-4349-8e1f-288386c9b0ac"
      },
      "source": [
        "%cd /content/GDAA2030/tutorial2/kevinkmcguigan\n",
        "import GDAA2030_T2_kevinmc_getLandsat_functions as glf"
      ],
      "execution_count": 35,
      "outputs": [
        {
          "output_type": "stream",
          "text": [
            "/content/GDAA2030/tutorial2/kevinkmcguigan\n"
          ],
          "name": "stdout"
        }
      ]
    },
    {
      "cell_type": "code",
      "metadata": {
        "id": "2TNMTdqn-8eb"
      },
      "source": [
        "def convert32(a, maskVal=0, inplace=False):\n",
        "  if inplace:\n",
        "    b=a\n",
        "  else:\n",
        "    b=a.copy()\n",
        "  mask = b == maskVal\n",
        "  b = b.astype(np.float32)\n",
        "  b[mask] = np.nan\n",
        "  return b"
      ],
      "execution_count": 36,
      "outputs": []
    },
    {
      "cell_type": "code",
      "metadata": {
        "id": "2zfsAhFL_FVl"
      },
      "source": [
        "def stdScale(a, n=1, inplace=False):\n",
        "  if inplace:\n",
        "    b=a\n",
        "  else:\n",
        "    b=a.copy()\n",
        "  s0 = np.nanmean(b) - np.nanstd(b)/n\n",
        "  s1 = np.nanmean(b) + np.nanstd(b)/n\n",
        "  print('Scale from %f to %f' %(s0,s1))\n",
        "  b[b<s0] = s1 # where the arrays is LESS than the mean - std, SET it to the mean - std\n",
        "  b[b>s1] = s1# where the arrays is GREATER than the mean + std, SET it to the mean + std\n",
        "  return b"
      ],
      "execution_count": 37,
      "outputs": []
    },
    {
      "cell_type": "code",
      "metadata": {
        "id": "Z8UmIA-d_GCu"
      },
      "source": [
        "def normalize(a, inplace=False):\n",
        "  if inplace:\n",
        "    b=a\n",
        "  else:\n",
        "    b=a.copy()\n",
        "\n",
        "  if b.dtype != np.float32:\n",
        "    b = b.astype(np.float32)\n",
        "\n",
        "  b -= np.nanmin(b)\n",
        "  b /= np.nanmax(b)\n",
        "  # print(np.nanmin(b), np.nanmax(b))\n",
        "\n",
        "  return b\n"
      ],
      "execution_count": 38,
      "outputs": []
    },
    {
      "cell_type": "code",
      "metadata": {
        "id": "Jf1G7cZ2_W1P"
      },
      "source": [
        "def scale8bit(a, return_mask=True, inplace=False):\n",
        "  if inplace:\n",
        "    b=a\n",
        "  else:\n",
        "    b=a.copy()\n",
        "\n",
        "  if return_mask:\n",
        "    mask = ~np.isnan(b)\n",
        "  b *= 255\n",
        "  b = b.astype(np.uint8)\n",
        "\n",
        "  if return_mask:\n",
        "    mask = mask.astype(np.uint8)\n",
        "    mask *= 255\n",
        "\n",
        "    return b,mask\n",
        "\n",
        "  else:\n",
        "    return b"
      ],
      "execution_count": 39,
      "outputs": []
    },
    {
      "cell_type": "code",
      "metadata": {
        "id": "cRjoRViy_eda"
      },
      "source": [
        "def ourPlot(a, interpolation = 'bilinear', histogram=True):\n",
        "  stats = {\n",
        "      'max' : np.nanmax(a),\n",
        "      'min' : np.nanmin(a),\n",
        "      'mean' : np.nanmean(a),\n",
        "      'std' : np.nanstd(a),\n",
        "      'bitDepth' : a.dtype,\n",
        "      'dimensions' : a.shape,\n",
        "      'top_left_value' : a[0,0]\n",
        "  }\n",
        "\n",
        "  for item in stats:\n",
        "    print('%s: %s'%(item, stats[item]))\n",
        "\n",
        "  plt.cla()\n",
        "  plt.subplot(121)\n",
        "  plt.imshow(a ,interpolation = interpolation)\n",
        "  if histogram:\n",
        "    plt.subplot(122)\n",
        "    plt.hist(a.flatten(),bins=100)\n",
        "    s0 = stats['mean'] - stats['std']\n",
        "    s1 = stats['mean'] + stats['std']\n",
        "    plt.axvline(s0,c='red')\n",
        "    plt.axvline(s1,c='red')"
      ],
      "execution_count": 40,
      "outputs": []
    },
    {
      "cell_type": "code",
      "metadata": {
        "id": "RFKot63y9WEE"
      },
      "source": [
        "def makeCompositeRGBA(bands=[4,3,2]):\n",
        "  import tifffile\n",
        "  images = []\n",
        "  for band in bands:\n",
        "    imageUrl, imagePath = glf.getImageIO(selectedScene, band, imageDir)\n",
        "    glf.downloadImage(imageUrl,imagePath)\n",
        "    im = tifffile.imread(imagePath)[::10,::10] # this will reduce the size of the arrays by a factor of 10x10 to save on memory\n",
        "    im = convert32(im, inplace=True)\n",
        "    im = stdScale(im, n=.5, inplace=True) # note that I did play with the number of standard deviation here\n",
        "    im = normalize(im, inplace=True)\n",
        "    im,mask = scale8bit(im, return_mask=True, inplace=True)\n",
        "    images.append(im)\n",
        "  images.append(mask)\n",
        "\n",
        "  return np.dstack(images)"
      ],
      "execution_count": 44,
      "outputs": []
    },
    {
      "cell_type": "code",
      "metadata": {
        "id": "uw5F8--G-QGW"
      },
      "source": [
        "lat = 44.88\n",
        "lon = -65.16\n",
        "band = 1\n",
        "cloudCoverMax = 2\n",
        "# sceneList = \"scene_list.txt\"\n",
        "sceneList = 'https://landsat-pds.s3.amazonaws.com/c1/L8/scene_list.gz'\n",
        "sceneTest = None # set a small number to test, or None\n",
        "imageDir = r'.\\images'\n",
        "\n",
        "sceneDf = glf.loadSceneList(sceneList, sceneTest, cloudCoverMax)\n",
        "\n",
        "# sceneDf = glf.loadSceneList(sceneList)\n",
        "\n",
        "path,row = glf.findPathRow(sceneDf, lat, lon)\n",
        "\n",
        "# print(path, row)\n",
        "\n",
        "selectedScene = glf.selectScene(sceneDf, path, row)"
      ],
      "execution_count": null,
      "outputs": []
    },
    {
      "cell_type": "code",
      "metadata": {
        "id": "svtPdfip9nZb"
      },
      "source": [
        "import numpy as np\n",
        "landsat_RGBA = makeCompositeRGBA([4,3,2])\n",
        "ourPlot(landsat_RGBA)"
      ],
      "execution_count": null,
      "outputs": []
    },
    {
      "cell_type": "code",
      "metadata": {
        "id": "DlUJ3v6W_sSA"
      },
      "source": [
        "landsat_RGB = landsat_RGBA[:,:,0:3]\n",
        "RGB_v_NDPI(image = landsat_RGB,k=3)"
      ],
      "execution_count": null,
      "outputs": []
    }
  ]
}