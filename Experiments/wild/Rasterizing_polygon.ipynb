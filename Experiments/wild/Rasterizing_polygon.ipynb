{
  "nbformat": 4,
  "nbformat_minor": 0,
  "metadata": {
    "colab": {
      "name": "Rasterizing_polygon.ipynb",
      "provenance": [],
      "collapsed_sections": [],
      "toc_visible": true
    },
    "kernelspec": {
      "name": "python3",
      "display_name": "Python 3"
    },
    "language_info": {
      "name": "python"
    }
  },
  "cells": [
    {
      "cell_type": "markdown",
      "metadata": {
        "id": "R75HHuFeJJg7"
      },
      "source": [
        "Lets get some polygons!\n"
      ]
    },
    {
      "cell_type": "code",
      "metadata": {
        "colab": {
          "base_uri": "https://localhost:8080/"
        },
        "id": "asFTDS7aJHeD",
        "outputId": "cc366ec1-9628-46a7-c353-d86212020ce9"
      },
      "source": [
        "!wget -O benthic_ground_truth.zip https://nscc-my.sharepoint.com/:u:/g/personal/w0001006_campus_nscc_ca/EaYM7nvthFFPm7MXx357X4UBm-xe1uGJVOOg-WpXbPeWGQ?download=1"
      ],
      "execution_count": null,
      "outputs": [
        {
          "output_type": "stream",
          "text": [
            "--2021-03-30 14:19:50--  https://nscc-my.sharepoint.com/:u:/g/personal/w0001006_campus_nscc_ca/EaYM7nvthFFPm7MXx357X4UBm-xe1uGJVOOg-WpXbPeWGQ?download=1\n",
            "Resolving nscc-my.sharepoint.com (nscc-my.sharepoint.com)... 13.107.136.9\n",
            "Connecting to nscc-my.sharepoint.com (nscc-my.sharepoint.com)|13.107.136.9|:443... connected.\n",
            "HTTP request sent, awaiting response... 302 Found\n",
            "Location: /personal/w0001006_campus_nscc_ca/Documents/For_Kevin/Revised/benthic_ground_truth.zip?originalPath=aHR0cHM6Ly9uc2NjLW15LnNoYXJlcG9pbnQuY29tLzp1Oi9nL3BlcnNvbmFsL3cwMDAxMDA2X2NhbXB1c19uc2NjX2NhL0VhWU03bnZ0aEZGUG03TVh4MzU3WDRVQm0teGUxdUdKVk9PZy1XcFhiUGVXR1E_cnRpbWU9THlYZTRZYnoyRWc [following]\n",
            "--2021-03-30 14:19:51--  https://nscc-my.sharepoint.com/personal/w0001006_campus_nscc_ca/Documents/For_Kevin/Revised/benthic_ground_truth.zip?originalPath=aHR0cHM6Ly9uc2NjLW15LnNoYXJlcG9pbnQuY29tLzp1Oi9nL3BlcnNvbmFsL3cwMDAxMDA2X2NhbXB1c19uc2NjX2NhL0VhWU03bnZ0aEZGUG03TVh4MzU3WDRVQm0teGUxdUdKVk9PZy1XcFhiUGVXR1E_cnRpbWU9THlYZTRZYnoyRWc\n",
            "Reusing existing connection to nscc-my.sharepoint.com:443.\n",
            "HTTP request sent, awaiting response... 200 OK\n",
            "Length: 4900 (4.8K) [application/x-zip-compressed]\n",
            "Saving to: ‘benthic_ground_truth.zip’\n",
            "\n",
            "benthic_ground_trut 100%[===================>]   4.79K  --.-KB/s    in 0s      \n",
            "\n",
            "2021-03-30 14:19:51 (88.5 MB/s) - ‘benthic_ground_truth.zip’ saved [4900/4900]\n",
            "\n"
          ],
          "name": "stdout"
        }
      ]
    },
    {
      "cell_type": "code",
      "metadata": {
        "colab": {
          "base_uri": "https://localhost:8080/"
        },
        "id": "nuo1TiWDJXrE",
        "outputId": "72a8ee8e-be97-471a-e8ca-fd2f0271b75e"
      },
      "source": [
        "!unzip benthic_ground_truth.zip"
      ],
      "execution_count": null,
      "outputs": [
        {
          "output_type": "stream",
          "text": [
            "Archive:  benthic_ground_truth.zip\n",
            " extracting: benthic_ground_truth.cpg  \n",
            "  inflating: benthic_ground_truth.dbf  \n",
            "  inflating: benthic_ground_truth.prj  \n",
            "  inflating: benthic_ground_truth.sbn  \n",
            "  inflating: benthic_ground_truth.sbx  \n",
            "  inflating: benthic_ground_truth.shp  \n",
            "  inflating: benthic_ground_truth.shx  \n"
          ],
          "name": "stdout"
        }
      ]
    },
    {
      "cell_type": "code",
      "metadata": {
        "colab": {
          "base_uri": "https://localhost:8080/"
        },
        "id": "1gLB_gDh7W4x",
        "outputId": "e160240a-fd96-41e5-c6b4-e474df1650ac"
      },
      "source": [
        "!pip install git+https://github.com/NSCC-COGS/Aestheta.git@dev --quiet"
      ],
      "execution_count": null,
      "outputs": [
        {
          "output_type": "stream",
          "text": [
            "  Installing build dependencies ... \u001b[?25l\u001b[?25hdone\n",
            "  Getting requirements to build wheel ... \u001b[?25l\u001b[?25hdone\n",
            "    Preparing wheel metadata ... \u001b[?25l\u001b[?25hdone\n",
            "\u001b[K     |████████████████████████████████| 225kB 6.8MB/s \n",
            "\u001b[?25h  Building wheel for aestheta (PEP 517) ... \u001b[?25l\u001b[?25hdone\n",
            "  Building wheel for pyshp (setup.py) ... \u001b[?25l\u001b[?25hdone\n"
          ],
          "name": "stdout"
        }
      ]
    },
    {
      "cell_type": "code",
      "metadata": {
        "colab": {
          "base_uri": "https://localhost:8080/",
          "height": 276
        },
        "id": "AGKVD7uy9Yci",
        "outputId": "1ea249bf-28a1-4f0b-d1c2-b50ef4f97bcf"
      },
      "source": [
        "from aestheta import core\n",
        "shp = 'benthic_ground_truth'\n",
        "shape = core.shpreader(shp, show=True)"
      ],
      "execution_count": null,
      "outputs": [
        {
          "output_type": "display_data",
          "data": {
            "image/png": "[encoded data removed]",
            "text/plain": [
              "<Figure size 432x288 with 1 Axes>"
            ]
          },
          "metadata": {
            "tags": [],
            "needs_background": "light"
          }
        }
      ]
    },
    {
      "cell_type": "markdown",
      "metadata": {
        "id": "bv-uO6mwSont"
      },
      "source": [
        "\n",
        "# First lets try using matplotlib!"
      ]
    },
    {
      "cell_type": "code",
      "metadata": {
        "colab": {
          "base_uri": "https://localhost:8080/"
        },
        "id": "5PWDExnhJfSa",
        "outputId": "e95e035f-a3f9-4bfd-e4f5-76285d30b131"
      },
      "source": [
        "!pip install pyshp"
      ],
      "execution_count": null,
      "outputs": [
        {
          "output_type": "stream",
          "text": [
            "Requirement already satisfied: pyshp in /usr/local/lib/python3.7/dist-packages (2.1.3)\n"
          ],
          "name": "stdout"
        }
      ]
    },
    {
      "cell_type": "code",
      "metadata": {
        "id": "y8P54WklJt0V"
      },
      "source": [
        "import shapefile"
      ],
      "execution_count": null,
      "outputs": []
    },
    {
      "cell_type": "code",
      "metadata": {
        "id": "__Cvrq5wJphm"
      },
      "source": [
        "shpPath = 'benthic_ground_truth'\n",
        "shp = shapefile.Reader(shpPath)"
      ],
      "execution_count": null,
      "outputs": []
    },
    {
      "cell_type": "code",
      "metadata": {
        "colab": {
          "base_uri": "https://localhost:8080/"
        },
        "id": "K8DPk0Z2KR0J",
        "outputId": "f23313bb-782d-4f01-e34c-3d7ac60f96dc"
      },
      "source": [
        "help(shp)"
      ],
      "execution_count": null,
      "outputs": [
        {
          "output_type": "stream",
          "text": [
            "Help on Reader in module shapefile object:\n",
            "\n",
            "class Reader(builtins.object)\n",
            " |  Reader(*args, **kwargs)\n",
            " |  \n",
            " |  Reads the three files of a shapefile as a unit or\n",
            " |  separately.  If one of the three files (.shp, .shx,\n",
            " |  .dbf) is missing no exception is thrown until you try\n",
            " |  to call a method that depends on that particular file.\n",
            " |  The .shx index file is used if available for efficiency\n",
            " |  but is not required to read the geometry from the .shp\n",
            " |  file. The \"shapefile\" argument in the constructor is the\n",
            " |  name of the file you want to open.\n",
            " |  \n",
            " |  You can instantiate a Reader without specifying a shapefile\n",
            " |  and then specify one later with the load() method.\n",
            " |  \n",
            " |  Only the shapefile headers are read upon loading. Content\n",
            " |  within each file is only accessed when required and as\n",
            " |  efficiently as possible. Shapefiles are usually not large\n",
            " |  but they can be.\n",
            " |  \n",
            " |  Methods defined here:\n",
            " |  \n",
            " |  __del__(self)\n",
            " |  \n",
            " |  __enter__(self)\n",
            " |      Enter phase of context manager.\n",
            " |  \n",
            " |  __exit__(self, exc_type, exc_val, exc_tb)\n",
            " |      Exit phase of context manager, close opened files.\n",
            " |  \n",
            " |  __init__(self, *args, **kwargs)\n",
            " |      Initialize self.  See help(type(self)) for accurate signature.\n",
            " |  \n",
            " |  __iter__(self)\n",
            " |      Iterates through the shapes/records in the shapefile.\n",
            " |  \n",
            " |  __len__(self)\n",
            " |      Returns the number of shapes/records in the shapefile.\n",
            " |  \n",
            " |  __str__(self)\n",
            " |      Use some general info on the shapefile as __str__\n",
            " |  \n",
            " |  close(self)\n",
            " |  \n",
            " |  iterRecords(self)\n",
            " |      Returns a generator of records in a dbf file.\n",
            " |      Useful for large shapefiles or dbf files.\n",
            " |  \n",
            " |  iterShapeRecords(self)\n",
            " |      Returns a generator of combination geometry/attribute records for\n",
            " |      all records in a shapefile.\n",
            " |  \n",
            " |  iterShapes(self)\n",
            " |      Returns a generator of shapes in a shapefile. Useful\n",
            " |      for handling large shapefiles.\n",
            " |  \n",
            " |  load(self, shapefile=None)\n",
            " |      Opens a shapefile from a filename or file-like\n",
            " |      object. Normally this method would be called by the\n",
            " |      constructor with the file name as an argument.\n",
            " |  \n",
            " |  load_dbf(self, shapefile_name)\n",
            " |      Attempts to load file with .dbf extension as both lower and upper case\n",
            " |  \n",
            " |  load_shp(self, shapefile_name)\n",
            " |      Attempts to load file with .shp extension as both lower and upper case\n",
            " |  \n",
            " |  load_shx(self, shapefile_name)\n",
            " |      Attempts to load file with .shx extension as both lower and upper case\n",
            " |  \n",
            " |  record(self, i=0)\n",
            " |      Returns a specific dbf record based on the supplied index.\n",
            " |  \n",
            " |  records(self)\n",
            " |      Returns all records in a dbf file.\n",
            " |  \n",
            " |  shape(self, i=0)\n",
            " |      Returns a shape object for a shape in the geometry\n",
            " |      record file.\n",
            " |  \n",
            " |  shapeRecord(self, i=0)\n",
            " |      Returns a combination geometry and attribute record for the\n",
            " |      supplied record index.\n",
            " |  \n",
            " |  shapeRecords(self)\n",
            " |      Returns a list of combination geometry/attribute records for\n",
            " |      all records in a shapefile.\n",
            " |  \n",
            " |  shapes(self)\n",
            " |      Returns all shapes in a shapefile.\n",
            " |  \n",
            " |  ----------------------------------------------------------------------\n",
            " |  Data descriptors defined here:\n",
            " |  \n",
            " |  __dict__\n",
            " |      dictionary for instance variables (if defined)\n",
            " |  \n",
            " |  __geo_interface__\n",
            " |  \n",
            " |  __weakref__\n",
            " |      list of weak references to the object (if defined)\n",
            " |  \n",
            " |  shapeTypeName\n",
            "\n"
          ],
          "name": "stdout"
        }
      ]
    },
    {
      "cell_type": "code",
      "metadata": {
        "colab": {
          "base_uri": "https://localhost:8080/"
        },
        "id": "Fb7yIbqOcsKf",
        "outputId": "93ec802e-c061-4b6b-a914-5f2617dddb00"
      },
      "source": [
        "# https://stackoverflow.com/questions/8369219/how-to-read-a-text-file-into-a-string-variable-and-strip-newlines\n",
        "shpRef = open(shpPath+'.prj', 'r').read()\n",
        "print(shpRef)"
      ],
      "execution_count": null,
      "outputs": [
        {
          "output_type": "stream",
          "text": [
            "PROJCS[\"NAD_1983_UTM_Zone_20N\",GEOGCS[\"GCS_North_American_1983\",DATUM[\"D_North_American_1983\",SPHEROID[\"GRS_1980\",6378137.0,298.257222101]],PRIMEM[\"Greenwich\",0.0],UNIT[\"Degree\",0.0174532925199433]],PROJECTION[\"Transverse_Mercator\"],PARAMETER[\"False_Easting\",500000.0],PARAMETER[\"False_Northing\",0.0],PARAMETER[\"Central_Meridian\",-63.0],PARAMETER[\"Scale_Factor\",0.9996],PARAMETER[\"Latitude_Of_Origin\",0.0],UNIT[\"Meter\",1.0]]\n"
          ],
          "name": "stdout"
        }
      ]
    },
    {
      "cell_type": "code",
      "metadata": {
        "colab": {
          "base_uri": "https://localhost:8080/"
        },
        "id": "dvJYNWx0KvQj",
        "outputId": "6054e2a4-6ad3-4824-fdaf-55d05508f53e"
      },
      "source": [
        "len(shp)"
      ],
      "execution_count": null,
      "outputs": [
        {
          "output_type": "execute_result",
          "data": {
            "text/plain": [
              "28"
            ]
          },
          "metadata": {
            "tags": []
          },
          "execution_count": 17
        }
      ]
    },
    {
      "cell_type": "code",
      "metadata": {
        "colab": {
          "base_uri": "https://localhost:8080/"
        },
        "id": "7L--N4m9K0Z9",
        "outputId": "430570af-9923-4d63-e7c5-c09cddd10600"
      },
      "source": [
        "shp.shape(0).points"
      ],
      "execution_count": null,
      "outputs": [
        {
          "output_type": "execute_result",
          "data": {
            "text/plain": [
              "[(592548.211913704, 5054935.984943513),\n",
              " (592559.641936565, 5054937.889947325),\n",
              " (592572.5007122837, 5054934.873691291),\n",
              " (592590.4394981605, 5054925.031171603),\n",
              " (592598.5357643532, 5054915.029901607),\n",
              " (592597.1070114964, 5054909.791141126),\n",
              " (592587.1057414941, 5054908.83863922),\n",
              " (592577.4219721267, 5054912.331146203),\n",
              " (592567.5794524413, 5054917.8874073215),\n",
              " (592554.4031760884, 5054926.301174148),\n",
              " (592548.211913704, 5054935.984943513)]"
            ]
          },
          "metadata": {
            "tags": []
          },
          "execution_count": 18
        }
      ]
    },
    {
      "cell_type": "code",
      "metadata": {
        "colab": {
          "base_uri": "https://localhost:8080/"
        },
        "id": "7myAkGEXLUOy",
        "outputId": "e1a388fd-c33b-42ca-a604-b5d20b74062c"
      },
      "source": [
        "import numpy as np\n",
        "pt0 = np.array(shp.shape(0).points)\n",
        "print(pt0.shape)"
      ],
      "execution_count": null,
      "outputs": [
        {
          "output_type": "stream",
          "text": [
            "(11, 2)\n"
          ],
          "name": "stdout"
        }
      ]
    },
    {
      "cell_type": "code",
      "metadata": {
        "colab": {
          "base_uri": "https://localhost:8080/",
          "height": 276
        },
        "id": "qJ6kovcXLvO2",
        "outputId": "9dd0629c-1d33-483d-a053-d787ef48f1b1"
      },
      "source": [
        "import matplotlib.pyplot as plt\n",
        "plt.plot(pt0)\n",
        "plt.show()"
      ],
      "execution_count": null,
      "outputs": [
        {
          "output_type": "display_data",
          "data": {
            "image/png": "[encoded data removed]",
            "text/plain": [
              "<Figure size 432x288 with 1 Axes>"
            ]
          },
          "metadata": {
            "tags": [],
            "needs_background": "light"
          }
        }
      ]
    },
    {
      "cell_type": "code",
      "metadata": {
        "colab": {
          "base_uri": "https://localhost:8080/",
          "height": 276
        },
        "id": "3WP4WozdLH1G",
        "outputId": "9be6bcf1-8137-4d6e-ede7-b2d2999efa1b"
      },
      "source": [
        "plt.plot(*pt0.T)\n",
        "plt.show()"
      ],
      "execution_count": null,
      "outputs": [
        {
          "output_type": "display_data",
          "data": {
            "image/png": "[encoded data removed]",
            "text/plain": [
              "<Figure size 432x288 with 1 Axes>"
            ]
          },
          "metadata": {
            "tags": [],
            "needs_background": "light"
          }
        }
      ]
    },
    {
      "cell_type": "code",
      "metadata": {
        "colab": {
          "base_uri": "https://localhost:8080/"
        },
        "id": "mzgwAgzIMSqI",
        "outputId": "a06f17a7-75e7-47f7-869b-eedfb65f4adf"
      },
      "source": [
        "x,y = pt0.T\n",
        "print(x.min())\n",
        "print(x.max())\n",
        "print(y.min())\n",
        "print(y.max())"
      ],
      "execution_count": null,
      "outputs": [
        {
          "output_type": "stream",
          "text": [
            "592548.211913704\n",
            "592598.5357643532\n",
            "5054908.83863922\n",
            "5054937.889947325\n"
          ],
          "name": "stdout"
        }
      ]
    },
    {
      "cell_type": "code",
      "metadata": {
        "id": "CxSwmAd0MuYR"
      },
      "source": [
        "x-=x.min()\n",
        "y-=y.min()"
      ],
      "execution_count": null,
      "outputs": []
    },
    {
      "cell_type": "code",
      "metadata": {
        "colab": {
          "base_uri": "https://localhost:8080/",
          "height": 266
        },
        "id": "b8mN0qGYM1Ig",
        "outputId": "ac2ead24-8529-4c65-aedc-02ac0b3f6960"
      },
      "source": [
        "plt.plot(x,y)\n",
        "plt.show()"
      ],
      "execution_count": null,
      "outputs": [
        {
          "output_type": "display_data",
          "data": {
            "image/png": "[encoded data removed]",
            "text/plain": [
              "<Figure size 432x288 with 1 Axes>"
            ]
          },
          "metadata": {
            "tags": [],
            "needs_background": "light"
          }
        }
      ]
    },
    {
      "cell_type": "code",
      "metadata": {
        "id": "Qr3LlzChNa6f"
      },
      "source": [
        "xy = np.vstack((x,y)).T"
      ],
      "execution_count": null,
      "outputs": []
    },
    {
      "cell_type": "code",
      "metadata": {
        "colab": {
          "base_uri": "https://localhost:8080/"
        },
        "id": "elk5vhu9f56h",
        "outputId": "e9c4d2f0-8f3f-4b22-8a0a-298e2abdcc74"
      },
      "source": [
        "a = range(20)\n",
        "for e in a:\n",
        "  print(e)"
      ],
      "execution_count": null,
      "outputs": [
        {
          "output_type": "stream",
          "text": [
            "0\n",
            "1\n",
            "2\n",
            "3\n",
            "4\n",
            "5\n",
            "6\n",
            "7\n",
            "8\n",
            "9\n",
            "10\n",
            "11\n",
            "12\n",
            "13\n",
            "14\n",
            "15\n",
            "16\n",
            "17\n",
            "18\n",
            "19\n"
          ],
          "name": "stdout"
        }
      ]
    },
    {
      "cell_type": "code",
      "metadata": {
        "colab": {
          "base_uri": "https://localhost:8080/",
          "height": 261
        },
        "id": "pnpTuBOXMBkm",
        "outputId": "3ead47c3-fc9d-47b6-f36d-cc6ee00209bc"
      },
      "source": [
        "from matplotlib.path import Path\n",
        "\n",
        "nx, ny = int(x.max()), int(y.max())\n",
        "poly_verts = pt0\n",
        "\n",
        "# Create vertex coordinates for each grid cell...\n",
        "# (<0,0> is at the top left of the grid in this system)\n",
        "j, k = np.meshgrid(np.arange(nx), np.arange(ny))\n",
        "j, k = j.flatten(), k.flatten()\n",
        "\n",
        "points = np.vstack((j,k)).T\n",
        "\n",
        "path = Path(xy)\n",
        "grid = path.contains_points(points)\n",
        "grid = grid.reshape((ny,nx))\n",
        "\n",
        "grid = np.flipud(grid)\n",
        "\n",
        "plt.imshow(grid)\n",
        "plt.show()\n",
        "print(grid.min(), grid.max())\n",
        "\n",
        "# https://stackoverflow.com/questions/3654289/scipy-create-2d-polygon-mask"
      ],
      "execution_count": null,
      "outputs": [
        {
          "output_type": "display_data",
          "data": {
            "image/png": "[encoded data removed]",
            "text/plain": [
              "<Figure size 432x288 with 1 Axes>"
            ]
          },
          "metadata": {
            "tags": [],
            "needs_background": "light"
          }
        },
        {
          "output_type": "stream",
          "text": [
            "False True\n"
          ],
          "name": "stdout"
        }
      ]
    },
    {
      "cell_type": "code",
      "metadata": {
        "colab": {
          "base_uri": "https://localhost:8080/",
          "height": 265
        },
        "id": "yqF5rMyxgc7w",
        "outputId": "ce6b9f92-a8d2-43eb-c5d3-3d8898e8667d"
      },
      "source": [
        "plt.scatter(j,k)\n",
        "plt.show()"
      ],
      "execution_count": null,
      "outputs": [
        {
          "output_type": "display_data",
          "data": {
            "image/png": "[encoded data removed]",
            "text/plain": [
              "<Figure size 432x288 with 1 Axes>"
            ]
          },
          "metadata": {
            "tags": [],
            "needs_background": "light"
          }
        }
      ]
    },
    {
      "cell_type": "code",
      "metadata": {
        "colab": {
          "base_uri": "https://localhost:8080/"
        },
        "id": "ADzm74xAPan3",
        "outputId": "b581baeb-7570-4e6f-e90f-beb0cfb52848"
      },
      "source": [
        "shp.record(0)"
      ],
      "execution_count": null,
      "outputs": [
        {
          "output_type": "execute_result",
          "data": {
            "text/plain": [
              "Record #0: [1, 'Eelgrass']"
            ]
          },
          "metadata": {
            "tags": []
          },
          "execution_count": 20
        }
      ]
    },
    {
      "cell_type": "code",
      "metadata": {
        "id": "NDLcOZDSP0_a"
      },
      "source": [
        "code = shp.record(0)[0]"
      ],
      "execution_count": null,
      "outputs": []
    },
    {
      "cell_type": "code",
      "metadata": {
        "colab": {
          "base_uri": "https://localhost:8080/",
          "height": 261
        },
        "id": "75iL1bv3PsHe",
        "outputId": "825c7236-42a0-44a0-99e0-3df43096c23f"
      },
      "source": [
        "grid = grid.astype(float)\n",
        "grid*=code\n",
        "\n",
        "plt.imshow(grid)\n",
        "plt.show()\n",
        "print(grid.min(), grid.max())"
      ],
      "execution_count": null,
      "outputs": [
        {
          "output_type": "display_data",
          "data": {
            "image/png": "[encoded data removed]",
            "text/plain": [
              "<Figure size 432x288 with 1 Axes>"
            ]
          },
          "metadata": {
            "tags": [],
            "needs_background": "light"
          }
        },
        {
          "output_type": "stream",
          "text": [
            "0.0 1.0\n"
          ],
          "name": "stdout"
        }
      ]
    },
    {
      "cell_type": "markdown",
      "metadata": {
        "id": "apqr2B9oT2iv"
      },
      "source": [
        "# lets try it on our raster"
      ]
    },
    {
      "cell_type": "code",
      "metadata": {
        "colab": {
          "base_uri": "https://localhost:8080/"
        },
        "id": "8HRX66oOT40p",
        "outputId": "d05afce5-213f-45ec-a488-6bc7a199d013"
      },
      "source": [
        "!wget -O PQ_Lidar_DEMo13.tif https://nscc-my.sharepoint.com/:i:/g/personal/w0001006_campus_nscc_ca/ETLMGXbg1GpKph8-J0TNs60B-wdefo7rmRwp6FNMdkVOUw?download=1"
      ],
      "execution_count": null,
      "outputs": [
        {
          "output_type": "stream",
          "text": [
            "--2021-04-03 21:02:30--  https://nscc-my.sharepoint.com/:i:/g/personal/w0001006_campus_nscc_ca/ETLMGXbg1GpKph8-J0TNs60B-wdefo7rmRwp6FNMdkVOUw?download=1\n",
            "Resolving nscc-my.sharepoint.com (nscc-my.sharepoint.com)... 13.107.136.9\n",
            "Connecting to nscc-my.sharepoint.com (nscc-my.sharepoint.com)|13.107.136.9|:443... connected.\n",
            "HTTP request sent, awaiting response... 302 Found\n",
            "Location: /personal/w0001006_campus_nscc_ca/Documents/For_Kevin/Revised/2018_North_Lidar_Filled_DEMo13.tif?originalPath=aHR0cHM6Ly9uc2NjLW15LnNoYXJlcG9pbnQuY29tLzppOi9nL3BlcnNvbmFsL3cwMDAxMDA2X2NhbXB1c19uc2NjX2NhL0VUTE1HWGJnMUdwS3BoOC1KMFROczYwQi13ZGVmbzdybVJ3cDZGTk1ka1ZPVXc_cnRpbWU9eE10aXpPUDIyRWc [following]\n",
            "--2021-04-03 21:02:32--  https://nscc-my.sharepoint.com/personal/w0001006_campus_nscc_ca/Documents/For_Kevin/Revised/2018_North_Lidar_Filled_DEMo13.tif?originalPath=aHR0cHM6Ly9uc2NjLW15LnNoYXJlcG9pbnQuY29tLzppOi9nL3BlcnNvbmFsL3cwMDAxMDA2X2NhbXB1c19uc2NjX2NhL0VUTE1HWGJnMUdwS3BoOC1KMFROczYwQi13ZGVmbzdybVJ3cDZGTk1ka1ZPVXc_cnRpbWU9eE10aXpPUDIyRWc\n",
            "Reusing existing connection to nscc-my.sharepoint.com:443.\n",
            "HTTP request sent, awaiting response... 200 OK\n",
            "Length: 393577231 (375M) [image/tiff]\n",
            "Saving to: ‘PQ_Lidar_DEMo13.tif’\n",
            "\n",
            "PQ_Lidar_DEMo13.tif 100%[===================>] 375.34M  24.6MB/s    in 38s     \n",
            "\n",
            "2021-04-03 21:03:11 (9.98 MB/s) - ‘PQ_Lidar_DEMo13.tif’ saved [393577231/393577231]\n",
            "\n"
          ],
          "name": "stdout"
        }
      ]
    },
    {
      "cell_type": "code",
      "metadata": {
        "colab": {
          "base_uri": "https://localhost:8080/"
        },
        "id": "heo82cwTU4Da",
        "outputId": "e2a94993-7426-4cd3-da47-549719b54e7c"
      },
      "source": [
        "!ls"
      ],
      "execution_count": null,
      "outputs": [
        {
          "output_type": "stream",
          "text": [
            "benthic_ground_truth.cpg  benthic_ground_truth.sbx  PQ_Lidar_DEMo13.tif\n",
            "benthic_ground_truth.dbf  benthic_ground_truth.shp  sample_data\n",
            "benthic_ground_truth.prj  benthic_ground_truth.shx\n",
            "benthic_ground_truth.sbn  benthic_ground_truth.zip\n"
          ],
          "name": "stdout"
        }
      ]
    },
    {
      "cell_type": "code",
      "metadata": {
        "colab": {
          "base_uri": "https://localhost:8080/"
        },
        "id": "pcAQb3WlUytp",
        "outputId": "4d2880a5-db84-4297-dc62-3f1cc76b4fb2"
      },
      "source": [
        "import imageio\n",
        "demPath = 'PQ_Lidar_DEMo13.tif'\n",
        "dem = imageio.imread(demPath)\n",
        "print(dem.shape, dem.size)\n",
        "print(dem.max(), dem.min())"
      ],
      "execution_count": null,
      "outputs": [
        {
          "output_type": "stream",
          "text": [
            "(9613, 10067) 96774071\n",
            "62.141193 -3.402823e+38\n"
          ],
          "name": "stdout"
        }
      ]
    },
    {
      "cell_type": "code",
      "metadata": {
        "colab": {
          "base_uri": "https://localhost:8080/"
        },
        "id": "UNKmA1i4VTjP",
        "outputId": "fe6e2b93-2f03-469f-c005-5f7e083fbda8"
      },
      "source": [
        "# https://stackoverflow.com/questions/55040017/read-tiff-tags-in-python\n",
        "import tifffile\n",
        "with tifffile.TiffFile(demPath) as tif:\n",
        "    tif_tags = {}\n",
        "    for tag in tif.pages[0].tags.values():\n",
        "        name, value = tag.name, tag.value\n",
        "        tif_tags[name] = value\n",
        "    # image = tif.pages[0].asarray()\n",
        "\n",
        "# dir(tif_tags)\n",
        "for i in tif_tags.keys():\n",
        "  print(i)\n",
        "\n"
      ],
      "execution_count": null,
      "outputs": [
        {
          "output_type": "stream",
          "text": [
            "ImageWidth\n",
            "ImageLength\n",
            "BitsPerSample\n",
            "Compression\n",
            "PhotometricInterpretation\n",
            "SamplesPerPixel\n",
            "PlanarConfiguration\n",
            "TileWidth\n",
            "TileLength\n",
            "TileOffsets\n",
            "TileByteCounts\n",
            "SampleFormat\n",
            "ModelPixelScaleTag\n",
            "ModelTiepointTag\n",
            "GeoKeyDirectoryTag\n",
            "GeoDoubleParamsTag\n",
            "GeoAsciiParamsTag\n",
            "GDAL_METADATA\n",
            "GDAL_NODATA\n"
          ],
          "name": "stdout"
        }
      ]
    },
    {
      "cell_type": "code",
      "metadata": {
        "colab": {
          "base_uri": "https://localhost:8080/"
        },
        "id": "D76kcStliZ_q",
        "outputId": "9863a2ca-4326-483f-b8f5-e0bccf05e07b"
      },
      "source": [
        "tif_tags['SampleFormat']"
      ],
      "execution_count": null,
      "outputs": [
        {
          "output_type": "execute_result",
          "data": {
            "text/plain": [
              "<SAMPLEFORMAT.IEEEFP: 3>"
            ]
          },
          "metadata": {
            "tags": []
          },
          "execution_count": 38
        }
      ]
    },
    {
      "cell_type": "code",
      "metadata": {
        "colab": {
          "base_uri": "https://localhost:8080/"
        },
        "id": "MYuzzBPbayBc",
        "outputId": "b91044bc-f546-466a-da56-32152653d37c"
      },
      "source": [
        "# https://stackoverflow.com/questions/5904969/how-to-print-a-dictionarys-key\n",
        "for i in tif_tags.keys():\n",
        "  print(i)\n",
        "  print(' ',tif_tags[i])"
      ],
      "execution_count": null,
      "outputs": [
        {
          "output_type": "stream",
          "text": [
            "ImageWidth\n",
            "  10067\n",
            "ImageLength\n",
            "  9613\n",
            "BitsPerSample\n",
            "  32\n",
            "Compression\n",
            "  COMPRESSION.NONE\n",
            "PhotometricInterpretation\n",
            "  PHOTOMETRIC.MINISBLACK\n",
            "SamplesPerPixel\n",
            "  1\n",
            "PlanarConfiguration\n",
            "  PLANARCONFIG.CONTIG\n",
            "TileWidth\n",
            "  128\n",
            "TileLength\n",
            "  128\n",
            "TileOffsets\n",
            "  (208322693, 208388229, 208453765, 208519301, 208584837, 208650373, 208715909, 208781445, 208846981, 208912517, 208978053, 209043589, 209109125, 209174661, 209240197, 209305733, 209371269, 209436805, 209502341, 209567877, 209633413, 209698949, 209764485, 209830021, 209895557, 209961093, 210026629, 49285, 114821, 180357, 245893, 210092165, 210157701, 210223237, 210288773, 210354309, 210419845, 210485381, 210550917, 210616453, 210681989, 210747525, 210813061, 210878597, 210944133, 211009669, 211075205, 211140741, 211206277, 211271813, 211337349, 211402885, 211468421, 211533957, 211599493, 211665029, 211730565, 211796101, 211861637, 211927173, 211992709, 212058245, 212123781, 212189317, 212254853, 212320389, 212385925, 212451461, 212516997, 212582533, 212648069, 212713605, 212779141, 212844677, 212910213, 212975749, 213041285, 213106821, 213172357, 213237893, 213303429, 213368965, 213434501, 213500037, 213565573, 213631109, 213696645, 213762181, 213827717, 213893253, 213958789, 214024325, 214089861, 214155397, 214220933, 214286469, 214352005, 214417541, 214483077, 214548613, 214614149, 214679685, 214745221, 214810757, 214876293, 311429, 376965, 442501, 508037, 573573, 639109, 214941829, 215007365, 215072901, 215138437, 215203973, 215269509, 215335045, 215400581, 215466117, 215531653, 215597189, 215662725, 215728261, 215793797, 215859333, 215924869, 215990405, 216055941, 216121477, 216187013, 216252549, 216318085, 216383621, 216449157, 216514693, 216580229, 216645765, 216711301, 216776837, 216842373, 216907909, 216973445, 217038981, 217104517, 217170053, 217235589, 217301125, 217366661, 217432197, 217497733, 217563269, 217628805, 217694341, 217759877, 217825413, 217890949, 217956485, 218022021, 218087557, 218153093, 218218629, 218284165, 218349701, 218415237, 218480773, 218546309, 218611845, 218677381, 218742917, 218808453, 218873989, 218939525, 219005061, 219070597, 219136133, 219201669, 219267205, 219332741, 219398277, 219463813, 219529349, 219594885, 704645, 770181, 835717, 901253, 966789, 1032325, 1097861, 1687685, 1753221, 219660421, 219725957, 219791493, 219857029, 219922565, 219988101, 220053637, 220119173, 220184709, 220250245, 220315781, 220381317, 220446853, 220512389, 220577925, 220643461, 220708997, 220774533, 220840069, 220905605, 220971141, 221036677, 221102213, 221167749, 221233285, 221298821, 221364357, 221429893, 221495429, 221560965, 221626501, 221692037, 221757573, 221823109, 221888645, 221954181, 222019717, 222085253, 222150789, 222216325, 222281861, 222347397, 222412933, 222478469, 222544005, 222609541, 222675077, 222740613, 222806149, 222871685, 222937221, 223002757, 223068293, 223133829, 223199365, 223264901, 223330437, 223395973, 223461509, 223527045, 223592581, 223658117, 223723653, 223789189, 223854725, 223920261, 223985797, 224051333, 224116869, 1163397, 1228933, 1294469, 1360005, 1425541, 1491077, 1556613, 1622149, 1818757, 1884293, 1949829, 2015365, 224182405, 224247941, 224313477, 224379013, 224444549, 224510085, 224575621, 224641157, 224706693, 224772229, 224837765, 224903301, 224968837, 225034373, 225099909, 225165445, 225230981, 225296517, 225362053, 225427589, 225493125, 225558661, 225624197, 225689733, 225755269, 225820805, 225886341, 225951877, 226017413, 226082949, 226148485, 226214021, 226279557, 226345093, 226410629, 226476165, 226541701, 226607237, 226672773, 226738309, 226803845, 226869381, 226934917, 227000453, 227065989, 227131525, 227197061, 227262597, 227328133, 227393669, 227459205, 227524741, 227590277, 227655813, 227721349, 227786885, 227852421, 227917957, 227983493, 228049029, 228114565, 228180101, 228245637, 228311173, 228376709, 228442245, 2080901, 2146437, 2211973, 2277509, 2343045, 2408581, 2474117, 2539653, 2605189, 4767877, 4833413, 4898949, 4964485, 5030021, 5095557, 228507781, 228573317, 228638853, 228704389, 228769925, 228835461, 228900997, 228966533, 229032069, 229097605, 229163141, 229228677, 229294213, 229359749, 229425285, 229490821, 229556357, 229621893, 229687429, 229752965, 229818501, 229884037, 229949573, 230015109, 230080645, 230146181, 230211717, 230277253, 230342789, 230408325, 230473861, 230539397, 230604933, 230670469, 230736005, 230801541, 230867077, 230932613, 230998149, 231063685, 231129221, 231194757, 231260293, 231325829, 231391365, 231456901, 231522437, 231587973, 231653509, 231719045, 231784581, 231850117, 231915653, 231981189, 232046725, 232112261, 232177797, 232243333, 232308869, 232374405, 232439941, 232505477, 232571013, 2670725, 2736261, 2801797, 2867333, 2932869, 2998405, 3063941, 3129477, 3195013, 3260549, 5161093, 5226629, 5292165, 5357701, 5423237, 5488773, 5554309, 232636549, 232702085, 232767621, 232833157, 232898693, 232964229, 233029765, 233095301, 233160837, 233226373, 233291909, 233357445, 233422981, 233488517, 233554053, 233619589, 233685125, 233750661, 233816197, 233881733, 233947269, 234012805, 234078341, 234143877, 234209413, 234274949, 234340485, 234406021, 234471557, 234537093, 234602629, 234668165, 234733701, 234799237, 234864773, 234930309, 234995845, 235061381, 235126917, 235192453, 235257989, 235323525, 235389061, 235454597, 235520133, 235585669, 235651205, 235716741, 235782277, 235847813, 235913349, 235978885, 236044421, 236109957, 236175493, 236241029, 236306565, 236372101, 236437637, 236503173, 236568709, 3326085, 3391621, 3457157, 3522693, 3588229, 3653765, 3719301, 3784837, 3850373, 3915909, 3981445, 5619845, 5685381, 5750917, 5816453, 5881989, 5947525, 6013061, 6078597, 6144133, 236634245, 236699781, 236765317, 236830853, 236896389, 236961925, 237027461, 237092997, 237158533, 237224069, 237289605, 237355141, 237420677, 237486213, 237551749, 237617285, 237682821, 237748357, 237813893, 237879429, 237944965, 238010501, 238076037, 238141573, 238207109, 238272645, 238338181, 238403717, 238469253, 238534789, 238600325, 238665861, 238731397, 238796933, 238862469, 238928005, 238993541, 239059077, 239124613, 239190149, 239255685, 239321221, 239386757, 239452293, 239517829, 239583365, 239648901, 239714437, 239779973, 239845509, 239911045, 239976581, 240042117, 240107653, 240173189, 240238725, 240304261, 240369797, 240435333, 4046981, 4112517, 4178053, 4243589, 4309125, 4374661, 4440197, 4505733, 4571269, 4636805, 4702341, 6209669, 6275205, 6340741, 6406277, 6471813, 6537349, 6602885, 6668421, 6733957, 6799493, 6865029, 240500869, 240566405, 240631941, 240697477, 240763013, 240828549, 240894085, 240959621, 241025157, 241090693, 241156229, 241221765, 241287301, 241352837, 241418373, 241483909, 241549445, 241614981, 241680517, 241746053, 241811589, 241877125, 241942661, 242008197, 242073733, 242139269, 242204805, 242270341, 242335877, 242401413, 242466949, 242532485, 242598021, 242663557, 242729093, 242794629, 242860165, 242925701, 242991237, 243056773, 243122309, 243187845, 243253381, 243318917, 243384453, 243449989, 243515525, 243581061, 243646597, 243712133, 243777669, 243843205, 243908741, 243974277, 244039813, 244105349, 6930565, 6996101, 7061637, 7127173, 7192709, 7258245, 7323781, 7389317, 7454853, 7520389, 7585925, 7651461, 10469509, 10535045, 10600581, 10666117, 10731653, 10797189, 10862725, 10928261, 10993797, 11059333, 11124869, 11190405, 11255941, 244170885, 244236421, 244301957, 244367493, 244433029, 244498565, 244564101, 244629637, 244695173, 244760709, 244826245, 244891781, 244957317, 245022853, 245088389, 245153925, 245219461, 245284997, 245350533, 245416069, 245481605, 245547141, 245612677, 245678213, 245743749, 245809285, 245874821, 245940357, 246005893, 246071429, 246136965, 246202501, 246268037, 246333573, 246399109, 246464645, 246530181, 246595717, 246661253, 246726789, 246792325, 246857861, 246923397, 246988933, 247054469, 247120005, 247185541, 247251077, 247316613, 247382149, 247447685, 247513221, 247578757, 7716997, 7782533, 7848069, 7913605, 7979141, 8044677, 8110213, 8175749, 8241285, 8306821, 8372357, 8437893, 8503429, 11321477, 11387013, 11452549, 11518085, 11583621, 11649157, 11714693, 11780229, 11845765, 11911301, 11976837, 12042373, 12107909, 12173445, 247644293, 247709829, 247775365, 247840901, 247906437, 247971973, 248037509, 248103045, 248168581, 248234117, 248299653, 248365189, 248430725, 248496261, 248561797, 248627333, 248692869, 248758405, 248823941, 248889477, 248955013, 249020549, 249086085, 249151621, 249217157, 249282693, 249348229, 249413765, 249479301, 249544837, 249610373, 249675909, 249741445, 249806981, 249872517, 249938053, 250003589, 250069125, 250134661, 250200197, 250265733, 250331269, 250396805, 250462341, 250527877, 250593413, 250658949, 250724485, 250790021, 250855557, 250921093, 8568965, 8634501, 8700037, 8765573, 8831109, 8896645, 8962181, 9027717, 9093253, 9158789, 9224325, 9289861, 9355397, 9420933, 12238981, 12304517, 12370053, 12435589, 12501125, 12566661, 12632197, 12697733, 12763269, 12828805, 12894341, 12959877, 13025413, 13090949, 13156485, 250986629, 251052165, 251117701, 251183237, 251248773, 251314309, 251379845, 251445381, 251510917, 251576453, 251641989, 251707525, 251773061, 251838597, 251904133, 251969669, 252035205, 252100741, 252166277, 252231813, 252297349, 252362885, 252428421, 252493957, 252559493, 252625029, 252690565, 252756101, 252821637, 252887173, 252952709, 253018245, 253083781, 253149317, 253214853, 253280389, 253345925, 253411461, 253476997, 253542533, 253608069, 253673605, 253739141, 253804677, 253870213, 253935749, 254001285, 254066821, 254132357, 9486469, 9552005, 9617541, 9683077, 9748613, 9814149, 9879685, 9945221, 10010757, 10076293, 10141829, 10207365, 10272901, 10338437, 10403973, 13222021, 13287557, 13353093, 13418629, 13484165, 13549701, 13615237, 13680773, 13746309, 13811845, 13877381, 13942917, 14008453, 14073989, 14139525, 254197893, 254263429, 254328965, 254394501, 254460037, 254525573, 254591109, 254656645, 254722181, 254787717, 254853253, 254918789, 254984325, 255049861, 255115397, 255180933, 255246469, 255312005, 255377541, 255443077, 255508613, 255574149, 255639685, 255705221, 255770757, 255836293, 255901829, 255967365, 256032901, 256098437, 256163973, 256229509, 256295045, 256360581, 256426117, 256491653, 256557189, 256622725, 256688261, 256753797, 256819333, 256884869, 256950405, 257015941, 257081477, 257147013, 257212549, 257278085, 14598277, 14663813, 14729349, 14794885, 14860421, 14925957, 14991493, 15057029, 15122565, 15188101, 15253637, 15319173, 15384709, 15450245, 15515781, 15581317, 18792581, 18858117, 18923653, 18989189, 19054725, 19120261, 19185797, 19251333, 19316869, 19382405, 19447941, 19513477, 19579013, 19644549, 19710085, 19775621, 257343621, 257409157, 257474693, 257540229, 257605765, 257671301, 257736837, 257802373, 257867909, 257933445, 257998981, 258064517, 258130053, 258195589, 258261125, 258326661, 258392197, 258457733, 258523269, 258588805, 258654341, 258719877, 258785413, 258850949, 258916485, 258982021, 259047557, 259113093, 259178629, 259244165, 259309701, 259375237, 259440773, 259506309, 259571845, 259637381, 259702917, 259768453, 259833989, 259899525, 259965061, 260030597, 260096133, 260161669, 260227205, 260292741, 14205061, 15646853, 15712389, 15777925, 15843461, 15908997, 15974533, 16040069, 16105605, 16171141, 16236677, 16302213, 16367749, 16433285, 16498821, 16564357, 16629893, 19841157, 19906693, 19972229, 20037765, 20103301, 20168837, 20234373, 20299909, 20365445, 20430981, 20496517, 20562053, 20627589, 20693125, 20758661, 20824197, 22986885, 260358277, 260423813, 260489349, 260554885, 260620421, 260685957, 260751493, 260817029, 260882565, 260948101, 261013637, 261079173, 261144709, 261210245, 261275781, 261341317, 261406853, 261472389, 261537925, 261603461, 261668997, 261734533, 261800069, 261865605, 261931141, 261996677, 262062213, 262127749, 262193285, 262258821, 262324357, 262389893, 262455429, 262520965, 262586501, 262652037, 262717573, 262783109, 262848645, 262914181, 262979717, 263045253, 263110789, 263176325, 14270597, 14336133, 16695429, 16760965, 16826501, 16892037, 16957573, 17023109, 17088645, 17154181, 17219717, 17285253, 17350789, 17416325, 17481861, 17547397, 17612933, 17678469, 20889733, 20955269, 21020805, 21086341, 21151877, 21217413, 21282949, 21348485, 21414021, 21479557, 21545093, 21610629, 21676165, 21741701, 21807237, 21872773, 23052421, 23117957, 23183493, 23249029, 263241861, 263307397, 263372933, 263438469, 263504005, 263569541, 263635077, 263700613, 263766149, 263831685, 263897221, 263962757, 264028293, 264093829, 264159365, 264224901, 264290437, 264355973, 264421509, 264487045, 264552581, 264618117, 264683653, 264749189, 264814725, 264880261, 264945797, 265011333, 265076869, 265142405, 265207941, 265273477, 265339013, 265404549, 265470085, 265535621, 265601157, 265666693, 265732229, 265797765, 14401669, 14467205, 14532741, 17744005, 17809541, 17875077, 17940613, 18006149, 18071685, 18137221, 18202757, 18268293, 18333829, 18399365, 18464901, 18530437, 18595973, 18661509, 18727045, 21938309, 22003845, 22069381, 22134917, 22200453, 22265989, 22331525, 22397061, 22462597, 22528133, 22593669, 22659205, 22724741, 22790277, 22855813, 22921349, 23314565, 23380101, 23445637, 23511173, 23576709, 23642245, 23707781, 265863301, 265928837, 265994373, 266059909, 266125445, 266190981, 266256517, 266322053, 266387589, 266453125, 266518661, 266584197, 266649733, 266715269, 266780805, 266846341, 266911877, 266977413, 267042949, 267108485, 267174021, 267239557, 267305093, 267370629, 267436165, 267501701, 267567237, 267632773, 267698309, 267763845, 267829381, 267894917, 267960453, 268025989, 268091525, 268157061, 23773317, 23838853, 23904389, 23969925, 25018501, 25084037, 25149573, 25215109, 25280645, 25346181, 25411717, 25477253, 25542789, 25608325, 25673861, 25739397, 25804933, 25870469, 25936005, 26001541, 29212805, 29278341, 29343877, 29409413, 29474949, 29540485, 29606021, 29671557, 29737093, 29802629, 29868165, 29933701, 29999237, 30064773, 30130309, 30195845, 33407109, 33472645, 33538181, 33603717, 33669253, 33734789, 33800325, 33865861, 33931397, 33996933, 268222597, 268288133, 268353669, 268419205, 268484741, 268550277, 268615813, 268681349, 268746885, 268812421, 268877957, 268943493, 269009029, 269074565, 269140101, 269205637, 269271173, 269336709, 269402245, 269467781, 269533317, 269598853, 269664389, 269729925, 269795461, 269860997, 269926533, 269992069, 270057605, 270123141, 270188677, 270254213, 270319749, 24035461, 24100997, 24166533, 24232069, 26067077, 26132613, 26198149, 26263685, 26329221, 26394757, 26460293, 26525829, 26591365, 26656901, 26722437, 26787973, 26853509, 26919045, 26984581, 27050117, 30261381, 30326917, 30392453, 30457989, 30523525, 30589061, 30654597, 30720133, 30785669, 30851205, 30916741, 30982277, 31047813, 31113349, 31178885, 31244421, 34062469, 34128005, 34193541, 34259077, 34324613, 34390149, 34455685, 34521221, 34586757, 34652293, 34717829, 34783365, 270385285, 270450821, 270516357, 270581893, 270647429, 270712965, 270778501, 270844037, 270909573, 270975109, 271040645, 271106181, 271171717, 271237253, 271302789, 271368325, 271433861, 271499397, 271564933, 271630469, 271696005, 271761541, 271827077, 271892613, 271958149, 272023685, 272089221, 272154757, 272220293, 272285829, 24297605, 24363141, 24428677, 24494213, 24559749, 27115653, 27181189, 27246725, 27312261, 27377797, 27443333, 27508869, 27574405, 27639941, 27705477, 27771013, 27836549, 27902085, 27967621, 28033157, 28098693, 31309957, 31375493, 31441029, 31506565, 31572101, 31637637, 31703173, 31768709, 31834245, 31899781, 31965317, 32030853, 32096389, 32161925, 32227461, 32292997, 34848901, 34914437, 34979973, 35045509, 35111045, 35176581, 35242117, 35307653, 35373189, 35438725, 35504261, 35569797, 35635333, 35700869, 35766405, 272351365, 272416901, 272482437, 272547973, 272613509, 272679045, 272744581, 272810117, 272875653, 272941189, 273006725, 273072261, 273137797, 273203333, 273268869, 273334405, 273399941, 273465477, 273531013, 273596549, 273662085, 273727621, 273793157, 273858693, 273924229, 273989765, 24625285, 24690821, 24756357, 24821893, 24887429, 24952965, 28164229, 28229765, 28295301, 28360837, 28426373, 28491909, 28557445, 28622981, 28688517, 28754053, 28819589, 28885125, 28950661, 29016197, 29081733, 29147269, 32358533, 32424069, 32489605, 32555141, 32620677, 32686213, 32751749, 32817285, 32882821, 32948357, 33013893, 33079429, 33144965, 33210501, 33276037, 33341573, 35831941, 35897477, 35963013, 36028549, 36094085, 36159621, 36225157, 36290693, 36356229, 36421765, 36487301, 36552837, 36618373, 36683909, 36749445, 36814981, 36880517, 274055301, 274120837, 274186373, 274251909, 274317445, 274382981, 274448517, 274514053, 274579589, 274645125, 274710661, 274776197, 274841733, 274907269, 274972805, 275038341, 275103877, 275169413, 275234949, 275300485, 275366021, 275431557, 275497093, 36946053, 37011589, 37077125, 37142661, 37208197, 37273733, 37339269, 39174277, 39239813, 39305349, 39370885, 39436421, 39501957, 39567493, 39633029, 39698565, 39764101, 39829637, 39895173, 39960709, 40026245, 40091781, 40157317, 43368581, 43434117, 43499653, 43565189, 43630725, 43696261, 43761797, 43827333, 43892869, 43958405, 44023941, 44089477, 44155013, 44220549, 44286085, 44351621, 47562885, 47628421, 47693957, 47759493, 47825029, 47890565, 47956101, 48021637, 48087173, 48152709, 48218245, 48283781, 48349317, 48414853, 48480389, 48545925, 51757189, 51822725, 275562629, 275628165, 275693701, 275759237, 275824773, 275890309, 275955845, 276021381, 276086917, 276152453, 276217989, 276283525, 276349061, 276414597, 276480133, 276545669, 276611205, 276676741, 276742277, 276807813, 276873349, 37404805, 37470341, 37535877, 37601413, 37666949, 37732485, 37798021, 37863557, 40222853, 40288389, 40353925, 40419461, 40484997, 40550533, 40616069, 40681605, 40747141, 40812677, 40878213, 40943749, 41009285, 41074821, 41140357, 41205893, 44417157, 44482693, 44548229, 44613765, 44679301, 44744837, 44810373, 44875909, 44941445, 45006981, 45072517, 45138053, 45203589, 45269125, 45334661, 45400197, 48611461, 48676997, 48742533, 48808069, 48873605, 48939141, 49004677, 49070213, 49135749, 49201285, 49266821, 49332357, 49397893, 49463429, 49528965, 49594501, 51888261, 51953797, 52019333, 52084869, 276938885, 277004421, 277069957, 277135493, 277201029, 277266565, 277332101, 277397637, 277463173, 277528709, 277594245, 277659781, 277725317, 277790853, 277856389, 277921925, 277987461, 278052997, 37929093, 37994629, 38060165, 38125701, 38191237, 38256773, 38322309, 38387845, 38453381, 41271429, 41336965, 41402501, 41468037, 41533573, 41599109, 41664645, 41730181, 41795717, 41861253, 41926789, 41992325, 42057861, 42123397, 42188933, 42254469, 45465733, 45531269, 45596805, 45662341, 45727877, 45793413, 45858949, 45924485, 45990021, 46055557, 46121093, 46186629, 46252165, 46317701, 46383237, 46448773, 49660037, 49725573, 49791109, 49856645, 49922181, 49987717, 50053253, 50118789, 50184325, 50249861, 50315397, 50380933, 50446469, 50512005, 50577541, 50643077, 52150405, 52215941, 52281477, 52347013, 52412549, 52478085, 278118533, 278184069, 278249605, 278315141, 278380677, 278446213, 278511749, 278577285, 278642821, 278708357, 278773893, 278839429, 278904965, 278970501, 279036037, 38518917, 38584453, 38649989, 38715525, 38781061, 38846597, 38912133, 38977669, 39043205, 39108741, 42320005, 42385541, 42451077, 42516613, 42582149, 42647685, 42713221, 42778757, 42844293, 42909829, 42975365, 43040901, 43106437, 43171973, 43237509, 43303045, 46514309, 46579845, 46645381, 46710917, 46776453, 46841989, 46907525, 46973061, 47038597, 47104133, 47169669, 47235205, 47300741, 47366277, 47431813, 47497349, 50708613, 50774149, 50839685, 50905221, 50970757, 51036293, 51101829, 51167365, 51232901, 51298437, 51363973, 51429509, 51495045, 51560581, 51626117, 51691653, 52543621, 52609157, 52674693, 52740229, 52805765, 52871301, 52936837, 53002373, 279101573, 279167109, 279232645, 279298181, 279363717, 279429253, 279494789, 279560325, 279625861, 279691397, 279756933, 279822469, 53067909, 53133445, 53198981, 53264517, 53330053, 53395589, 53461125, 53526661, 53592197, 53657733, 53723269, 56344709, 56410245, 56475781, 56541317, 56606853, 56672389, 56737925, 56803461, 56868997, 56934533, 57000069, 57065605, 57131141, 57196677, 57262213, 57327749, 60539013, 60604549, 60670085, 60735621, 60801157, 60866693, 60932229, 60997765, 61063301, 61128837, 61194373, 61259909, 61325445, 61390981, 61456517, 61522053, 64733317, 64798853, 64864389, 64929925, 64995461, 65060997, 65126533, 65192069, 65257605, 65323141, 65388677, 65454213, 65519749, 65585285, 65650821, 65716357, 68927621, 68993157, 69058693, 69124229, 69189765, 69255301, 69320837, 69386373, 69451909, 69517445, 279888005, 279953541, 280019077, 280084613, 280150149, 280215685, 280281221, 280346757, 280412293, 53788805, 53854341, 53919877, 53985413, 54050949, 54116485, 54182021, 54247557, 54313093, 54378629, 54444165, 54509701, 57393285, 57458821, 57524357, 57589893, 57655429, 57720965, 57786501, 57852037, 57917573, 57983109, 58048645, 58114181, 58179717, 58245253, 58310789, 58376325, 61587589, 61653125, 61718661, 61784197, 61849733, 61915269, 61980805, 62046341, 62111877, 62177413, 62242949, 62308485, 62374021, 62439557, 62505093, 62570629, 65781893, 65847429, 65912965, 65978501, 66044037, 66109573, 66175109, 66240645, 66306181, 66371717, 66437253, 66502789, 66568325, 66633861, 66699397, 66764933, 69582981, 69648517, 69714053, 69779589, 69845125, 69910661, 69976197, 70041733, 70107269, 70172805, 70238341, 280477829, 280543365, 280608901, 280674437, 280739973, 280805509, 280871045, 54575237, 54640773, 54706309, 54771845, 54837381, 54902917, 54968453, 55033989, 55099525, 55165061, 55230597, 55296133, 55361669, 58441861, 58507397, 58572933, 58638469, 58704005, 58769541, 58835077, 58900613, 58966149, 59031685, 59097221, 59162757, 59228293, 59293829, 59359365, 59424901, 62636165, 62701701, 62767237, 62832773, 62898309, 62963845, 63029381, 63094917, 63160453, 63225989, 63291525, 63357061, 63422597, 63488133, 63553669, 63619205, 66830469, 66896005, 66961541, 67027077, 67092613, 67158149, 67223685, 67289221, 67354757, 67420293, 67485829, 67551365, 67616901, 67682437, 67747973, 67813509, 70303877, 70369413, 70434949, 70500485, 70566021, 70631557, 70697093, 70762629, 70828165, 70893701, 70959237, 71024773, 71090309, 280936581, 281002117, 281067653, 281133189, 55427205, 55492741, 55558277, 55623813, 55689349, 55754885, 55820421, 55885957, 55951493, 56017029, 56082565, 56148101, 56213637, 56279173, 59490437, 59555973, 59621509, 59687045, 59752581, 59818117, 59883653, 59949189, 60014725, 60080261, 60145797, 60211333, 60276869, 60342405, 60407941, 60473477, 63684741, 63750277, 63815813, 63881349, 63946885, 64012421, 64077957, 64143493, 64209029, 64274565, 64340101, 64405637, 64471173, 64536709, 64602245, 64667781, 67879045, 67944581, 68010117, 68075653, 68141189, 68206725, 68272261, 68337797, 68403333, 68468869, 68534405, 68599941, 68665477, 68731013, 68796549, 68862085, 71155845, 71221381, 71286917, 71352453, 71417989, 71483525, 71549061, 71614597, 71680133, 71745669, 71811205, 71876741, 71942277, 72007813, 72073349, 281198725, 281264261, 72138885, 72204421, 72269957, 72335493, 72401029, 72466565, 72532101, 72597637, 72663173, 72728709, 72794245, 72859781, 72925317, 72990853, 76136581, 76202117, 76267653, 76333189, 76398725, 76464261, 76529797, 76595333, 76660869, 76726405, 76791941, 76857477, 76923013, 76988549, 77054085, 77119621, 80330885, 80396421, 80461957, 80527493, 80593029, 80658565, 80724101, 80789637, 80855173, 80920709, 80986245, 81051781, 81117317, 81182853, 81248389, 81313925, 84525189, 84590725, 84656261, 84721797, 84787333, 84852869, 84918405, 84983941, 85049477, 85115013, 85180549, 85246085, 85311621, 85377157, 85442693, 85508229, 88719493, 88785029, 88850565, 88916101, 88981637, 89047173, 89112709, 89178245, 89243781, 89309317, 89374853, 89440389, 89505925, 89571461, 89636997, 281329797, 73056389, 73121925, 73187461, 73252997, 73318533, 73384069, 73449605, 73515141, 73580677, 73646213, 73711749, 73777285, 73842821, 73908357, 73973893, 77185157, 77250693, 77316229, 77381765, 77447301, 77512837, 77578373, 77643909, 77709445, 77774981, 77840517, 77906053, 77971589, 78037125, 78102661, 78168197, 81379461, 81444997, 81510533, 81576069, 81641605, 81707141, 81772677, 81838213, 81903749, 81969285, 82034821, 82100357, 82165893, 82231429, 82296965, 82362501, 85573765, 85639301, 85704837, 85770373, 85835909, 85901445, 85966981, 86032517, 86098053, 86163589, 86229125, 86294661, 86360197, 86425733, 86491269, 86556805, 89702533, 89768069, 89833605, 89899141, 89964677, 90030213, 90095749, 90161285, 90226821, 90292357, 90357893, 90423429, 90488965, 90554501, 281395333, 74039429, 74104965, 74170501, 74236037, 74301573, 74367109, 74432645, 74498181, 74563717, 74629253, 74694789, 74760325, 74825861, 74891397, 74956933, 75022469, 78233733, 78299269, 78364805, 78430341, 78495877, 78561413, 78626949, 78692485, 78758021, 78823557, 78889093, 78954629, 79020165, 79085701, 79151237, 79216773, 82428037, 82493573, 82559109, 82624645, 82690181, 82755717, 82821253, 82886789, 82952325, 83017861, 83083397, 83148933, 83214469, 83280005, 83345541, 83411077, 86622341, 86687877, 86753413, 86818949, 86884485, 86950021, 87015557, 87081093, 87146629, 87212165, 87277701, 87343237, 87408773, 87474309, 87539845, 87605381, 90620037, 90685573, 90751109, 90816645, 90882181, 90947717, 91013253, 91078789, 91144325, 91209861, 91275397, 91340933, 91406469, 281460869, 281526405, 75088005, 75153541, 75219077, 75284613, 75350149, 75415685, 75481221, 75546757, 75612293, 75677829, 75743365, 75808901, 75874437, 75939973, 76005509, 76071045, 79282309, 79347845, 79413381, 79478917, 79544453, 79609989, 79675525, 79741061, 79806597, 79872133, 79937669, 80003205, 80068741, 80134277, 80199813, 80265349, 83476613, 83542149, 83607685, 83673221, 83738757, 83804293, 83869829, 83935365, 84000901, 84066437, 84131973, 84197509, 84263045, 84328581, 84394117, 84459653, 87670917, 87736453, 87801989, 87867525, 87933061, 87998597, 88064133, 88129669, 88195205, 88260741, 88326277, 88391813, 88457349, 88522885, 88588421, 88653957, 91472005, 91537541, 91603077, 91668613, 91734149, 91799685, 91865221, 91930757, 91996293, 92061829, 92127365, 92192901, 281591941, 281657477, 281723013, 92258437, 92323973, 92389509, 92455045, 92520581, 92586117, 92651653, 92717189, 92782725, 92848261, 92913797, 92979333, 93044869, 93110405, 93175941, 93241477, 96059525, 96125061, 96190597, 96256133, 96321669, 96387205, 96452741, 96518277, 96583813, 96649349, 96714885, 96780421, 96845957, 96911493, 96977029, 97042565, 100253829, 100319365, 100384901, 100450437, 100515973, 100581509, 100647045, 100712581, 100778117, 100843653, 100909189, 100974725, 101040261, 101105797, 101171333, 101236869, 104448133, 104513669, 104579205, 104644741, 104710277, 104775813, 104841349, 104906885, 104972421, 105037957, 105103493, 105169029, 105234565, 105300101, 105365637, 105431173, 108642437, 108707973, 108773509, 108839045, 108904581, 108970117, 109035653, 109101189, 109166725, 109232261, 109297797, 281788549, 281854085, 281919621, 281985157, 282050693, 93307013, 93372549, 93438085, 93503621, 93569157, 93634693, 93700229, 93765765, 93831301, 93896837, 93962373, 94027909, 94093445, 94158981, 94224517, 97108101, 97173637, 97239173, 97304709, 97370245, 97435781, 97501317, 97566853, 97632389, 97697925, 97763461, 97828997, 97894533, 97960069, 98025605, 98091141, 101302405, 101367941, 101433477, 101499013, 101564549, 101630085, 101695621, 101761157, 101826693, 101892229, 101957765, 102023301, 102088837, 102154373, 102219909, 102285445, 105496709, 105562245, 105627781, 105693317, 105758853, 105824389, 105889925, 105955461, 106020997, 106086533, 106152069, 106217605, 106283141, 106348677, 106414213, 106479749, 109363333, 109428869, 109494405, 109559941, 109625477, 109691013, 109756549, 109822085, 109887621, 109953157, 282116229, 282181765, 282247301, 282312837, 282378373, 282443909, 282509445, 94290053, 94355589, 94421125, 94486661, 94552197, 94617733, 94683269, 94748805, 94814341, 94879877, 94945413, 95010949, 95076485, 95142021, 98156677, 98222213, 98287749, 98353285, 98418821, 98484357, 98549893, 98615429, 98680965, 98746501, 98812037, 98877573, 98943109, 99008645, 99074181, 99139717, 102350981, 102416517, 102482053, 102547589, 102613125, 102678661, 102744197, 102809733, 102875269, 102940805, 103006341, 103071877, 103137413, 103202949, 103268485, 103334021, 106545285, 106610821, 106676357, 106741893, 106807429, 106872965, 106938501, 107004037, 107069573, 107135109, 107200645, 107266181, 107331717, 107397253, 107462789, 107528325, 110018693, 110084229, 110149765, 110215301, 110280837, 110346373, 110411909, 110477445, 110542981, 110608517, 282574981, 282640517, 282706053, 282771589, 282837125, 282902661, 282968197, 283033733, 95207557, 95273093, 95338629, 95404165, 95469701, 95535237, 95600773, 95666309, 95731845, 95797381, 95862917, 95928453, 95993989, 99205253, 99270789, 99336325, 99401861, 99467397, 99532933, 99598469, 99664005, 99729541, 99795077, 99860613, 99926149, 99991685, 100057221, 100122757, 100188293, 103399557, 103465093, 103530629, 103596165, 103661701, 103727237, 103792773, 103858309, 103923845, 103989381, 104054917, 104120453, 104185989, 104251525, 104317061, 104382597, 107593861, 107659397, 107724933, 107790469, 107856005, 107921541, 107987077, 108052613, 108118149, 108183685, 108249221, 108314757, 108380293, 108445829, 108511365, 108576901, 110674053, 110739589, 110805125, 110870661, 110936197, 111001733, 111067269, 111132805, 111198341, 283099269, 283164805, 283230341, 283295877, 283361413, 283426949, 283492485, 283558021, 283623557, 283689093, 111263877, 111329413, 111394949, 111460485, 111526021, 111591557, 111657093, 111722629, 111788165, 111853701, 111919237, 111984773, 114016389, 114081925, 114147461, 114212997, 114278533, 114344069, 114409605, 114475141, 114540677, 114606213, 114671749, 114737285, 114802821, 114868357, 114933893, 114999429, 118210693, 118276229, 118341765, 118407301, 118472837, 118538373, 118603909, 118669445, 118734981, 118800517, 118866053, 118931589, 118997125, 119062661, 119128197, 119193733, 122404997, 122470533, 122536069, 122601605, 122667141, 122732677, 122798213, 122863749, 122929285, 122994821, 123060357, 123125893, 123191429, 123256965, 123322501, 123388037, 126599301, 126664837, 126730373, 126795909, 126861445, 126926981, 126992517, 127058053, 283754629, 283820165, 283885701, 283951237, 284016773, 284082309, 284147845, 284213381, 284278917, 284344453, 284409989, 284475525, 112050309, 112115845, 112181381, 112246917, 112312453, 112377989, 112443525, 112509061, 112574597, 112640133, 112705669, 115064965, 115130501, 115196037, 115261573, 115327109, 115392645, 115458181, 115523717, 115589253, 115654789, 115720325, 115785861, 115851397, 115916933, 115982469, 116048005, 119259269, 119324805, 119390341, 119455877, 119521413, 119586949, 119652485, 119718021, 119783557, 119849093, 119914629, 119980165, 120045701, 120111237, 120176773, 120242309, 123453573, 123519109, 123584645, 123650181, 123715717, 123781253, 123846789, 123912325, 123977861, 124043397, 124108933, 124174469, 124240005, 124305541, 124371077, 124436613, 127123589, 127189125, 127254661, 127320197, 127385733, 127451269, 127516805, 284541061, 284606597, 284672133, 284737669, 284803205, 284868741, 284934277, 284999813, 285065349, 285130885, 285196421, 285261957, 285327493, 285393029, 112771205, 112836741, 112902277, 112967813, 113033349, 113098885, 113164421, 113229957, 113295493, 113361029, 116113541, 116179077, 116244613, 116310149, 116375685, 116441221, 116506757, 116572293, 116637829, 116703365, 116768901, 116834437, 116899973, 116965509, 117031045, 117096581, 120307845, 120373381, 120438917, 120504453, 120569989, 120635525, 120701061, 120766597, 120832133, 120897669, 120963205, 121028741, 121094277, 121159813, 121225349, 121290885, 124502149, 124567685, 124633221, 124698757, 124764293, 124829829, 124895365, 124960901, 125026437, 125091973, 125157509, 125223045, 125288581, 125354117, 125419653, 125485189, 127582341, 127647877, 127713413, 127778949, 127844485, 127910021, 285458565, 285524101, 285589637, 285655173, 285720709, 285786245, 285851781, 285917317, 285982853, 286048389, 286113925, 286179461, 286244997, 286310533, 286376069, 286441605, 113426565, 113492101, 113557637, 113623173, 113688709, 113754245, 113819781, 113885317, 113950853, 117162117, 117227653, 117293189, 117358725, 117424261, 117489797, 117555333, 117620869, 117686405, 117751941, 117817477, 117883013, 117948549, 118014085, 118079621, 118145157, 121356421, 121421957, 121487493, 121553029, 121618565, 121684101, 121749637, 121815173, 121880709, 121946245, 122011781, 122077317, 122142853, 122208389, 122273925, 122339461, 125550725, 125616261, 125681797, 125747333, 125812869, 125878405, 125943941, 126009477, 126075013, 126140549, 126206085, 126271621, 126337157, 126402693, 126468229, 126533765, 127975557, 128041093, 128106629, 128172165, 128237701, 286507141, 286572677, 286638213, 286703749, 286769285, 286834821, 286900357, 286965893, 287031429, 287096965, 287162501, 287228037, 287293573, 287359109, 287424645, 287490181, 287555717, 287621253, 128303237, 128368773, 128434309, 128499845, 128565381, 128630917, 128696453, 128761989, 130072709, 130138245, 130203781, 130269317, 130334853, 130400389, 130465925, 130531461, 130596997, 130662533, 130728069, 130793605, 130859141, 130924677, 130990213, 131055749, 134267013, 134332549, 134398085, 134463621, 134529157, 134594693, 134660229, 134725765, 134791301, 134856837, 134922373, 134987909, 135053445, 135118981, 135184517, 135250053, 138461317, 138526853, 138592389, 138657925, 138723461, 138788997, 138854533, 138920069, 138985605, 139051141, 139116677, 139182213, 139247749, 139313285, 139378821, 139444357, 142655621, 142721157, 142786693, 142852229, 142917765, 287686789, 287752325, 287817861, 287883397, 287948933, 288014469, 288080005, 288145541, 288211077, 288276613, 288342149, 288407685, 288473221, 288538757, 288604293, 288669829, 288735365, 288800901, 288866437, 128827525, 128893061, 128958597, 129024133, 129089669, 129155205, 129220741, 131121285, 131186821, 131252357, 131317893, 131383429, 131448965, 131514501, 131580037, 131645573, 131711109, 131776645, 131842181, 131907717, 131973253, 132038789, 132104325, 135315589, 135381125, 135446661, 135512197, 135577733, 135643269, 135708805, 135774341, 135839877, 135905413, 135970949, 136036485, 136102021, 136167557, 136233093, 136298629, 139509893, 139575429, 139640965, 139706501, 139772037, 139837573, 139903109, 139968645, 140034181, 140099717, 140165253, 140230789, 140296325, 140361861, 140427397, 140492933, 142983301, 143048837, 143114373, 143179909, 143245445, 143310981, 288931973, 288997509, 289063045, 289128581, 289194117, 289259653, 289325189, 289390725, 289456261, 289521797, 289587333, 289652869, 289718405, 289783941, 289849477, 289915013, 289980549, 290046085, 290111621, 129286277, 129351813, 129417349, 129482885, 129548421, 129613957, 132169861, 132235397, 132300933, 132366469, 132432005, 132497541, 132563077, 132628613, 132694149, 132759685, 132825221, 132890757, 132956293, 133021829, 133087365, 133152901, 136364165, 136429701, 136495237, 136560773, 136626309, 136691845, 136757381, 136822917, 136888453, 136953989, 137019525, 137085061, 137150597, 137216133, 137281669, 137347205, 140558469, 140624005, 140689541, 140755077, 140820613, 140886149, 140951685, 141017221, 141082757, 141148293, 141213829, 141279365, 141344901, 141410437, 141475973, 141541509, 143376517, 143442053, 143507589, 143573125, 143638661, 143704197, 143769733, 290177157, 290242693, 290308229, 290373765, 290439301, 290504837, 290570373, 290635909, 290701445, 290766981, 290832517, 290898053, 290963589, 291029125, 291094661, 291160197, 291225733, 291291269, 129679493, 129745029, 129810565, 129876101, 129941637, 130007173, 133218437, 133283973, 133349509, 133415045, 133480581, 133546117, 133611653, 133677189, 133742725, 133808261, 133873797, 133939333, 134004869, 134070405, 134135941, 134201477, 137412741, 137478277, 137543813, 137609349, 137674885, 137740421, 137805957, 137871493, 137937029, 138002565, 138068101, 138133637, 138199173, 138264709, 138330245, 138395781, 141607045, 141672581, 141738117, 141803653, 141869189, 141934725, 142000261, 142065797, 142131333, 142196869, 142262405, 142327941, 142393477, 142459013, 142524549, 142590085, 143835269, 143900805, 143966341, 144031877, 144097413, 144162949, 144228485, 144294021, 291356805, 291422341, 291487877, 291553413, 291618949, 291684485, 291750021, 291815557, 291881093, 291946629, 292012165, 292077701, 292143237, 292208773, 292274309, 292339845, 292405381, 292470917, 144359557, 144425093, 144490629, 144556165, 144621701, 145277061, 145342597, 145408133, 145473669, 145539205, 145604741, 145670277, 145735813, 145801349, 145866885, 145932421, 145997957, 146063493, 146129029, 146194565, 146260101, 149471365, 149536901, 149602437, 149667973, 149733509, 149799045, 149864581, 149930117, 149995653, 150061189, 150126725, 150192261, 150257797, 150323333, 150388869, 150454405, 153665669, 153731205, 153796741, 153862277, 153927813, 153993349, 154058885, 154124421, 154189957, 154255493, 154321029, 154386565, 154452101, 154517637, 154583173, 154648709, 157859973, 157925509, 157991045, 158056581, 158122117, 158187653, 158253189, 292536453, 292601989, 292667525, 292733061, 292798597, 292864133, 292929669, 292995205, 293060741, 293126277, 293191813, 293257349, 293322885, 293388421, 293453957, 293519493, 293585029, 293650565, 293716101, 293781637, 144687237, 144752773, 144818309, 144883845, 146325637, 146391173, 146456709, 146522245, 146587781, 146653317, 146718853, 146784389, 146849925, 146915461, 146980997, 147046533, 147112069, 147177605, 147243141, 147308677, 150519941, 150585477, 150651013, 150716549, 150782085, 150847621, 150913157, 150978693, 151044229, 151109765, 151175301, 151240837, 151306373, 151371909, 151437445, 151502981, 154714245, 154779781, 154845317, 154910853, 154976389, 155041925, 155107461, 155172997, 155238533, 155304069, 155369605, 155435141, 155500677, 155566213, 155631749, 155697285, 158318725, 158384261, 158449797, 158515333, 158580869, 158646405, 293847173, 293912709, 293978245, 294043781, 294109317, 294174853, 294240389, 294305925, 294371461, 294436997, 294502533, 294568069, 294633605, 294699141, 294764677, 294830213, 294895749, 294961285, 295026821, 295092357, 295157893, 295223429, 144949381, 145014917, 145080453, 147374213, 147439749, 147505285, 147570821, 147636357, 147701893, 147767429, 147832965, 147898501, 147964037, 148029573, 148095109, 148160645, 148226181, 148291717, 148357253, 151568517, 151634053, 151699589, 151765125, 151830661, 151896197, 151961733, 152027269, 152092805, 152158341, 152223877, 152289413, 152354949, 152420485, 152486021, 152551557, 155762821, 155828357, 155893893, 155959429, 156024965, 156090501, 156156037, 156221573, 156287109, 156352645, 156418181, 156483717, 156549253, 156614789, 156680325, 156745861, 158711941, 158777477, 158843013, 158908549, 158974085, 295288965, 295354501, 295420037, 295485573, 295551109, 295616645, 295682181, 295747717, 295813253, 295878789, 295944325, 296009861, 296075397, 296140933, 296206469, 296272005, 296337541, 296403077, 296468613, 296534149, 296599685, 296665221, 296730757, 296796293, 145145989, 145211525, 148422789, 148488325, 148553861, 148619397, 148684933, 148750469, 148816005, 148881541, 148947077, 149012613, 149078149, 149143685, 149209221, 149274757, 149340293, 149405829, 152617093, 152682629, 152748165, 152813701, 152879237, 152944773, 153010309, 153075845, 153141381, 153206917, 153272453, 153337989, 153403525, 153469061, 153534597, 153600133, 156811397, 156876933, 156942469, 157008005, 157073541, 157139077, 157204613, 157270149, 157335685, 157401221, 157466757, 157532293, 157597829, 157663365, 157728901, 157794437, 159039621, 159105157, 159170693, 159236229, 296861829, 296927365, 296992901, 297058437, 297123973, 297189509, 297255045, 297320581, 297386117, 297451653, 297517189, 297582725, 297648261, 297713797, 297779333, 297844869, 297910405, 297975941, 298041477, 298107013, 298172549, 298238085, 298303621, 298369157, 298434693, 298500229, 159301765, 159367301, 159432837, 159498373, 159563909, 159629445, 159694981, 159760517, 159826053, 159891589, 159957125, 160022661, 160088197, 160153733, 160219269, 160284805, 160350341, 163364997, 163430533, 163496069, 163561605, 163627141, 163692677, 163758213, 163823749, 163889285, 163954821, 164020357, 164085893, 164151429, 164216965, 164282501, 164348037, 164413573, 164479109, 164544645, 164610181, 164675717, 164741253, 164806789, 164872325, 164937861, 165003397, 165068933, 165134469, 165200005, 165265541, 165331077, 165396613, 198819973, 198885509, 198951045, 298565765, 298631301, 298696837, 298762373, 298827909, 298893445, 298958981, 299024517, 299090053, 299155589, 299221125, 299286661, 299352197, 299417733, 299483269, 299548805, 299614341, 299679877, 299745413, 299810949, 299876485, 299942021, 300007557, 300073093, 300138629, 300204165, 300269701, 300335237, 160415877, 160481413, 160546949, 160612485, 160678021, 160743557, 160809093, 160874629, 160940165, 161005701, 161071237, 161136773, 161202309, 161267845, 161333381, 161398917, 165462149, 165527685, 165593221, 165658757, 165724293, 165789829, 165855365, 165920901, 165986437, 166051973, 166117509, 166183045, 166248581, 166314117, 166379653, 166445189, 166510725, 166576261, 166641797, 166707333, 166772869, 166838405, 166903941, 166969477, 167035013, 167100549, 167166085, 167231621, 167297157, 167362693, 167428229, 167493765, 199016581, 199082117, 300400773, 300466309, 300531845, 300597381, 300662917, 300728453, 300793989, 300859525, 300925061, 300990597, 301056133, 301121669, 301187205, 301252741, 301318277, 301383813, 301449349, 301514885, 301580421, 301645957, 301711493, 301777029, 301842565, 301908101, 301973637, 302039173, 302104709, 302170245, 302235781, 302301317, 161464453, 161529989, 161595525, 161661061, 161726597, 161792133, 161857669, 161923205, 161988741, 162054277, 162119813, 162185349, 162250885, 162316421, 162381957, 167559301, 167624837, 167690373, 167755909, 167821445, 167886981, 167952517, 168018053, 168083589, 168149125, 168214661, 168280197, 168345733, 168411269, 168476805, 168542341, 168607877, 168673413, 168738949, 168804485, 168870021, 168935557, 169001093, 169066629, 169132165, 169197701, 169263237, 169328773, 169394309, 169459845, 169525381, 169590917, 199147653, 199213189, 302366853, 302432389, 302497925, 302563461, 302628997, 302694533, 302760069, 302825605, 302891141, 302956677, 303022213, 303087749, 303153285, 303218821, 303284357, 303349893, 303415429, 303480965, 303546501, 303612037, 303677573, 303743109, 303808645, 303874181, 303939717, 304005253, 304070789, 304136325, 304201861, 304267397, 304332933, 162447493, 162513029, 162578565, 162644101, 162709637, 162775173, 162840709, 162906245, 162971781, 163037317, 163102853, 163168389, 163233925, 163299461, 169656453, 169721989, 169787525, 169853061, 169918597, 169984133, 170049669, 170115205, 170180741, 170246277, 170311813, 170377349, 170442885, 170508421, 170573957, 170639493, 170705029, 170770565, 170836101, 170901637, 170967173, 171032709, 171098245, 171163781, 171229317, 171294853, 171360389, 171425925, 171491461, 171556997, 171622533, 171688069, 199278725, 304398469, 304464005, 304529541, 304595077, 304660613, 304726149, 304791685, 304857221, 304922757, 304988293, 305053829, 305119365, 305184901, 305250437, 305315973, 305381509, 305447045, 305512581, 305578117, 305643653, 305709189, 305774725, 305840261, 305905797, 305971333, 306036869, 306102405, 306167941, 306233477, 306299013, 306364549, 306430085, 306495621, 171753605, 171819141, 171884677, 171950213, 172015749, 172081285, 172146821, 172212357, 172277893, 172343429, 172408965, 172474501, 172540037, 172605573, 172671109, 172736645, 172802181, 172867717, 172933253, 172998789, 173064325, 173129861, 173195397, 173260933, 173326469, 173392005, 173457541, 173523077, 173588613, 173654149, 173719685, 173785221, 173850757, 173916293, 173981829, 174047365, 174112901, 174178437, 174243973, 174309509, 174375045, 174440581, 174506117, 174571653, 174637189, 306561157, 306626693, 306692229, 306757765, 306823301, 306888837, 306954373, 307019909, 307085445, 307150981, 307216517, 307282053, 307347589, 307413125, 307478661, 307544197, 307609733, 307675269, 307740805, 307806341, 307871877, 307937413, 308002949, 308068485, 308134021, 308199557, 308265093, 308330629, 308396165, 308461701, 308527237, 308592773, 308658309, 308723845, 308789381, 174702725, 174768261, 174833797, 174899333, 174964869, 175030405, 175095941, 175161477, 175227013, 175292549, 175358085, 175423621, 175489157, 175554693, 175620229, 175685765, 175751301, 175816837, 175882373, 175947909, 176013445, 176078981, 176144517, 176210053, 176275589, 176341125, 176406661, 176472197, 176537733, 176603269, 176668805, 176734341, 176799877, 176865413, 176930949, 176996485, 177062021, 177127557, 177193093, 177258629, 177324165, 177389701, 177455237, 308854917, 308920453, 308985989, 309051525, 309117061, 309182597, 309248133, 309313669, 309379205, 309444741, 309510277, 309575813, 309641349, 309706885, 309772421, 309837957, 309903493, 309969029, 310034565, 310100101, 310165637, 310231173, 310296709, 310362245, 310427781, 310493317, 310558853, 310624389, 310689925, 310755461, 310820997, 310886533, 310952069, 311017605, 311083141, 311148677, 311214213, 177520773, 177586309, 177651845, 177717381, 177782917, 177848453, 177913989, 177979525, 178045061, 178110597, 178176133, 178241669, 178307205, 178372741, 178438277, 178503813, 178569349, 178634885, 178700421, 178765957, 178831493, 178897029, 178962565, 179028101, 179093637, 179159173, 179224709, 179290245, 179355781, 179421317, 179486853, 179552389, 179617925, 179683461, 179748997, 179814533, 179880069, 179945605, 180011141, 180076677, 180142213, 311279749, 311345285, 311410821, 311476357, 311541893, 311607429, 311672965, 311738501, 311804037, 311869573, 311935109, 312000645, 312066181, 312131717, 312197253, 312262789, 312328325, 312393861, 312459397, 312524933, 312590469, 312656005, 312721541, 312787077, 312852613, 312918149, 312983685, 313049221, 313114757, 313180293, 313245829, 313311365, 313376901, 313442437, 313507973, 313573509, 313639045, 313704581, 313770117, 180207749, 180273285, 180338821, 180404357, 180469893, 180535429, 180600965, 180666501, 180732037, 180797573, 180863109, 180928645, 180994181, 181059717, 181125253, 181190789, 181256325, 181321861, 181387397, 181452933, 181518469, 181584005, 181649541, 181715077, 181780613, 181846149, 181911685, 181977221, 182042757, 182108293, 182173829, 182239365, 182304901, 182370437, 182435973, 182501509, 182567045, 182632581, 182698117, 313835653, 313901189, 313966725, 314032261, 314097797, 314163333, 314228869, 314294405, 314359941, 314425477, 314491013, 314556549, 314622085, 314687621, 314753157, 314818693, 314884229, 314949765, 315015301, 315080837, 315146373, 315211909, 315277445, 315342981, 315408517, 315474053, 315539589, 315605125, 315670661, 315736197, 315801733, 315867269, 315932805, 315998341, 316063877, 316129413, 316194949, 316260485, 316326021, 316391557, 316457093, 182763653, 182829189, 182894725, 182960261, 183025797, 183091333, 183156869, 183222405, 183287941, 183353477, 183419013, 183484549, 183550085, 183615621, 183681157, 183746693, 183812229, 183877765, 183943301, 184008837, 184074373, 184139909, 184205445, 184270981, 184336517, 184402053, 184467589, 184533125, 184598661, 184664197, 184729733, 184795269, 184860805, 184926341, 184991877, 185057413, 185122949, 316522629, 316588165, 316653701, 316719237, 316784773, 316850309, 316915845, 316981381, 317046917, 317112453, 317177989, 317243525, 317309061, 317374597, 317440133, 317505669, 317571205, 317636741, 317702277, 317767813, 317833349, 317898885, 317964421, 318029957, 318095493, 318161029, 318226565, 318292101, 318357637, 318423173, 318488709, 318554245, 318619781, 318685317, 318750853, 318816389, 318881925, 318947461, 319012997, 319078533, 319144069, 319209605, 319275141, 185188485, 185254021, 185319557, 185385093, 185450629, 185516165, 185581701, 185647237, 185712773, 185778309, 185843845, 185909381, 185974917, 186040453, 186105989, 186171525, 186237061, 186302597, 186368133, 186433669, 186499205, 186564741, 186630277, 186695813, 186761349, 186826885, 186892421, 186957957, 187023493, 187089029, 187154565, 187220101, 187285637, 187351173, 187416709, 319340677, 319406213, 319471749, 319537285, 319602821, 319668357, 319733893, 319799429, 319864965, 319930501, 319996037, 320061573, 320127109, 320192645, 320258181, 320323717, 320389253, 320454789, 320520325, 320585861, 320651397, 320716933, 320782469, 320848005, 320913541, 320979077, 321044613, 321110149, 321175685, 321241221, 321306757, 321372293, 321437829, 321503365, 321568901, 321634437, 321699973, 321765509, 321831045, 321896581, 321962117, 322027653, 322093189, 322158725, 322224261, 187482245, 187547781, 187613317, 187678853, 187744389, 187809925, 187875461, 187940997, 188006533, 188072069, 188137605, 188203141, 188268677, 188334213, 188399749, 188465285, 188530821, 188596357, 188661893, 188727429, 188792965, 188858501, 188924037, 188989573, 189055109, 189120645, 189186181, 189251717, 189317253, 189382789, 189448325, 189513861, 189579397, 322289797, 322355333, 322420869, 322486405, 322551941, 322617477, 322683013, 322748549, 322814085, 322879621, 322945157, 323010693, 323076229, 323141765, 323207301, 323272837, 323338373, 323403909, 323469445, 323534981, 323600517, 323666053, 323731589, 323797125, 323862661, 323928197, 323993733, 324059269, 324124805, 324190341, 324255877, 324321413, 324386949, 324452485, 324518021, 324583557, 324649093, 324714629, 324780165, 324845701, 324911237, 324976773, 325042309, 325107845, 325173381, 325238917, 189644933, 189710469, 189776005, 189841541, 189907077, 189972613, 190038149, 190103685, 190169221, 190234757, 190300293, 190365829, 190431365, 190496901, 190562437, 190627973, 190693509, 190759045, 190824581, 190890117, 190955653, 191021189, 191086725, 191152261, 191217797, 191283333, 191348869, 191414405, 191479941, 191545477, 191611013, 191676549, 325304453, 325369989, 325435525, 325501061, 325566597, 325632133, 325697669, 325763205, 325828741, 325894277, 325959813, 326025349, 326090885, 326156421, 326221957, 326287493, 326353029, 326418565, 326484101, 326549637, 326615173, 326680709, 326746245, 326811781, 326877317, 326942853, 327008389, 327073925, 327139461, 327204997, 327270533, 327336069, 327401605, 327467141, 327532677, 327598213, 327663749, 327729285, 327794821, 327860357, 327925893, 327991429, 328056965, 328122501, 328188037, 328253573, 328319109, 328384645, 191742085, 191807621, 191873157, 191938693, 192004229, 192069765, 192135301, 192200837, 192266373, 192331909, 192397445, 192462981, 192528517, 192594053, 192659589, 192725125, 192790661, 192856197, 192921733, 192987269, 193052805, 193118341, 193183877, 193249413, 193314949, 193380485, 193446021, 193511557, 193577093, 193642629, 328450181, 328515717, 328581253, 328646789, 328712325, 328777861, 328843397, 328908933, 328974469, 329040005, 329105541, 329171077, 329236613, 329302149, 329367685, 329433221, 329498757, 329564293, 329629829, 329695365, 329760901, 329826437, 329891973, 329957509, 330023045, 330088581, 330154117, 330219653, 330285189, 330350725, 330416261, 330481797, 330547333, 330612869, 330678405, 330743941, 330809477, 330875013, 330940549, 331006085, 331071621, 331137157, 331202693, 331268229, 331333765, 331399301, 331464837, 331530373, 331595909, 331661445, 193708165, 193773701, 193839237, 193904773, 193970309, 194035845, 194101381, 194166917, 194232453, 194297989, 194363525, 194429061, 194494597, 194560133, 194625669, 194691205, 194756741, 194822277, 194887813, 194953349, 195018885, 195084421, 195149957, 195215493, 195281029, 195346565, 195412101, 195477637, 331726981, 331792517, 331858053, 331923589, 331989125, 332054661, 332120197, 332185733, 332251269, 332316805, 332382341, 332447877, 332513413, 332578949, 332644485, 332710021, 332775557, 332841093, 332906629, 332972165, 333037701, 333103237, 333168773, 333234309, 333299845, 333365381, 333430917, 333496453, 333561989, 333627525, 333693061, 333758597, 333824133, 333889669, 333955205, 334020741, 334086277, 334151813, 334217349, 334282885, 334348421, 334413957, 334479493, 334545029, 334610565, 334676101, 334741637, 334807173, 334872709, 334938245, 335003781, 335069317, 195543173, 195608709, 195674245, 195739781, 195805317, 195870853, 195936389, 196001925, 196067461, 196132997, 196198533, 196264069, 196329605, 196395141, 196460677, 196526213, 196591749, 196657285, 196722821, 196788357, 196853893, 196919429, 196984965, 197050501, 197116037, 197181573, 335134853, 335200389, 335265925, 335331461, 335396997, 335462533, 335528069, 335593605, 335659141, 335724677, 335790213, 335855749, 335921285, 335986821, 336052357, 336117893, 336183429, 336248965, 336314501, 336380037, 336445573, 336511109, 336576645, 336642181, 336707717, 336773253, 336838789, 336904325, 336969861, 337035397, 337100933, 337166469, 337232005, 337297541, 337363077, 337428613, 337494149, 337559685, 337625221, 337690757, 337756293, 337821829, 337887365, 337952901, 338018437, 338083973, 338149509, 338215045, 338280581, 338346117, 338411653, 338477189, 338542725, 338608261, 197247109, 197312645, 197378181, 197443717, 197509253, 197574789, 197640325, 197705861, 197771397, 197836933, 197902469, 197968005, 198033541, 198099077, 198164613, 198230149, 198295685, 198361221, 198426757, 198492293, 198557829, 198623365, 198688901, 198754437, 338673797, 338739333, 338804869, 338870405, 338935941, 339001477, 339067013, 339132549, 339198085, 339263621, 339329157, 339394693, 339460229, 339525765, 339591301, 339656837, 339722373, 339787909, 339853445, 339918981, 339984517, 340050053, 340115589, 340181125, 340246661, 340312197, 340377733, 340443269, 340508805, 340574341, 340639877, 340705413, 340770949, 340836485, 340902021, 340967557, 341033093, 341098629, 341164165, 341229701, 341295237, 341360773, 341426309, 341491845, 341557381, 341622917, 341688453, 341753989, 341819525, 341885061, 341950597, 342016133, 342081669, 342147205, 342212741, 342278277, 199344261, 199409797, 199475333, 199540869, 199606405, 199671941, 199737477, 199803013, 199868549, 199934085, 199999621, 200065157, 200130693, 200196229, 200261765, 200327301, 200392837, 200458373, 200523909, 200589445, 200654981, 200720517, 342343813, 342409349, 342474885, 342540421, 342605957, 342671493, 342737029, 342802565, 342868101, 342933637, 342999173, 343064709, 343130245, 343195781, 343261317, 343326853, 343392389, 343457925, 343523461, 343588997, 343654533, 343720069, 343785605, 343851141, 343916677, 343982213, 344047749, 344113285, 344178821, 344244357, 344309893, 344375429, 344440965, 344506501, 344572037, 344637573, 344703109, 344768645, 344834181, 344899717, 344965253, 345030789, 345096325, 345161861, 345227397, 345292933, 345358469, 345424005, 345489541, 345555077, 345620613, 345686149, 345751685, 345817221, 345882757, 345948293, 346013829, 346079365, 200786053, 200851589, 200917125, 200982661, 201048197, 201113733, 201179269, 201244805, 201310341, 201375877, 201441413, 201506949, 201572485, 201638021, 201703557, 201769093, 201834629, 201900165, 201965701, 202031237, 346144901, 346210437, 346275973, 346341509, 346407045, 346472581, 346538117, 346603653, 346669189, 346734725, 346800261, 346865797, 346931333, 346996869, 347062405, 347127941, 347193477, 347259013, 347324549, 347390085, 347455621, 347521157, 347586693, 347652229, 347717765, 347783301, 347848837, 347914373, 347979909, 348045445, 348110981, 348176517, 348242053, 348307589, 348373125, 348438661, 348504197, 348569733, 348635269, 348700805, 348766341, 348831877, 348897413, 348962949, 349028485, 349094021, 349159557, 349225093, 349290629, 349356165, 349421701, 349487237, 349552773, 349618309, 349683845, 349749381, 349814917, 349880453, 349945989, 350011525, 202096773, 202162309, 202227845, 202293381, 202358917, 202424453, 202489989, 202555525, 202621061, 202686597, 202752133, 202817669, 202883205, 202948741, 203014277, 203079813, 203145349, 203210885, 350077061, 350142597, 350208133, 350273669, 350339205, 350404741, 350470277, 350535813, 350601349, 350666885, 350732421, 350797957, 350863493, 350929029, 350994565, 351060101, 351125637, 351191173, 351256709, 351322245, 351387781, 351453317, 351518853, 351584389, 351649925, 351715461, 351780997, 351846533, 351912069, 351977605, 352043141, 352108677, 352174213, 352239749, 352305285, 352370821, 352436357, 352501893, 352567429, 352632965, 352698501, 352764037, 352829573, 352895109, 352960645, 353026181, 353091717, 353157253, 353222789, 353288325, 353353861, 353419397, 353484933, 353550469, 353616005, 353681541, 353747077, 353812613, 353878149, 353943685, 354009221, 354074757, 203276421, 203341957, 203407493, 203473029, 203538565, 203604101, 203669637, 203735173, 203800709, 203866245, 203931781, 203997317, 204062853, 204128389, 204193925, 204259461, 354140293, 354205829, 354271365, 354336901, 354402437, 354467973, 354533509, 354599045, 354664581, 354730117, 354795653, 354861189, 354926725, 354992261, 355057797, 355123333, 355188869, 355254405, 355319941, 355385477, 355451013, 355516549, 355582085, 355647621, 355713157, 355778693, 355844229, 355909765, 355975301, 356040837, 356106373, 356171909, 356237445, 356302981, 356368517, 356434053, 356499589, 356565125, 356630661, 356696197, 356761733, 356827269, 356892805, 356958341, 357023877, 357089413, 357154949, 357220485, 357286021, 357351557, 357417093, 357482629, 357548165, 357613701, 357679237, 357744773, 357810309, 357875845, 357941381, 358006917, 358072453, 358137989, 358203525, 358269061, 204324997, 204390533, 204456069, 204521605, 204587141, 204652677, 204718213, 204783749, 204849285, 204914821, 204980357, 205045893, 205111429, 205176965, 358334597, 358400133, 358465669, 358531205, 358596741, 358662277, 358727813, 358793349, 358858885, 358924421, 358989957, 359055493, 359121029, 359186565, 359252101, 359317637, 359383173, 359448709, 359514245, 359579781, 359645317, 359710853, 359776389, 359841925, 359907461, 359972997, 360038533, 360104069, 360169605, 360235141, 360300677, 360366213, 360431749, 360497285, 360562821, 360628357, 360693893, 360759429, 360824965, 360890501, 360956037, 361021573, 361087109, 361152645, 361218181, 361283717, 361349253, 361414789, 361480325, 361545861, 361611397, 361676933, 361742469, 361808005, 361873541, 361939077, 362004613, 362070149, 362135685, 362201221, 362266757, 362332293, 362397829, 362463365, 362528901, 362594437, 205242501, 205308037, 205373573, 205439109, 205504645, 205570181, 205635717, 205701253, 205766789, 205832325, 205897861, 205963397, 362659973, 362725509, 362791045, 362856581, 362922117, 362987653, 363053189, 363118725, 363184261, 363249797, 363315333, 363380869, 363446405, 363511941, 363577477, 363643013, 363708549, 363774085, 363839621, 363905157, 363970693, 364036229, 364101765, 364167301, 364232837, 364298373, 364363909, 364429445, 364494981, 364560517, 364626053, 364691589, 364757125, 364822661, 364888197, 364953733, 365019269, 365084805, 365150341, 365215877, 365281413, 365346949, 365412485, 365478021, 365543557, 365609093, 365674629, 365740165, 365805701, 365871237, 365936773, 366002309, 366067845, 366133381, 366198917, 366264453, 366329989, 366395525, 366461061, 366526597, 366592133, 366657669, 366723205, 366788741, 366854277, 366919813, 366985349, 367050885, 206028933, 206094469, 206160005, 206225541, 206291077, 206356613, 206422149, 206487685, 206553221, 206618757, 367116421, 367181957, 367247493, 367313029, 367378565, 367444101, 367509637, 367575173, 367640709, 367706245, 367771781, 367837317, 367902853, 367968389, 368033925, 368099461, 368164997, 368230533, 368296069, 368361605, 368427141, 368492677, 368558213, 368623749, 368689285, 368754821, 368820357, 368885893, 368951429, 369016965, 369082501, 369148037, 369213573, 369279109, 369344645, 369410181, 369475717, 369541253, 369606789, 369672325, 369737861, 369803397, 369868933, 369934469, 370000005, 370065541, 370131077, 370196613, 370262149, 370327685, 370393221, 370458757, 370524293, 370589829, 370655365, 370720901, 370786437, 370851973, 370917509, 370983045, 371048581, 371114117, 371179653, 371245189, 371310725, 371376261, 371441797, 371507333, 371572869, 371638405, 206684293, 206749829, 206815365, 206880901, 206946437, 207011973, 207077509, 207143045, 371703941, 371769477, 371835013, 371900549, 371966085, 372031621, 372097157, 372162693, 372228229, 372293765, 372359301, 372424837, 372490373, 372555909, 372621445, 372686981, 372752517, 372818053, 372883589, 372949125, 373014661, 373080197, 373145733, 373211269, 373276805, 373342341, 373407877, 373473413, 373538949, 373604485, 373670021, 373735557, 373801093, 373866629, 373932165, 373997701, 374063237, 374128773, 374194309, 374259845, 374325381, 374390917, 374456453, 374521989, 374587525, 374653061, 374718597, 374784133, 374849669, 374915205, 374980741, 375046277, 375111813, 375177349, 375242885, 375308421, 375373957, 375439493, 375505029, 375570565, 375636101, 375701637, 375767173, 375832709, 375898245, 375963781, 376029317, 376094853, 376160389, 376225925, 376291461, 376356997, 207208581, 207274117, 207339653, 207405189, 207470725, 207536261, 376422533, 376488069, 376553605, 376619141, 376684677, 376750213, 376815749, 376881285, 376946821, 377012357, 377077893, 377143429, 377208965, 377274501, 377340037, 377405573, 377471109, 377536645, 377602181, 377667717, 377733253, 377798789, 377864325, 377929861, 377995397, 378060933, 378126469, 378192005, 378257541, 378323077, 378388613, 378454149, 378519685, 378585221, 378650757, 378716293, 378781829, 378847365, 378912901, 378978437, 379043973, 379109509, 379175045, 379240581, 379306117, 379371653, 379437189, 379502725, 379568261, 379633797, 379699333, 379764869, 379830405, 379895941, 379961477, 380027013, 380092549, 380158085, 380223621, 380289157, 380354693, 380420229, 380485765, 380551301, 380616837, 380682373, 380747909, 380813445, 380878981, 380944517, 381010053, 381075589, 381141125, 381206661, 207601797, 207667333, 207732869, 207798405, 207863941, 381272197, 381337733, 381403269, 381468805, 381534341, 381599877, 381665413, 381730949, 381796485, 381862021, 381927557, 381993093, 382058629, 382124165, 382189701, 382255237, 382320773, 382386309, 382451845, 382517381, 382582917, 382648453, 382713989, 382779525, 382845061, 382910597, 382976133, 383041669, 383107205, 383172741, 383238277, 383303813, 383369349, 383434885, 383500421, 383565957, 383631493, 383697029, 383762565, 383828101, 383893637, 383959173, 384024709, 384090245, 384155781, 384221317, 384286853, 384352389, 384417925, 384483461, 384548997, 384614533, 384680069, 384745605, 384811141, 384876677, 384942213, 385007749, 385073285, 385138821, 385204357, 385269893, 385335429, 385400965, 385466501, 385532037, 385597573, 385663109, 385728645, 385794181, 385859717, 385925253, 385990789, 386056325, 207929477, 207995013, 208060549, 208126085, 386121861, 386187397, 386252933, 386318469, 386384005, 386449541, 386515077, 386580613, 386646149, 386711685, 386777221, 386842757, 386908293, 386973829, 387039365, 387104901, 387170437, 387235973, 387301509, 387367045, 387432581, 387498117, 387563653, 387629189, 387694725, 387760261, 387825797, 387891333, 387956869, 388022405, 388087941, 388153477, 388219013, 388284549, 388350085, 388415621, 388481157, 388546693, 388612229, 388677765, 388743301, 388808837, 388874373, 388939909, 389005445, 389070981, 389136517, 389202053, 389267589, 389333125, 389398661, 389464197, 389529733, 389595269, 389660805, 389726341, 389791877, 389857413, 389922949, 389988485, 390054021, 390119557, 390185093, 390250629, 390316165, 390381701, 390447237, 390512773, 390578309, 390643845, 390709381, 390774917, 390840453, 390905989, 390971525, 391037061, 208191621, 208257157, 391102597, 391168133, 391233669, 391299205, 391364741, 391430277, 391495813, 391561349, 391626885, 391692421, 391757957, 391823493, 391889029, 391954565, 392020101, 392085637, 392151173, 392216709, 392282245, 392347781, 392413317, 392478853, 392544389, 392609925, 392675461, 392740997, 392806533, 392872069, 392937605, 393003141, 393068677, 393134213, 393199749, 393265285, 393330821, 393396357, 393461893)\n",
            "TileByteCounts\n",
            "  (65536, 65536, 65536, 65536, 65536, 65536, 65536, 65536, 65536, 65536, 65536, 65536, 65536, 65536, 65536, 65536, 65536, 65536, 65536, 65536, 65536, 65536, 65536, 65536, 65536, 65536, 65536, 65536, 65536, 65536, 65536, 65536, 65536, 65536, 65536, 65536, 65536, 65536, 65536, 65536, 65536, 65536, 65536, 65536, 65536, 65536, 65536, 65536, 65536, 65536, 65536, 65536, 65536, 65536, 65536, 65536, 65536, 65536, 65536, 65536, 65536, 65536, 65536, 65536, 65536, 65536, 65536, 65536, 65536, 65536, 65536, 65536, 65536, 65536, 65536, 65536, 65536, 65536, 65536, 65536, 65536, 65536, 65536, 65536, 65536, 65536, 65536, 65536, 65536, 65536, 65536, 65536, 65536, 65536, 65536, 65536, 65536, 65536, 65536, 65536, 65536, 65536, 65536, 65536, 65536, 65536, 65536, 65536, 65536, 65536, 65536, 65536, 65536, 65536, 65536, 65536, 65536, 65536, 65536, 65536, 65536, 65536, 65536, 65536, 65536, 65536, 65536, 65536, 65536, 65536, 65536, 65536, 65536, 65536, 65536, 65536, 65536, 65536, 65536, 65536, 65536, 65536, 65536, 65536, 65536, 65536, 65536, 65536, 65536, 65536, 65536, 65536, 65536, 65536, 65536, 65536, 65536, 65536, 65536, 65536, 65536, 65536, 65536, 65536, 65536, 65536, 65536, 65536, 65536, 65536, 65536, 65536, 65536, 65536, 65536, 65536, 65536, 65536, 65536, 65536, 65536, 65536, 65536, 65536, 65536, 65536, 65536, 65536, 65536, 65536, 65536, 65536, 65536, 65536, 65536, 65536, 65536, 65536, 65536, 65536, 65536, 65536, 65536, 65536, 65536, 65536, 65536, 65536, 65536, 65536, 65536, 65536, 65536, 65536, 65536, 65536, 65536, 65536, 65536, 65536, 65536, 65536, 65536, 65536, 65536, 65536, 65536, 65536, 65536, 65536, 65536, 65536, 65536, 65536, 65536, 65536, 65536, 65536, 65536, 65536, 65536, 65536, 65536, 65536, 65536, 65536, 65536, 65536, 65536, 65536, 65536, 65536, 65536, 65536, 65536, 65536, 65536, 65536, 65536, 65536, 65536, 65536, 65536, 65536, 65536, 65536, 65536, 65536, 65536, 65536, 65536, 65536, 65536, 65536, 65536, 65536, 65536, 65536, 65536, 65536, 65536, 65536, 65536, 65536, 65536, 65536, 65536, 65536, 65536, 65536, 65536, 65536, 65536, 65536, 65536, 65536, 65536, 65536, 65536, 65536, 65536, 65536, 65536, 65536, 65536, 65536, 65536, 65536, 65536, 65536, 65536, 65536, 65536, 65536, 65536, 65536, 65536, 65536, 65536, 65536, 65536, 65536, 65536, 65536, 65536, 65536, 65536, 65536, 65536, 65536, 65536, 65536, 65536, 65536, 65536, 65536, 65536, 65536, 65536, 65536, 65536, 65536, 65536, 65536, 65536, 65536, 65536, 65536, 65536, 65536, 65536, 65536, 65536, 65536, 65536, 65536, 65536, 65536, 65536, 65536, 65536, 65536, 65536, 65536, 65536, 65536, 65536, 65536, 65536, 65536, 65536, 65536, 65536, 65536, 65536, 65536, 65536, 65536, 65536, 65536, 65536, 65536, 65536, 65536, 65536, 65536, 65536, 65536, 65536, 65536, 65536, 65536, 65536, 65536, 65536, 65536, 65536, 65536, 65536, 65536, 65536, 65536, 65536, 65536, 65536, 65536, 65536, 65536, 65536, 65536, 65536, 65536, 65536, 65536, 65536, 65536, 65536, 65536, 65536, 65536, 65536, 65536, 65536, 65536, 65536, 65536, 65536, 65536, 65536, 65536, 65536, 65536, 65536, 65536, 65536, 65536, 65536, 65536, 65536, 65536, 65536, 65536, 65536, 65536, 65536, 65536, 65536, 65536, 65536, 65536, 65536, 65536, 65536, 65536, 65536, 65536, 65536, 65536, 65536, 65536, 65536, 65536, 65536, 65536, 65536, 65536, 65536, 65536, 65536, 65536, 65536, 65536, 65536, 65536, 65536, 65536, 65536, 65536, 65536, 65536, 65536, 65536, 65536, 65536, 65536, 65536, 65536, 65536, 65536, 65536, 65536, 65536, 65536, 65536, 65536, 65536, 65536, 65536, 65536, 65536, 65536, 65536, 65536, 65536, 65536, 65536, 65536, 65536, 65536, 65536, 65536, 65536, 65536, 65536, 65536, 65536, 65536, 65536, 65536, 65536, 65536, 65536, 65536, 65536, 65536, 65536, 65536, 65536, 65536, 65536, 65536, 65536, 65536, 65536, 65536, 65536, 65536, 65536, 65536, 65536, 65536, 65536, 65536, 65536, 65536, 65536, 65536, 65536, 65536, 65536, 65536, 65536, 65536, 65536, 65536, 65536, 65536, 65536, 65536, 65536, 65536, 65536, 65536, 65536, 65536, 65536, 65536, 65536, 65536, 65536, 65536, 65536, 65536, 65536, 65536, 65536, 65536, 65536, 65536, 65536, 65536, 65536, 65536, 65536, 65536, 65536, 65536, 65536, 65536, 65536, 65536, 65536, 65536, 65536, 65536, 65536, 65536, 65536, 65536, 65536, 65536, 65536, 65536, 65536, 65536, 65536, 65536, 65536, 65536, 65536, 65536, 65536, 65536, 65536, 65536, 65536, 65536, 65536, 65536, 65536, 65536, 65536, 65536, 65536, 65536, 65536, 65536, 65536, 65536, 65536, 65536, 65536, 65536, 65536, 65536, 65536, 65536, 65536, 65536, 65536, 65536, 65536, 65536, 65536, 65536, 65536, 65536, 65536, 65536, 65536, 65536, 65536, 65536, 65536, 65536, 65536, 65536, 65536, 65536, 65536, 65536, 65536, 65536, 65536, 65536, 65536, 65536, 65536, 65536, 65536, 65536, 65536, 65536, 65536, 65536, 65536, 65536, 65536, 65536, 65536, 65536, 65536, 65536, 65536, 65536, 65536, 65536, 65536, 65536, 65536, 65536, 65536, 65536, 65536, 65536, 65536, 65536, 65536, 65536, 65536, 65536, 65536, 65536, 65536, 65536, 65536, 65536, 65536, 65536, 65536, 65536, 65536, 65536, 65536, 65536, 65536, 65536, 65536, 65536, 65536, 65536, 65536, 65536, 65536, 65536, 65536, 65536, 65536, 65536, 65536, 65536, 65536, 65536, 65536, 65536, 65536, 65536, 65536, 65536, 65536, 65536, 65536, 65536, 65536, 65536, 65536, 65536, 65536, 65536, 65536, 65536, 65536, 65536, 65536, 65536, 65536, 65536, 65536, 65536, 65536, 65536, 65536, 65536, 65536, 65536, 65536, 65536, 65536, 65536, 65536, 65536, 65536, 65536, 65536, 65536, 65536, 65536, 65536, 65536, 65536, 65536, 65536, 65536, 65536, 65536, 65536, 65536, 65536, 65536, 65536, 65536, 65536, 65536, 65536, 65536, 65536, 65536, 65536, 65536, 65536, 65536, 65536, 65536, 65536, 65536, 65536, 65536, 65536, 65536, 65536, 65536, 65536, 65536, 65536, 65536, 65536, 65536, 65536, 65536, 65536, 65536, 65536, 65536, 65536, 65536, 65536, 65536, 65536, 65536, 65536, 65536, 65536, 65536, 65536, 65536, 65536, 65536, 65536, 65536, 65536, 65536, 65536, 65536, 65536, 65536, 65536, 65536, 65536, 65536, 65536, 65536, 65536, 65536, 65536, 65536, 65536, 65536, 65536, 65536, 65536, 65536, 65536, 65536, 65536, 65536, 65536, 65536, 65536, 65536, 65536, 65536, 65536, 65536, 65536, 65536, 65536, 65536, 65536, 65536, 65536, 65536, 65536, 65536, 65536, 65536, 65536, 65536, 65536, 65536, 65536, 65536, 65536, 65536, 65536, 65536, 65536, 65536, 65536, 65536, 65536, 65536, 65536, 65536, 65536, 65536, 65536, 65536, 65536, 65536, 65536, 65536, 65536, 65536, 65536, 65536, 65536, 65536, 65536, 65536, 65536, 65536, 65536, 65536, 65536, 65536, 65536, 65536, 65536, 65536, 65536, 65536, 65536, 65536, 65536, 65536, 65536, 65536, 65536, 65536, 65536, 65536, 65536, 65536, 65536, 65536, 65536, 65536, 65536, 65536, 65536, 65536, 65536, 65536, 65536, 65536, 65536, 65536, 65536, 65536, 65536, 65536, 65536, 65536, 65536, 65536, 65536, 65536, 65536, 65536, 65536, 65536, 65536, 65536, 65536, 65536, 65536, 65536, 65536, 65536, 65536, 65536, 65536, 65536, 65536, 65536, 65536, 65536, 65536, 65536, 65536, 65536, 65536, 65536, 65536, 65536, 65536, 65536, 65536, 65536, 65536, 65536, 65536, 65536, 65536, 65536, 65536, 65536, 65536, 65536, 65536, 65536, 65536, 65536, 65536, 65536, 65536, 65536, 65536, 65536, 65536, 65536, 65536, 65536, 65536, 65536, 65536, 65536, 65536, 65536, 65536, 65536, 65536, 65536, 65536, 65536, 65536, 65536, 65536, 65536, 65536, 65536, 65536, 65536, 65536, 65536, 65536, 65536, 65536, 65536, 65536, 65536, 65536, 65536, 65536, 65536, 65536, 65536, 65536, 65536, 65536, 65536, 65536, 65536, 65536, 65536, 65536, 65536, 65536, 65536, 65536, 65536, 65536, 65536, 65536, 65536, 65536, 65536, 65536, 65536, 65536, 65536, 65536, 65536, 65536, 65536, 65536, 65536, 65536, 65536, 65536, 65536, 65536, 65536, 65536, 65536, 65536, 65536, 65536, 65536, 65536, 65536, 65536, 65536, 65536, 65536, 65536, 65536, 65536, 65536, 65536, 65536, 65536, 65536, 65536, 65536, 65536, 65536, 65536, 65536, 65536, 65536, 65536, 65536, 65536, 65536, 65536, 65536, 65536, 65536, 65536, 65536, 65536, 65536, 65536, 65536, 65536, 65536, 65536, 65536, 65536, 65536, 65536, 65536, 65536, 65536, 65536, 65536, 65536, 65536, 65536, 65536, 65536, 65536, 65536, 65536, 65536, 65536, 65536, 65536, 65536, 65536, 65536, 65536, 65536, 65536, 65536, 65536, 65536, 65536, 65536, 65536, 65536, 65536, 65536, 65536, 65536, 65536, 65536, 65536, 65536, 65536, 65536, 65536, 65536, 65536, 65536, 65536, 65536, 65536, 65536, 65536, 65536, 65536, 65536, 65536, 65536, 65536, 65536, 65536, 65536, 65536, 65536, 65536, 65536, 65536, 65536, 65536, 65536, 65536, 65536, 65536, 65536, 65536, 65536, 65536, 65536, 65536, 65536, 65536, 65536, 65536, 65536, 65536, 65536, 65536, 65536, 65536, 65536, 65536, 65536, 65536, 65536, 65536, 65536, 65536, 65536, 65536, 65536, 65536, 65536, 65536, 65536, 65536, 65536, 65536, 65536, 65536, 65536, 65536, 65536, 65536, 65536, 65536, 65536, 65536, 65536, 65536, 65536, 65536, 65536, 65536, 65536, 65536, 65536, 65536, 65536, 65536, 65536, 65536, 65536, 65536, 65536, 65536, 65536, 65536, 65536, 65536, 65536, 65536, 65536, 65536, 65536, 65536, 65536, 65536, 65536, 65536, 65536, 65536, 65536, 65536, 65536, 65536, 65536, 65536, 65536, 65536, 65536, 65536, 65536, 65536, 65536, 65536, 65536, 65536, 65536, 65536, 65536, 65536, 65536, 65536, 65536, 65536, 65536, 65536, 65536, 65536, 65536, 65536, 65536, 65536, 65536, 65536, 65536, 65536, 65536, 65536, 65536, 65536, 65536, 65536, 65536, 65536, 65536, 65536, 65536, 65536, 65536, 65536, 65536, 65536, 65536, 65536, 65536, 65536, 65536, 65536, 65536, 65536, 65536, 65536, 65536, 65536, 65536, 65536, 65536, 65536, 65536, 65536, 65536, 65536, 65536, 65536, 65536, 65536, 65536, 65536, 65536, 65536, 65536, 65536, 65536, 65536, 65536, 65536, 65536, 65536, 65536, 65536, 65536, 65536, 65536, 65536, 65536, 65536, 65536, 65536, 65536, 65536, 65536, 65536, 65536, 65536, 65536, 65536, 65536, 65536, 65536, 65536, 65536, 65536, 65536, 65536, 65536, 65536, 65536, 65536, 65536, 65536, 65536, 65536, 65536, 65536, 65536, 65536, 65536, 65536, 65536, 65536, 65536, 65536, 65536, 65536, 65536, 65536, 65536, 65536, 65536, 65536, 65536, 65536, 65536, 65536, 65536, 65536, 65536, 65536, 65536, 65536, 65536, 65536, 65536, 65536, 65536, 65536, 65536, 65536, 65536, 65536, 65536, 65536, 65536, 65536, 65536, 65536, 65536, 65536, 65536, 65536, 65536, 65536, 65536, 65536, 65536, 65536, 65536, 65536, 65536, 65536, 65536, 65536, 65536, 65536, 65536, 65536, 65536, 65536, 65536, 65536, 65536, 65536, 65536, 65536, 65536, 65536, 65536, 65536, 65536, 65536, 65536, 65536, 65536, 65536, 65536, 65536, 65536, 65536, 65536, 65536, 65536, 65536, 65536, 65536, 65536, 65536, 65536, 65536, 65536, 65536, 65536, 65536, 65536, 65536, 65536, 65536, 65536, 65536, 65536, 65536, 65536, 65536, 65536, 65536, 65536, 65536, 65536, 65536, 65536, 65536, 65536, 65536, 65536, 65536, 65536, 65536, 65536, 65536, 65536, 65536, 65536, 65536, 65536, 65536, 65536, 65536, 65536, 65536, 65536, 65536, 65536, 65536, 65536, 65536, 65536, 65536, 65536, 65536, 65536, 65536, 65536, 65536, 65536, 65536, 65536, 65536, 65536, 65536, 65536, 65536, 65536, 65536, 65536, 65536, 65536, 65536, 65536, 65536, 65536, 65536, 65536, 65536, 65536, 65536, 65536, 65536, 65536, 65536, 65536, 65536, 65536, 65536, 65536, 65536, 65536, 65536, 65536, 65536, 65536, 65536, 65536, 65536, 65536, 65536, 65536, 65536, 65536, 65536, 65536, 65536, 65536, 65536, 65536, 65536, 65536, 65536, 65536, 65536, 65536, 65536, 65536, 65536, 65536, 65536, 65536, 65536, 65536, 65536, 65536, 65536, 65536, 65536, 65536, 65536, 65536, 65536, 65536, 65536, 65536, 65536, 65536, 65536, 65536, 65536, 65536, 65536, 65536, 65536, 65536, 65536, 65536, 65536, 65536, 65536, 65536, 65536, 65536, 65536, 65536, 65536, 65536, 65536, 65536, 65536, 65536, 65536, 65536, 65536, 65536, 65536, 65536, 65536, 65536, 65536, 65536, 65536, 65536, 65536, 65536, 65536, 65536, 65536, 65536, 65536, 65536, 65536, 65536, 65536, 65536, 65536, 65536, 65536, 65536, 65536, 65536, 65536, 65536, 65536, 65536, 65536, 65536, 65536, 65536, 65536, 65536, 65536, 65536, 65536, 65536, 65536, 65536, 65536, 65536, 65536, 65536, 65536, 65536, 65536, 65536, 65536, 65536, 65536, 65536, 65536, 65536, 65536, 65536, 65536, 65536, 65536, 65536, 65536, 65536, 65536, 65536, 65536, 65536, 65536, 65536, 65536, 65536, 65536, 65536, 65536, 65536, 65536, 65536, 65536, 65536, 65536, 65536, 65536, 65536, 65536, 65536, 65536, 65536, 65536, 65536, 65536, 65536, 65536, 65536, 65536, 65536, 65536, 65536, 65536, 65536, 65536, 65536, 65536, 65536, 65536, 65536, 65536, 65536, 65536, 65536, 65536, 65536, 65536, 65536, 65536, 65536, 65536, 65536, 65536, 65536, 65536, 65536, 65536, 65536, 65536, 65536, 65536, 65536, 65536, 65536, 65536, 65536, 65536, 65536, 65536, 65536, 65536, 65536, 65536, 65536, 65536, 65536, 65536, 65536, 65536, 65536, 65536, 65536, 65536, 65536, 65536, 65536, 65536, 65536, 65536, 65536, 65536, 65536, 65536, 65536, 65536, 65536, 65536, 65536, 65536, 65536, 65536, 65536, 65536, 65536, 65536, 65536, 65536, 65536, 65536, 65536, 65536, 65536, 65536, 65536, 65536, 65536, 65536, 65536, 65536, 65536, 65536, 65536, 65536, 65536, 65536, 65536, 65536, 65536, 65536, 65536, 65536, 65536, 65536, 65536, 65536, 65536, 65536, 65536, 65536, 65536, 65536, 65536, 65536, 65536, 65536, 65536, 65536, 65536, 65536, 65536, 65536, 65536, 65536, 65536, 65536, 65536, 65536, 65536, 65536, 65536, 65536, 65536, 65536, 65536, 65536, 65536, 65536, 65536, 65536, 65536, 65536, 65536, 65536, 65536, 65536, 65536, 65536, 65536, 65536, 65536, 65536, 65536, 65536, 65536, 65536, 65536, 65536, 65536, 65536, 65536, 65536, 65536, 65536, 65536, 65536, 65536, 65536, 65536, 65536, 65536, 65536, 65536, 65536, 65536, 65536, 65536, 65536, 65536, 65536, 65536, 65536, 65536, 65536, 65536, 65536, 65536, 65536, 65536, 65536, 65536, 65536, 65536, 65536, 65536, 65536, 65536, 65536, 65536, 65536, 65536, 65536, 65536, 65536, 65536, 65536, 65536, 65536, 65536, 65536, 65536, 65536, 65536, 65536, 65536, 65536, 65536, 65536, 65536, 65536, 65536, 65536, 65536, 65536, 65536, 65536, 65536, 65536, 65536, 65536, 65536, 65536, 65536, 65536, 65536, 65536, 65536, 65536, 65536, 65536, 65536, 65536, 65536, 65536, 65536, 65536, 65536, 65536, 65536, 65536, 65536, 65536, 65536, 65536, 65536, 65536, 65536, 65536, 65536, 65536, 65536, 65536, 65536, 65536, 65536, 65536, 65536, 65536, 65536, 65536, 65536, 65536, 65536, 65536, 65536, 65536, 65536, 65536, 65536, 65536, 65536, 65536, 65536, 65536, 65536, 65536, 65536, 65536, 65536, 65536, 65536, 65536, 65536, 65536, 65536, 65536, 65536, 65536, 65536, 65536, 65536, 65536, 65536, 65536, 65536, 65536, 65536, 65536, 65536, 65536, 65536, 65536, 65536, 65536, 65536, 65536, 65536, 65536, 65536, 65536, 65536, 65536, 65536, 65536, 65536, 65536, 65536, 65536, 65536, 65536, 65536, 65536, 65536, 65536, 65536, 65536, 65536, 65536, 65536, 65536, 65536, 65536, 65536, 65536, 65536, 65536, 65536, 65536, 65536, 65536, 65536, 65536, 65536, 65536, 65536, 65536, 65536, 65536, 65536, 65536, 65536, 65536, 65536, 65536, 65536, 65536, 65536, 65536, 65536, 65536, 65536, 65536, 65536, 65536, 65536, 65536, 65536, 65536, 65536, 65536, 65536, 65536, 65536, 65536, 65536, 65536, 65536, 65536, 65536, 65536, 65536, 65536, 65536, 65536, 65536, 65536, 65536, 65536, 65536, 65536, 65536, 65536, 65536, 65536, 65536, 65536, 65536, 65536, 65536, 65536, 65536, 65536, 65536, 65536, 65536, 65536, 65536, 65536, 65536, 65536, 65536, 65536, 65536, 65536, 65536, 65536, 65536, 65536, 65536, 65536, 65536, 65536, 65536, 65536, 65536, 65536, 65536, 65536, 65536, 65536, 65536, 65536, 65536, 65536, 65536, 65536, 65536, 65536, 65536, 65536, 65536, 65536, 65536, 65536, 65536, 65536, 65536, 65536, 65536, 65536, 65536, 65536, 65536, 65536, 65536, 65536, 65536, 65536, 65536, 65536, 65536, 65536, 65536, 65536, 65536, 65536, 65536, 65536, 65536, 65536, 65536, 65536, 65536, 65536, 65536, 65536, 65536, 65536, 65536, 65536, 65536, 65536, 65536, 65536, 65536, 65536, 65536, 65536, 65536, 65536, 65536, 65536, 65536, 65536, 65536, 65536, 65536, 65536, 65536, 65536, 65536, 65536, 65536, 65536, 65536, 65536, 65536, 65536, 65536, 65536, 65536, 65536, 65536, 65536, 65536, 65536, 65536, 65536, 65536, 65536, 65536, 65536, 65536, 65536, 65536, 65536, 65536, 65536, 65536, 65536, 65536, 65536, 65536, 65536, 65536, 65536, 65536, 65536, 65536, 65536, 65536, 65536, 65536, 65536, 65536, 65536, 65536, 65536, 65536, 65536, 65536, 65536, 65536, 65536, 65536, 65536, 65536, 65536, 65536, 65536, 65536, 65536, 65536, 65536, 65536, 65536, 65536, 65536, 65536, 65536, 65536, 65536, 65536, 65536, 65536, 65536, 65536, 65536, 65536, 65536, 65536, 65536, 65536, 65536, 65536, 65536, 65536, 65536, 65536, 65536, 65536, 65536, 65536, 65536, 65536, 65536, 65536, 65536, 65536, 65536, 65536, 65536, 65536, 65536, 65536, 65536, 65536, 65536, 65536, 65536, 65536, 65536, 65536, 65536, 65536, 65536, 65536, 65536, 65536, 65536, 65536, 65536, 65536, 65536, 65536, 65536, 65536, 65536, 65536, 65536, 65536, 65536, 65536, 65536, 65536, 65536, 65536, 65536, 65536, 65536, 65536, 65536, 65536, 65536, 65536, 65536, 65536, 65536, 65536, 65536, 65536, 65536, 65536, 65536, 65536, 65536, 65536, 65536, 65536, 65536, 65536, 65536, 65536, 65536, 65536, 65536, 65536, 65536, 65536, 65536, 65536, 65536, 65536, 65536, 65536, 65536, 65536, 65536, 65536, 65536, 65536, 65536, 65536, 65536, 65536, 65536, 65536, 65536, 65536, 65536, 65536, 65536, 65536, 65536, 65536, 65536, 65536, 65536, 65536, 65536, 65536, 65536, 65536, 65536, 65536, 65536, 65536, 65536, 65536, 65536, 65536, 65536, 65536, 65536, 65536, 65536, 65536, 65536, 65536, 65536, 65536, 65536, 65536, 65536, 65536, 65536, 65536, 65536, 65536, 65536, 65536, 65536, 65536, 65536, 65536, 65536, 65536, 65536, 65536, 65536, 65536, 65536, 65536, 65536, 65536, 65536, 65536, 65536, 65536, 65536, 65536, 65536, 65536, 65536, 65536, 65536, 65536, 65536, 65536, 65536, 65536, 65536, 65536, 65536, 65536, 65536, 65536, 65536, 65536, 65536, 65536, 65536, 65536, 65536, 65536, 65536, 65536, 65536, 65536, 65536, 65536, 65536, 65536, 65536, 65536, 65536, 65536, 65536, 65536, 65536, 65536, 65536, 65536, 65536, 65536, 65536, 65536, 65536, 65536, 65536, 65536, 65536, 65536, 65536, 65536, 65536, 65536, 65536, 65536, 65536, 65536, 65536, 65536, 65536, 65536, 65536, 65536, 65536, 65536, 65536, 65536, 65536, 65536, 65536, 65536, 65536, 65536, 65536, 65536, 65536, 65536, 65536, 65536, 65536, 65536, 65536, 65536, 65536, 65536, 65536, 65536, 65536, 65536, 65536, 65536, 65536, 65536, 65536, 65536, 65536, 65536, 65536, 65536, 65536, 65536, 65536, 65536, 65536, 65536, 65536, 65536, 65536, 65536, 65536, 65536, 65536, 65536, 65536, 65536, 65536, 65536, 65536, 65536, 65536, 65536, 65536, 65536, 65536, 65536, 65536, 65536, 65536, 65536, 65536, 65536, 65536, 65536, 65536, 65536, 65536, 65536, 65536, 65536, 65536, 65536, 65536, 65536, 65536, 65536, 65536, 65536, 65536, 65536, 65536, 65536, 65536, 65536, 65536, 65536, 65536, 65536, 65536, 65536, 65536, 65536, 65536, 65536, 65536, 65536, 65536, 65536, 65536, 65536, 65536, 65536, 65536, 65536, 65536, 65536, 65536, 65536, 65536, 65536, 65536, 65536, 65536, 65536, 65536, 65536, 65536, 65536, 65536, 65536, 65536, 65536, 65536, 65536, 65536, 65536, 65536, 65536, 65536, 65536, 65536, 65536, 65536, 65536, 65536, 65536, 65536, 65536, 65536, 65536, 65536, 65536, 65536, 65536, 65536, 65536, 65536, 65536, 65536, 65536, 65536, 65536, 65536, 65536, 65536, 65536, 65536, 65536, 65536, 65536, 65536, 65536, 65536, 65536, 65536, 65536, 65536, 65536, 65536, 65536, 65536, 65536, 65536, 65536, 65536, 65536, 65536, 65536, 65536, 65536, 65536, 65536, 65536, 65536, 65536, 65536, 65536, 65536, 65536, 65536, 65536, 65536, 65536, 65536, 65536, 65536, 65536, 65536, 65536, 65536, 65536, 65536, 65536, 65536, 65536, 65536, 65536, 65536, 65536, 65536, 65536, 65536, 65536, 65536, 65536, 65536, 65536, 65536, 65536, 65536, 65536, 65536, 65536, 65536, 65536, 65536, 65536, 65536, 65536, 65536, 65536, 65536, 65536, 65536, 65536, 65536, 65536, 65536, 65536, 65536, 65536, 65536, 65536, 65536, 65536, 65536, 65536, 65536, 65536, 65536, 65536, 65536, 65536, 65536, 65536, 65536, 65536, 65536, 65536, 65536, 65536, 65536, 65536, 65536, 65536, 65536, 65536, 65536, 65536, 65536, 65536, 65536, 65536, 65536, 65536, 65536, 65536, 65536, 65536, 65536, 65536, 65536, 65536, 65536, 65536, 65536, 65536, 65536, 65536, 65536, 65536, 65536, 65536, 65536, 65536, 65536, 65536, 65536, 65536, 65536, 65536, 65536, 65536, 65536, 65536, 65536, 65536, 65536, 65536, 65536, 65536, 65536, 65536, 65536, 65536, 65536, 65536, 65536, 65536, 65536, 65536, 65536, 65536, 65536, 65536, 65536, 65536, 65536, 65536, 65536, 65536, 65536, 65536, 65536, 65536, 65536, 65536, 65536, 65536, 65536, 65536, 65536, 65536, 65536, 65536, 65536, 65536, 65536, 65536, 65536, 65536, 65536, 65536, 65536, 65536, 65536, 65536, 65536, 65536, 65536, 65536, 65536, 65536, 65536, 65536, 65536, 65536, 65536, 65536, 65536, 65536, 65536, 65536, 65536, 65536, 65536, 65536, 65536, 65536, 65536, 65536, 65536, 65536, 65536, 65536, 65536, 65536, 65536, 65536, 65536, 65536, 65536, 65536, 65536, 65536, 65536, 65536, 65536, 65536, 65536, 65536, 65536, 65536, 65536, 65536, 65536, 65536, 65536, 65536, 65536, 65536, 65536, 65536, 65536, 65536, 65536, 65536, 65536, 65536, 65536, 65536, 65536, 65536, 65536, 65536, 65536, 65536, 65536, 65536, 65536, 65536, 65536, 65536, 65536, 65536, 65536, 65536, 65536, 65536, 65536, 65536, 65536, 65536, 65536, 65536, 65536, 65536, 65536, 65536, 65536, 65536, 65536, 65536, 65536, 65536, 65536, 65536, 65536, 65536, 65536, 65536, 65536, 65536, 65536, 65536, 65536, 65536, 65536, 65536, 65536, 65536, 65536, 65536, 65536, 65536, 65536, 65536, 65536, 65536, 65536, 65536, 65536, 65536, 65536, 65536, 65536, 65536, 65536, 65536, 65536, 65536, 65536, 65536, 65536, 65536, 65536, 65536, 65536, 65536, 65536, 65536, 65536, 65536, 65536, 65536, 65536, 65536, 65536, 65536, 65536, 65536, 65536, 65536, 65536, 65536, 65536, 65536, 65536, 65536, 65536, 65536, 65536, 65536, 65536, 65536, 65536, 65536, 65536, 65536, 65536, 65536, 65536, 65536, 65536, 65536, 65536, 65536, 65536, 65536, 65536, 65536, 65536, 65536, 65536, 65536, 65536, 65536, 65536, 65536, 65536, 65536, 65536, 65536, 65536, 65536, 65536, 65536, 65536, 65536, 65536, 65536, 65536, 65536, 65536, 65536, 65536, 65536, 65536, 65536, 65536, 65536, 65536, 65536, 65536, 65536, 65536, 65536, 65536, 65536, 65536, 65536, 65536, 65536, 65536, 65536, 65536, 65536, 65536, 65536, 65536, 65536, 65536, 65536, 65536, 65536, 65536, 65536, 65536, 65536, 65536, 65536, 65536, 65536, 65536, 65536, 65536, 65536, 65536, 65536, 65536, 65536, 65536, 65536, 65536, 65536, 65536, 65536, 65536, 65536, 65536, 65536, 65536, 65536, 65536, 65536, 65536, 65536, 65536, 65536, 65536, 65536, 65536, 65536, 65536, 65536, 65536, 65536, 65536, 65536, 65536, 65536, 65536, 65536, 65536, 65536, 65536, 65536, 65536, 65536, 65536, 65536, 65536, 65536, 65536, 65536, 65536, 65536, 65536, 65536, 65536, 65536, 65536, 65536, 65536, 65536, 65536, 65536, 65536, 65536, 65536, 65536, 65536, 65536, 65536, 65536, 65536, 65536, 65536, 65536, 65536, 65536, 65536, 65536, 65536, 65536, 65536, 65536, 65536, 65536, 65536, 65536, 65536, 65536, 65536, 65536, 65536, 65536, 65536, 65536, 65536, 65536, 65536, 65536, 65536, 65536, 65536, 65536, 65536, 65536, 65536, 65536, 65536, 65536, 65536, 65536, 65536, 65536, 65536, 65536, 65536, 65536, 65536, 65536, 65536, 65536, 65536, 65536, 65536, 65536, 65536, 65536, 65536, 65536, 65536, 65536, 65536, 65536, 65536, 65536, 65536, 65536, 65536, 65536, 65536, 65536, 65536, 65536, 65536, 65536, 65536, 65536, 65536, 65536, 65536, 65536, 65536, 65536, 65536, 65536, 65536, 65536, 65536, 65536, 65536, 65536, 65536, 65536, 65536, 65536, 65536, 65536, 65536, 65536, 65536, 65536, 65536, 65536, 65536, 65536, 65536, 65536, 65536, 65536, 65536, 65536, 65536, 65536, 65536, 65536, 65536, 65536, 65536, 65536, 65536, 65536, 65536, 65536, 65536, 65536, 65536, 65536, 65536, 65536, 65536, 65536, 65536, 65536, 65536, 65536, 65536, 65536, 65536, 65536, 65536, 65536, 65536, 65536, 65536, 65536, 65536, 65536, 65536, 65536, 65536, 65536, 65536, 65536, 65536, 65536, 65536, 65536, 65536, 65536, 65536, 65536, 65536, 65536, 65536, 65536, 65536, 65536, 65536, 65536, 65536, 65536, 65536, 65536, 65536, 65536, 65536, 65536, 65536, 65536, 65536, 65536, 65536, 65536, 65536, 65536, 65536, 65536, 65536, 65536, 65536, 65536, 65536, 65536, 65536, 65536, 65536, 65536, 65536, 65536, 65536, 65536, 65536, 65536, 65536, 65536, 65536, 65536, 65536, 65536, 65536, 65536, 65536, 65536, 65536, 65536, 65536, 65536, 65536, 65536, 65536, 65536, 65536, 65536, 65536, 65536, 65536, 65536, 65536, 65536, 65536, 65536, 65536, 65536, 65536, 65536, 65536, 65536, 65536, 65536, 65536, 65536, 65536, 65536, 65536, 65536, 65536, 65536, 65536, 65536, 65536, 65536, 65536, 65536, 65536, 65536, 65536, 65536, 65536, 65536, 65536, 65536, 65536, 65536, 65536, 65536, 65536, 65536, 65536, 65536, 65536, 65536, 65536, 65536, 65536, 65536, 65536, 65536, 65536, 65536, 65536, 65536, 65536, 65536, 65536, 65536, 65536, 65536, 65536, 65536, 65536, 65536, 65536, 65536, 65536, 65536, 65536, 65536, 65536, 65536, 65536, 65536, 65536, 65536, 65536, 65536, 65536, 65536, 65536, 65536, 65536, 65536, 65536, 65536, 65536, 65536, 65536, 65536, 65536, 65536, 65536, 65536, 65536, 65536, 65536, 65536, 65536, 65536, 65536, 65536, 65536, 65536, 65536, 65536, 65536, 65536, 65536, 65536, 65536, 65536, 65536, 65536, 65536, 65536, 65536, 65536, 65536, 65536, 65536, 65536, 65536, 65536, 65536, 65536, 65536, 65536, 65536, 65536, 65536, 65536, 65536, 65536, 65536, 65536, 65536, 65536, 65536, 65536, 65536, 65536, 65536, 65536, 65536, 65536, 65536, 65536, 65536, 65536, 65536, 65536, 65536, 65536, 65536, 65536, 65536, 65536, 65536, 65536, 65536, 65536, 65536, 65536, 65536, 65536, 65536, 65536, 65536, 65536, 65536, 65536, 65536, 65536, 65536, 65536, 65536, 65536, 65536, 65536, 65536, 65536, 65536, 65536, 65536, 65536, 65536, 65536, 65536, 65536, 65536, 65536, 65536, 65536, 65536, 65536, 65536, 65536, 65536, 65536, 65536, 65536, 65536, 65536, 65536, 65536, 65536, 65536, 65536, 65536, 65536, 65536, 65536, 65536, 65536, 65536, 65536, 65536, 65536, 65536, 65536, 65536, 65536, 65536, 65536, 65536, 65536, 65536, 65536, 65536, 65536, 65536, 65536, 65536, 65536, 65536, 65536, 65536, 65536, 65536, 65536, 65536, 65536, 65536, 65536, 65536, 65536, 65536, 65536, 65536, 65536, 65536, 65536, 65536, 65536, 65536, 65536, 65536, 65536, 65536, 65536, 65536, 65536, 65536, 65536, 65536, 65536, 65536, 65536, 65536, 65536, 65536, 65536, 65536, 65536, 65536, 65536, 65536, 65536, 65536, 65536, 65536, 65536, 65536, 65536, 65536, 65536, 65536, 65536, 65536, 65536, 65536, 65536, 65536, 65536, 65536, 65536, 65536, 65536, 65536, 65536, 65536, 65536, 65536, 65536, 65536, 65536, 65536, 65536, 65536, 65536, 65536, 65536, 65536, 65536, 65536, 65536, 65536, 65536, 65536, 65536, 65536, 65536, 65536, 65536, 65536, 65536, 65536, 65536, 65536, 65536, 65536, 65536, 65536, 65536, 65536, 65536, 65536, 65536, 65536, 65536, 65536, 65536, 65536, 65536, 65536, 65536, 65536, 65536, 65536, 65536, 65536, 65536, 65536, 65536, 65536, 65536, 65536, 65536, 65536, 65536, 65536, 65536, 65536, 65536, 65536, 65536, 65536, 65536, 65536, 65536, 65536, 65536, 65536, 65536, 65536, 65536, 65536, 65536, 65536, 65536, 65536, 65536, 65536, 65536, 65536, 65536, 65536, 65536, 65536, 65536, 65536, 65536, 65536, 65536, 65536, 65536, 65536, 65536, 65536, 65536, 65536, 65536, 65536, 65536, 65536, 65536, 65536, 65536, 65536, 65536, 65536, 65536, 65536, 65536, 65536, 65536, 65536, 65536, 65536, 65536, 65536, 65536, 65536, 65536, 65536, 65536, 65536, 65536, 65536, 65536, 65536, 65536, 65536, 65536, 65536, 65536, 65536, 65536, 65536, 65536, 65536, 65536, 65536, 65536, 65536, 65536, 65536, 65536, 65536, 65536, 65536, 65536, 65536, 65536, 65536, 65536, 65536, 65536, 65536, 65536, 65536, 65536, 65536, 65536, 65536, 65536, 65536, 65536, 65536, 65536, 65536, 65536, 65536, 65536, 65536, 65536, 65536, 65536, 65536, 65536, 65536, 65536, 65536, 65536, 65536, 65536, 65536, 65536, 65536, 65536, 65536, 65536, 65536, 65536, 65536, 65536, 65536, 65536, 65536, 65536, 65536, 65536, 65536, 65536, 65536, 65536, 65536, 65536, 65536, 65536, 65536, 65536, 65536, 65536, 65536, 65536, 65536, 65536, 65536, 65536, 65536, 65536, 65536, 65536, 65536, 65536, 65536, 65536, 65536, 65536, 65536, 65536, 65536, 65536, 65536, 65536, 65536, 65536, 65536, 65536, 65536, 65536, 65536, 65536, 65536, 65536, 65536, 65536, 65536, 65536, 65536, 65536, 65536, 65536, 65536, 65536, 65536, 65536, 65536, 65536, 65536, 65536, 65536, 65536, 65536, 65536, 65536, 65536, 65536, 65536, 65536, 65536, 65536, 65536, 65536, 65536, 65536, 65536, 65536, 65536, 65536, 65536, 65536, 65536, 65536, 65536, 65536, 65536, 65536, 65536, 65536, 65536, 65536, 65536, 65536, 65536, 65536, 65536, 65536, 65536, 65536, 65536, 65536, 65536, 65536, 65536, 65536, 65536, 65536, 65536, 65536, 65536, 65536, 65536, 65536, 65536, 65536, 65536, 65536, 65536, 65536, 65536, 65536, 65536, 65536, 65536, 65536, 65536, 65536, 65536, 65536, 65536, 65536, 65536, 65536, 65536, 65536, 65536, 65536, 65536, 65536, 65536, 65536, 65536, 65536, 65536, 65536, 65536, 65536, 65536, 65536, 65536, 65536, 65536, 65536, 65536, 65536, 65536, 65536, 65536, 65536, 65536, 65536, 65536, 65536, 65536, 65536, 65536, 65536, 65536, 65536, 65536, 65536, 65536, 65536, 65536, 65536, 65536, 65536, 65536, 65536, 65536, 65536, 65536, 65536, 65536, 65536, 65536, 65536, 65536, 65536, 65536, 65536, 65536, 65536, 65536, 65536, 65536, 65536, 65536, 65536, 65536, 65536, 65536, 65536, 65536, 65536, 65536, 65536, 65536, 65536, 65536, 65536, 65536, 65536, 65536, 65536, 65536, 65536, 65536, 65536, 65536, 65536, 65536, 65536, 65536, 65536, 65536, 65536, 65536, 65536, 65536, 65536, 65536, 65536, 65536, 65536, 65536, 65536, 65536, 65536, 65536, 65536, 65536, 65536, 65536, 65536, 65536, 65536, 65536, 65536, 65536, 65536, 65536, 65536, 65536, 65536, 65536, 65536, 65536, 65536, 65536, 65536, 65536, 65536, 65536, 65536, 65536, 65536, 65536, 65536, 65536, 65536, 65536, 65536, 65536, 65536, 65536, 65536, 65536, 65536, 65536, 65536, 65536, 65536, 65536, 65536, 65536, 65536, 65536, 65536, 65536, 65536, 65536, 65536, 65536, 65536, 65536, 65536, 65536, 65536, 65536, 65536, 65536, 65536, 65536, 65536, 65536, 65536, 65536, 65536, 65536, 65536, 65536, 65536, 65536, 65536, 65536, 65536, 65536, 65536, 65536, 65536, 65536, 65536, 65536, 65536, 65536, 65536, 65536, 65536, 65536, 65536, 65536, 65536, 65536, 65536, 65536, 65536, 65536, 65536, 65536, 65536, 65536, 65536, 65536, 65536, 65536, 65536, 65536, 65536, 65536, 65536, 65536, 65536, 65536, 65536, 65536, 65536, 65536, 65536, 65536, 65536, 65536, 65536, 65536, 65536, 65536, 65536, 65536, 65536, 65536, 65536, 65536, 65536, 65536, 65536, 65536, 65536, 65536, 65536, 65536, 65536, 65536, 65536, 65536, 65536, 65536, 65536, 65536, 65536, 65536, 65536, 65536, 65536, 65536, 65536, 65536, 65536, 65536, 65536, 65536, 65536, 65536, 65536, 65536, 65536, 65536, 65536, 65536, 65536, 65536, 65536, 65536, 65536, 65536, 65536, 65536, 65536, 65536, 65536, 65536, 65536, 65536, 65536, 65536, 65536, 65536, 65536, 65536, 65536, 65536, 65536, 65536, 65536, 65536, 65536, 65536, 65536, 65536, 65536, 65536, 65536, 65536, 65536, 65536, 65536, 65536, 65536, 65536, 65536, 65536, 65536, 65536, 65536, 65536, 65536, 65536, 65536, 65536, 65536, 65536, 65536, 65536, 65536, 65536, 65536, 65536, 65536, 65536, 65536, 65536, 65536, 65536, 65536, 65536, 65536, 65536, 65536, 65536, 65536, 65536, 65536, 65536, 65536, 65536, 65536, 65536, 65536, 65536, 65536, 65536, 65536, 65536, 65536, 65536, 65536, 65536, 65536, 65536, 65536, 65536, 65536, 65536, 65536, 65536, 65536, 65536, 65536, 65536, 65536, 65536, 65536, 65536, 65536, 65536, 65536, 65536, 65536, 65536, 65536, 65536, 65536, 65536, 65536, 65536, 65536, 65536, 65536, 65536, 65536, 65536, 65536, 65536, 65536, 65536, 65536, 65536, 65536, 65536, 65536, 65536, 65536, 65536, 65536, 65536, 65536, 65536, 65536, 65536, 65536, 65536, 65536, 65536, 65536, 65536, 65536, 65536, 65536, 65536, 65536, 65536, 65536, 65536, 65536, 65536, 65536, 65536, 65536, 65536, 65536, 65536, 65536, 65536, 65536, 65536, 65536, 65536, 65536, 65536, 65536, 65536, 65536, 65536, 65536, 65536, 65536, 65536, 65536, 65536, 65536, 65536, 65536, 65536, 65536, 65536, 65536, 65536, 65536, 65536, 65536, 65536, 65536, 65536, 65536, 65536, 65536, 65536, 65536, 65536, 65536, 65536, 65536, 65536, 65536, 65536, 65536, 65536, 65536, 65536, 65536, 65536, 65536, 65536, 65536, 65536, 65536, 65536, 65536, 65536, 65536, 65536, 65536, 65536, 65536, 65536, 65536, 65536, 65536, 65536, 65536, 65536, 65536, 65536, 65536, 65536, 65536, 65536, 65536, 65536, 65536, 65536, 65536, 65536, 65536, 65536, 65536, 65536, 65536, 65536, 65536, 65536, 65536, 65536, 65536, 65536, 65536, 65536, 65536, 65536, 65536, 65536, 65536, 65536, 65536, 65536, 65536, 65536, 65536, 65536, 65536, 65536, 65536, 65536, 65536, 65536, 65536, 65536, 65536, 65536, 65536, 65536, 65536, 65536, 65536, 65536, 65536, 65536, 65536, 65536, 65536, 65536, 65536, 65536, 65536, 65536, 65536, 65536, 65536, 65536, 65536, 65536, 65536, 65536, 65536, 65536, 65536, 65536, 65536, 65536, 65536, 65536, 65536, 65536, 65536, 65536, 65536, 65536, 65536, 65536, 65536, 65536, 65536, 65536, 65536, 65536, 65536, 65536, 65536, 65536, 65536, 65536, 65536, 65536, 65536, 65536, 65536, 65536, 65536, 65536, 65536, 65536, 65536, 65536, 65536, 65536, 65536, 65536, 65536, 65536, 65536, 65536, 65536, 65536, 65536, 65536, 65536, 65536, 65536, 65536, 65536, 65536, 65536, 65536, 65536, 65536, 65536, 65536, 65536, 65536, 65536, 65536, 65536, 65536, 65536, 65536, 65536, 65536, 65536, 65536, 65536, 65536, 65536, 65536, 65536, 65536, 65536, 65536, 65536, 65536, 65536, 65536, 65536, 65536, 65536, 65536, 65536, 65536, 65536, 65536, 65536, 65536, 65536, 65536, 65536, 65536, 65536, 65536, 65536, 65536, 65536, 65536, 65536, 65536, 65536, 65536, 65536, 65536, 65536, 65536, 65536, 65536, 65536, 65536, 65536, 65536, 65536, 65536, 65536, 65536, 65536, 65536, 65536, 65536, 65536, 65536, 65536, 65536, 65536, 65536, 65536, 65536, 65536, 65536, 65536, 65536, 65536, 65536, 65536, 65536, 65536, 65536, 65536, 65536, 65536, 65536, 65536, 65536, 65536, 65536, 65536, 65536, 65536, 65536, 65536, 65536, 65536, 65536, 65536, 65536, 65536, 65536, 65536, 65536, 65536, 65536, 65536, 65536, 65536, 65536, 65536, 65536, 65536, 65536, 65536, 65536, 65536, 65536, 65536, 65536, 65536, 65536, 65536, 65536, 65536, 65536, 65536, 65536, 65536, 65536, 65536, 65536, 65536, 65536, 65536, 65536, 65536, 65536, 65536, 65536, 65536, 65536, 65536, 65536, 65536, 65536, 65536, 65536, 65536, 65536, 65536, 65536, 65536, 65536, 65536, 65536, 65536, 65536, 65536, 65536, 65536, 65536, 65536, 65536, 65536, 65536, 65536, 65536, 65536, 65536, 65536, 65536, 65536, 65536, 65536, 65536, 65536, 65536, 65536, 65536, 65536, 65536, 65536, 65536, 65536, 65536, 65536, 65536, 65536, 65536, 65536, 65536, 65536, 65536, 65536, 65536, 65536, 65536, 65536, 65536, 65536, 65536, 65536, 65536, 65536, 65536, 65536, 65536, 65536, 65536, 65536, 65536, 65536, 65536, 65536, 65536, 65536, 65536, 65536, 65536, 65536, 65536, 65536, 65536, 65536, 65536, 65536, 65536, 65536, 65536, 65536, 65536, 65536, 65536, 65536, 65536, 65536, 65536, 65536, 65536, 65536, 65536, 65536, 65536, 65536, 65536, 65536, 65536, 65536, 65536, 65536, 65536, 65536, 65536, 65536, 65536, 65536, 65536, 65536, 65536, 65536, 65536, 65536, 65536, 65536, 65536, 65536, 65536, 65536, 65536, 65536, 65536, 65536, 65536, 65536, 65536, 65536, 65536, 65536, 65536, 65536, 65536, 65536, 65536, 65536, 65536, 65536, 65536, 65536, 65536, 65536, 65536, 65536, 65536, 65536, 65536, 65536, 65536, 65536, 65536, 65536, 65536, 65536, 65536, 65536, 65536, 65536, 65536, 65536, 65536, 65536, 65536, 65536, 65536, 65536, 65536, 65536, 65536, 65536, 65536, 65536, 65536, 65536, 65536, 65536, 65536, 65536, 65536, 65536, 65536, 65536, 65536, 65536, 65536, 65536, 65536, 65536, 65536, 65536, 65536, 65536, 65536, 65536, 65536, 65536, 65536, 65536, 65536, 65536, 65536, 65536, 65536, 65536, 65536, 65536, 65536, 65536, 65536, 65536, 65536, 65536, 65536, 65536, 65536, 65536, 65536, 65536, 65536, 65536, 65536, 65536, 65536, 65536, 65536, 65536, 65536, 65536, 65536, 65536, 65536, 65536, 65536, 65536, 65536, 65536, 65536, 65536, 65536, 65536, 65536, 65536, 65536, 65536, 65536, 65536, 65536, 65536, 65536, 65536, 65536, 65536, 65536, 65536, 65536, 65536, 65536, 65536, 65536, 65536, 65536, 65536, 65536, 65536, 65536, 65536, 65536, 65536, 65536, 65536, 65536, 65536, 65536, 65536, 65536, 65536, 65536, 65536, 65536, 65536, 65536, 65536, 65536, 65536, 65536, 65536, 65536, 65536, 65536, 65536, 65536, 65536, 65536, 65536, 65536, 65536, 65536, 65536, 65536, 65536, 65536, 65536, 65536, 65536, 65536, 65536, 65536, 65536, 65536, 65536, 65536, 65536, 65536, 65536, 65536, 65536, 65536, 65536, 65536, 65536, 65536, 65536, 65536, 65536, 65536, 65536, 65536, 65536, 65536, 65536, 65536, 65536, 65536, 65536, 65536, 65536, 65536, 65536, 65536, 65536, 65536, 65536, 65536, 65536, 65536, 65536, 65536, 65536, 65536, 65536, 65536, 65536, 65536, 65536, 65536, 65536, 65536, 65536, 65536, 65536, 65536, 65536, 65536, 65536, 65536, 65536, 65536, 65536, 65536, 65536, 65536, 65536, 65536, 65536, 65536, 65536, 65536, 65536, 65536, 65536, 65536, 65536, 65536, 65536, 65536, 65536, 65536, 65536, 65536, 65536, 65536, 65536, 65536, 65536, 65536, 65536, 65536, 65536, 65536, 65536, 65536, 65536, 65536, 65536, 65536, 65536, 65536, 65536, 65536, 65536, 65536, 65536, 65536, 65536, 65536, 65536, 65536, 65536, 65536, 65536, 65536, 65536, 65536, 65536, 65536, 65536, 65536, 65536, 65536, 65536, 65536, 65536, 65536, 65536, 65536, 65536, 65536, 65536, 65536, 65536, 65536, 65536, 65536, 65536, 65536, 65536, 65536, 65536, 65536, 65536, 65536, 65536, 65536, 65536, 65536, 65536, 65536, 65536, 65536, 65536, 65536, 65536, 65536, 65536, 65536, 65536, 65536, 65536, 65536, 65536, 65536, 65536, 65536, 65536, 65536, 65536, 65536, 65536, 65536, 65536, 65536, 65536, 65536, 65536, 65536, 65536, 65536, 65536, 65536, 65536, 65536, 65536, 65536, 65536, 65536, 65536, 65536, 65536, 65536, 65536, 65536, 65536, 65536, 65536, 65536, 65536, 65536, 65536, 65536, 65536, 65536, 65536, 65536, 65536, 65536, 65536, 65536, 65536, 65536, 65536, 65536, 65536, 65536, 65536, 65536, 65536, 65536, 65536, 65536, 65536, 65536, 65536, 65536, 65536, 65536, 65536, 65536, 65536, 65536, 65536, 65536, 65536, 65536, 65536, 65536, 65536, 65536, 65536, 65536, 65536, 65536, 65536, 65536, 65536, 65536, 65536, 65536, 65536, 65536, 65536, 65536, 65536, 65536, 65536, 65536, 65536, 65536, 65536, 65536, 65536, 65536, 65536, 65536, 65536, 65536, 65536, 65536, 65536, 65536, 65536, 65536, 65536, 65536, 65536, 65536, 65536, 65536, 65536, 65536, 65536, 65536, 65536, 65536, 65536, 65536, 65536, 65536, 65536, 65536, 65536, 65536, 65536, 65536, 65536, 65536, 65536, 65536, 65536, 65536, 65536, 65536, 65536, 65536, 65536, 65536, 65536, 65536, 65536, 65536, 65536, 65536, 65536, 65536, 65536, 65536, 65536, 65536, 65536, 65536, 65536, 65536, 65536, 65536, 65536, 65536, 65536, 65536, 65536, 65536, 65536, 65536, 65536, 65536, 65536, 65536, 65536, 65536, 65536, 65536, 65536, 65536, 65536, 65536, 65536, 65536, 65536, 65536, 65536, 65536, 65536, 65536, 65536, 65536, 65536, 65536, 65536, 65536, 65536, 65536, 65536, 65536, 65536, 65536, 65536, 65536, 65536, 65536, 65536, 65536, 65536, 65536, 65536, 65536, 65536, 65536, 65536, 65536, 65536, 65536, 65536, 65536, 65536, 65536, 65536, 65536, 65536, 65536, 65536, 65536, 65536, 65536, 65536, 65536, 65536, 65536, 65536, 65536, 65536, 65536, 65536, 65536, 65536, 65536, 65536, 65536, 65536, 65536, 65536, 65536, 65536, 65536, 65536, 65536, 65536, 65536, 65536, 65536, 65536, 65536, 65536, 65536, 65536, 65536, 65536, 65536, 65536, 65536, 65536, 65536, 65536, 65536, 65536, 65536, 65536, 65536, 65536, 65536, 65536, 65536, 65536, 65536, 65536, 65536, 65536, 65536, 65536, 65536, 65536, 65536, 65536, 65536, 65536, 65536, 65536, 65536, 65536, 65536, 65536, 65536, 65536, 65536, 65536, 65536, 65536, 65536, 65536, 65536, 65536, 65536, 65536, 65536, 65536, 65536, 65536, 65536, 65536, 65536, 65536, 65536, 65536, 65536, 65536, 65536, 65536, 65536, 65536, 65536, 65536, 65536, 65536, 65536, 65536, 65536, 65536, 65536, 65536, 65536, 65536, 65536, 65536, 65536, 65536, 65536, 65536, 65536, 65536, 65536, 65536, 65536, 65536, 65536, 65536, 65536, 65536, 65536, 65536, 65536, 65536, 65536, 65536, 65536, 65536, 65536, 65536, 65536, 65536, 65536, 65536, 65536, 65536, 65536, 65536, 65536, 65536, 65536, 65536, 65536, 65536, 65536, 65536, 65536, 65536, 65536, 65536, 65536, 65536, 65536, 65536, 65536, 65536, 65536, 65536, 65536, 65536, 65536, 65536, 65536, 65536, 65536, 65536, 65536, 65536, 65536, 65536, 65536, 65536, 65536, 65536, 65536, 65536, 65536, 65536, 65536, 65536, 65536, 65536, 65536, 65536, 65536, 65536, 65536, 65536, 65536, 65536, 65536, 65536, 65536, 65536, 65536, 65536, 65536, 65536, 65536, 65536, 65536, 65536, 65536, 65536, 65536, 65536, 65536, 65536, 65536, 65536, 65536, 65536, 65536, 65536, 65536, 65536, 65536, 65536, 65536, 65536, 65536, 65536, 65536, 65536, 65536, 65536, 65536, 65536, 65536, 65536, 65536, 65536, 65536, 65536, 65536, 65536, 65536, 65536, 65536, 65536, 65536, 65536, 65536, 65536, 65536, 65536, 65536, 65536, 65536, 65536, 65536, 65536, 65536, 65536, 65536, 65536, 65536, 65536, 65536, 65536, 65536, 65536, 65536, 65536, 65536, 65536, 65536, 65536, 65536, 65536, 65536, 65536, 65536, 65536, 65536, 65536, 65536, 65536, 65536, 65536, 65536, 65536, 65536, 65536, 65536, 65536, 65536, 65536, 65536, 65536, 65536, 65536, 65536, 65536, 65536, 65536, 65536, 65536, 65536, 65536, 65536, 65536, 65536, 65536, 65536, 65536, 65536, 65536, 65536, 65536, 65536, 65536, 65536, 65536, 65536, 65536, 65536, 65536, 65536, 65536, 65536, 65536, 65536, 65536, 65536, 65536, 65536, 65536, 65536, 65536, 65536, 65536, 65536, 65536, 65536, 65536, 65536, 65536, 65536, 65536, 65536, 65536, 65536, 65536, 65536, 65536, 65536, 65536, 65536, 65536, 65536, 65536, 65536, 65536, 65536, 65536, 65536, 65536, 65536, 65536, 65536, 65536, 65536, 65536, 65536, 65536, 65536, 65536, 65536, 65536, 65536, 65536, 65536)\n",
            "SampleFormat\n",
            "  SAMPLEFORMAT.IEEEFP\n",
            "ModelPixelScaleTag\n",
            "  (1.0, 1.0, 0.0)\n",
            "ModelTiepointTag\n",
            "  (0.0, 0.0, 0.0, 586861.074000001, 5058073.693000004, 0.0)\n",
            "GeoKeyDirectoryTag\n",
            "  (1, 1, 0, 16, 1024, 0, 1, 1, 1025, 0, 1, 1, 1026, 34737, 38, 0, 2048, 0, 1, 4617, 2049, 34737, 116, 38, 2050, 0, 1, 6140, 2051, 0, 1, 8901, 2054, 0, 1, 9102, 2055, 34736, 1, 0, 2056, 0, 1, 7019, 2057, 34736, 1, 1, 2059, 34736, 1, 2, 2061, 34736, 1, 3, 3072, 0, 1, 2961, 3073, 34737, 457, 154, 3076, 0, 1, 9001)\n",
            "GeoDoubleParamsTag\n",
            "  (0.0174532925199433, 6378137.0, 298.257222101, 0.0)\n",
            "GeoAsciiParamsTag\n",
            "  PCS Name = NAD_1983_CSRS_UTM_Zone_20N|GCS Name = GCS_North_American_1983_CSRS|Datum = D_North_American_1983_CSRS|Ellipsoid = GRS_1980|Primem = Greenwich||ESRI PE String = PROJCS[\"NAD_1983_CSRS_UTM_Zone_20N\",GEOGCS[\"GCS_North_American_1983_CSRS\",DATUM[\"D_North_American_1983_CSRS\",SPHEROID[\"GRS_1980\",6378137.0,298.257222101]],PRIMEM[\"Greenwich\",0.0],UNIT[\"Degree\",0.0174532925199433]],PROJECTION[\"Transverse_Mercator\"],PARAMETER[\"False_Easting\",500000.0],PARAMETER[\"False_Northing\",0.0],PARAMETER[\"Central_Meridian\",-63.0],PARAMETER[\"Scale_Factor\",0.9996],PARAMETER[\"Latitude_Of_Origin\",0.0],UNIT[\"Meter\",1.0]]|\n",
            "GDAL_METADATA\n",
            "  <GDALMetadata>\n",
            "  <Item name=\"DataType\">Generic</Item>\n",
            "  <Item name=\"PyramidResamplingType\" domain=\"Esri\">NEAREST</Item>\n",
            "  <Item name=\"RepresentationType\" sample=\"0\">ATHEMATIC</Item>\n",
            "  <Item name=\"STATISTICS_COVARIANCES\" sample=\"0\">156.5554286952828</Item>\n",
            "  <Item name=\"STATISTICS_MAXIMUM\" sample=\"0\">62.141193389893</Item>\n",
            "  <Item name=\"STATISTICS_MEAN\" sample=\"0\">12.105268392774</Item>\n",
            "  <Item name=\"STATISTICS_MINIMUM\" sample=\"0\">-10.848752975464</Item>\n",
            "  <Item name=\"STATISTICS_SKIPFACTORX\" sample=\"0\">1</Item>\n",
            "  <Item name=\"STATISTICS_SKIPFACTORY\" sample=\"0\">1</Item>\n",
            "  <Item name=\"STATISTICS_STDDEV\" sample=\"0\">12.512211183291</Item>\n",
            "</GDALMetadata>\n",
            "GDAL_NODATA\n",
            "  -3.40282299999999995e+38\n"
          ],
          "name": "stdout"
        }
      ]
    },
    {
      "cell_type": "code",
      "metadata": {
        "colab": {
          "base_uri": "https://localhost:8080/"
        },
        "id": "Sc_R56O3YfDP",
        "outputId": "97c585d6-9392-4eeb-a311-6f30ac49aad2"
      },
      "source": [
        "want = [\n",
        "        'ImageWidth',\n",
        "        'ImageLength',\n",
        "        'ModelPixelScaleTag',\n",
        "        'ModelTiepointTag',\n",
        "        'GeoKeyDirectoryTag',\n",
        "        'GeoAsciiParamsTag',\n",
        "        'GeoDoubleParamsTag',\n",
        "        'GDAL_METADATA',\n",
        "        'GDAL_NODATA',\n",
        "]\n",
        "\n",
        "for i in want:\n",
        "  print(i)\n",
        "  print(tif_tags[i])"
      ],
      "execution_count": null,
      "outputs": [
        {
          "output_type": "stream",
          "text": [
            "ImageWidth\n",
            "10067\n",
            "ImageLength\n",
            "9613\n",
            "ModelPixelScaleTag\n",
            "(1.0, 1.0, 0.0)\n",
            "ModelTiepointTag\n",
            "(0.0, 0.0, 0.0, 586861.074000001, 5058073.693000004, 0.0)\n",
            "GeoKeyDirectoryTag\n",
            "(1, 1, 0, 16, 1024, 0, 1, 1, 1025, 0, 1, 1, 1026, 34737, 38, 0, 2048, 0, 1, 4617, 2049, 34737, 116, 38, 2050, 0, 1, 6140, 2051, 0, 1, 8901, 2054, 0, 1, 9102, 2055, 34736, 1, 0, 2056, 0, 1, 7019, 2057, 34736, 1, 1, 2059, 34736, 1, 2, 2061, 34736, 1, 3, 3072, 0, 1, 2961, 3073, 34737, 457, 154, 3076, 0, 1, 9001)\n",
            "GeoAsciiParamsTag\n",
            "PCS Name = NAD_1983_CSRS_UTM_Zone_20N|GCS Name = GCS_North_American_1983_CSRS|Datum = D_North_American_1983_CSRS|Ellipsoid = GRS_1980|Primem = Greenwich||ESRI PE String = PROJCS[\"NAD_1983_CSRS_UTM_Zone_20N\",GEOGCS[\"GCS_North_American_1983_CSRS\",DATUM[\"D_North_American_1983_CSRS\",SPHEROID[\"GRS_1980\",6378137.0,298.257222101]],PRIMEM[\"Greenwich\",0.0],UNIT[\"Degree\",0.0174532925199433]],PROJECTION[\"Transverse_Mercator\"],PARAMETER[\"False_Easting\",500000.0],PARAMETER[\"False_Northing\",0.0],PARAMETER[\"Central_Meridian\",-63.0],PARAMETER[\"Scale_Factor\",0.9996],PARAMETER[\"Latitude_Of_Origin\",0.0],UNIT[\"Meter\",1.0]]|\n",
            "GeoDoubleParamsTag\n",
            "(0.0174532925199433, 6378137.0, 298.257222101, 0.0)\n",
            "GDAL_METADATA\n",
            "<GDALMetadata>\n",
            "  <Item name=\"DataType\">Generic</Item>\n",
            "  <Item name=\"PyramidResamplingType\" domain=\"Esri\">NEAREST</Item>\n",
            "  <Item name=\"RepresentationType\" sample=\"0\">ATHEMATIC</Item>\n",
            "  <Item name=\"STATISTICS_COVARIANCES\" sample=\"0\">156.5554286952828</Item>\n",
            "  <Item name=\"STATISTICS_MAXIMUM\" sample=\"0\">62.141193389893</Item>\n",
            "  <Item name=\"STATISTICS_MEAN\" sample=\"0\">12.105268392774</Item>\n",
            "  <Item name=\"STATISTICS_MINIMUM\" sample=\"0\">-10.848752975464</Item>\n",
            "  <Item name=\"STATISTICS_SKIPFACTORX\" sample=\"0\">1</Item>\n",
            "  <Item name=\"STATISTICS_SKIPFACTORY\" sample=\"0\">1</Item>\n",
            "  <Item name=\"STATISTICS_STDDEV\" sample=\"0\">12.512211183291</Item>\n",
            "</GDALMetadata>\n",
            "GDAL_NODATA\n",
            "-3.40282299999999995e+38\n"
          ],
          "name": "stdout"
        }
      ]
    },
    {
      "cell_type": "markdown",
      "metadata": {
        "id": "1W_yeu-LZgnh"
      },
      "source": [
        "# Lets Try RasterIO"
      ]
    },
    {
      "cell_type": "code",
      "metadata": {
        "colab": {
          "base_uri": "https://localhost:8080/"
        },
        "id": "VfIXw8gFZsqI",
        "outputId": "0209ce27-a1c2-424f-bd83-b645cbd72627"
      },
      "source": [
        "!pip install rasterio"
      ],
      "execution_count": null,
      "outputs": [
        {
          "output_type": "stream",
          "text": [
            "Collecting rasterio\n",
            "\u001b[?25l  Downloading https://files.pythonhosted.org/packages/04/37/40712857e6c82cac52051d9faee43bc468e5806640ddbf88e10d591dbdf1/rasterio-1.2.1-cp37-cp37m-manylinux1_x86_64.whl (19.1MB)\n",
            "\u001b[K     |████████████████████████████████| 19.1MB 54.7MB/s \n",
            "\u001b[?25hCollecting affine\n",
            "  Downloading https://files.pythonhosted.org/packages/ac/a6/1a39a1ede71210e3ddaf623982b06ecfc5c5c03741ae659073159184cd3e/affine-2.3.0-py2.py3-none-any.whl\n",
            "Collecting cligj>=0.5\n",
            "  Downloading https://files.pythonhosted.org/packages/42/1e/947eadf10d6804bf276eb8a038bd5307996dceaaa41cfd21b7a15ec62f5d/cligj-0.7.1-py3-none-any.whl\n",
            "Requirement already satisfied: click<8,>=4.0 in /usr/local/lib/python3.7/dist-packages (from rasterio) (7.1.2)\n",
            "Requirement already satisfied: numpy in /usr/local/lib/python3.7/dist-packages (from rasterio) (1.19.5)\n",
            "Collecting snuggs>=1.4.1\n",
            "  Downloading https://files.pythonhosted.org/packages/cc/0e/d27d6e806d6c0d1a2cfdc5d1f088e42339a0a54a09c3343f7f81ec8947ea/snuggs-1.4.7-py3-none-any.whl\n",
            "Collecting click-plugins\n",
            "  Downloading https://files.pythonhosted.org/packages/e9/da/824b92d9942f4e472702488857914bdd50f73021efea15b4cad9aca8ecef/click_plugins-1.1.1-py2.py3-none-any.whl\n",
            "Requirement already satisfied: certifi in /usr/local/lib/python3.7/dist-packages (from rasterio) (2020.12.5)\n",
            "Requirement already satisfied: attrs in /usr/local/lib/python3.7/dist-packages (from rasterio) (20.3.0)\n",
            "Requirement already satisfied: pyparsing>=2.1.6 in /usr/local/lib/python3.7/dist-packages (from snuggs>=1.4.1->rasterio) (2.4.7)\n",
            "Installing collected packages: affine, cligj, snuggs, click-plugins, rasterio\n",
            "Successfully installed affine-2.3.0 click-plugins-1.1.1 cligj-0.7.1 rasterio-1.2.1 snuggs-1.4.7\n"
          ],
          "name": "stdout"
        }
      ]
    },
    {
      "cell_type": "code",
      "metadata": {
        "colab": {
          "base_uri": "https://localhost:8080/"
        },
        "id": "poE4vReLZlwB",
        "outputId": "3579161c-a3a2-4fab-823b-5eaa85e510dc"
      },
      "source": [
        "import rasterio\n",
        "\n",
        "# https://rasterio.readthedocs.io/en/latest/topics/georeferencing.html\n",
        "\n",
        "src = rasterio.open(demPath)\n",
        "print(src.crs)\n",
        "print(src.crs.wkt)\n",
        "print(src.transform)\n"
      ],
      "execution_count": null,
      "outputs": [
        {
          "output_type": "stream",
          "text": [
            "EPSG:2961\n",
            "PROJCS[\"NAD_1983_CSRS_UTM_Zone_20N\",GEOGCS[\"NAD83(CSRS)\",DATUM[\"NAD83_Canadian_Spatial_Reference_System\",SPHEROID[\"GRS 1980\",6378137,298.257222101004,AUTHORITY[\"EPSG\",\"7019\"]],AUTHORITY[\"EPSG\",\"6140\"]],PRIMEM[\"Greenwich\",0],UNIT[\"degree\",0.0174532925199433,AUTHORITY[\"EPSG\",\"9122\"]],AUTHORITY[\"EPSG\",\"4617\"]],PROJECTION[\"Transverse_Mercator\"],PARAMETER[\"latitude_of_origin\",0],PARAMETER[\"central_meridian\",-63],PARAMETER[\"scale_factor\",0.9996],PARAMETER[\"false_easting\",500000],PARAMETER[\"false_northing\",0],UNIT[\"metre\",1,AUTHORITY[\"EPSG\",\"9001\"]],AXIS[\"Easting\",EAST],AXIS[\"Northing\",NORTH],AUTHORITY[\"EPSG\",\"2961\"]]\n",
            "| 1.00, 0.00, 586861.07|\n",
            "| 0.00,-1.00, 5058073.69|\n",
            "| 0.00, 0.00, 1.00|\n"
          ],
          "name": "stdout"
        }
      ]
    },
    {
      "cell_type": "code",
      "metadata": {
        "colab": {
          "base_uri": "https://localhost:8080/",
          "height": 269
        },
        "id": "hOJ7lxo779LI",
        "outputId": "35f99770-8879-4bd5-eeb6-6bf76d9bdead"
      },
      "source": [
        "plt.imshow(src.read(1)[::4,::4],vmin=-10)\n",
        "plt.show()"
      ],
      "execution_count": null,
      "outputs": [
        {
          "output_type": "display_data",
          "data": {
            "image/png": "[encoded data removed]",
            "text/plain": [
              "<Figure size 432x288 with 1 Axes>"
            ]
          },
          "metadata": {
            "tags": [],
            "needs_background": "light"
          }
        }
      ]
    },
    {
      "cell_type": "code",
      "metadata": {
        "colab": {
          "base_uri": "https://localhost:8080/"
        },
        "id": "8ixUuNPtextU",
        "outputId": "67d5722f-db31-4588-976b-e14c85eb9222"
      },
      "source": [
        "!pip install fiona"
      ],
      "execution_count": null,
      "outputs": [
        {
          "output_type": "stream",
          "text": [
            "Collecting fiona\n",
            "\u001b[?25l  Downloading https://files.pythonhosted.org/packages/47/c2/67d1d0acbaaee3b03e5e22e3b96c33219cb5dd392531c9ff9cee7c2eb3e4/Fiona-1.8.18-cp37-cp37m-manylinux1_x86_64.whl (14.8MB)\n",
            "\u001b[K     |████████████████████████████████| 14.8MB 316kB/s \n",
            "\u001b[?25hRequirement already satisfied: certifi in /usr/local/lib/python3.7/dist-packages (from fiona) (2020.12.5)\n",
            "Requirement already satisfied: six>=1.7 in /usr/local/lib/python3.7/dist-packages (from fiona) (1.15.0)\n",
            "Requirement already satisfied: click<8,>=4.0 in /usr/local/lib/python3.7/dist-packages (from fiona) (7.1.2)\n",
            "Requirement already satisfied: cligj>=0.5 in /usr/local/lib/python3.7/dist-packages (from fiona) (0.7.1)\n",
            "Requirement already satisfied: click-plugins>=1.0 in /usr/local/lib/python3.7/dist-packages (from fiona) (1.1.1)\n",
            "Requirement already satisfied: attrs>=17 in /usr/local/lib/python3.7/dist-packages (from fiona) (20.3.0)\n",
            "Collecting munch\n",
            "  Downloading https://files.pythonhosted.org/packages/cc/ab/85d8da5c9a45e072301beb37ad7f833cd344e04c817d97e0cc75681d248f/munch-2.5.0-py2.py3-none-any.whl\n",
            "Installing collected packages: munch, fiona\n",
            "Successfully installed fiona-1.8.18 munch-2.5.0\n"
          ],
          "name": "stdout"
        }
      ]
    },
    {
      "cell_type": "code",
      "metadata": {
        "colab": {
          "base_uri": "https://localhost:8080/"
        },
        "id": "f7MRkZydd9Oc",
        "outputId": "6db7e961-528c-4666-f373-c99b675efbb7"
      },
      "source": [
        "#https://gis.stackexchange.com/questions/269947/rasterio-does-not-execute-the-rasterize-function\n",
        "\n",
        "import rasterio\n",
        "import numpy as np\n",
        "from rasterio import features\n",
        "import fiona\n",
        "\n",
        "#Load vector file with fiona\n",
        "vector_file = 'benthic_ground_truth.shp'\n",
        "\n",
        "shapefile = fiona.open(vector_file)\n",
        "geom = [shapes['geometry'] for shapes in shapefile]\n",
        "attrib = [shapes['properties'] for shapes in shapefile]\n",
        "\n",
        "print(shapefile.crs)\n",
        "\n",
        "# geom2 = fiona.transform.transform_geom('EPSG:4326', 'EPSG:26953',geom)\n",
        "# fiona.transform.transform('EPSG:4326', 'EPSG:26953', [-105.0], [40.0])\n",
        "\n",
        "\n",
        "#filter to features where type = parking\n",
        "# type_match_idx = [i for i, feature in enumerate(attrib) if feature['type'] == 'eelgrass']\n",
        "# feature_geom = [geom[i] for i in type_match_idx]\n",
        "# feature_attrib = [attrib[i] for i in type_match_idx]\n",
        "\n",
        "#get metadata for satellite imagery\n",
        "image = features.rasterize(geom, out_shape=src.shape, transform=src.transform)\n",
        "\n",
        "with rasterio.open(\n",
        "        'rasterized-results2.tif', 'w',\n",
        "        driver='GTiff',\n",
        "        transform = src.transform,\n",
        "        dtype=rasterio.uint8,\n",
        "        count=1,\n",
        "        width=src.width,\n",
        "        height=src.height) as dst:\n",
        "        dst.write(image, indexes=1)"
      ],
      "execution_count": null,
      "outputs": [
        {
          "output_type": "stream",
          "text": [
            "{'init': 'epsg:26920'}\n"
          ],
          "name": "stdout"
        }
      ]
    },
    {
      "cell_type": "code",
      "metadata": {
        "colab": {
          "base_uri": "https://localhost:8080/"
        },
        "id": "vEYq1iVw8dWy",
        "outputId": "0df7d9f4-92d6-4e51-b202-70e37c675618"
      },
      "source": [
        "print(image.min(), image.max())"
      ],
      "execution_count": null,
      "outputs": [
        {
          "output_type": "stream",
          "text": [
            "0 1\n"
          ],
          "name": "stdout"
        }
      ]
    },
    {
      "cell_type": "code",
      "metadata": {
        "colab": {
          "base_uri": "https://localhost:8080/"
        },
        "id": "CAaSnwb-8nfl",
        "outputId": "74a7c849-b1b9-490b-a527-2c8b4d762abc"
      },
      "source": [
        "print(np.unique(image))"
      ],
      "execution_count": null,
      "outputs": [
        {
          "output_type": "stream",
          "text": [
            "[0 1]\n"
          ],
          "name": "stdout"
        }
      ]
    },
    {
      "cell_type": "code",
      "metadata": {
        "id": "7M-1WdfC8LPB"
      },
      "source": [
        "image = image.astype(float)\n",
        "# image[image==0]=np.NaN"
      ],
      "execution_count": null,
      "outputs": []
    },
    {
      "cell_type": "code",
      "metadata": {
        "colab": {
          "base_uri": "https://localhost:8080/",
          "height": 269
        },
        "id": "l1mz2BAegmBP",
        "outputId": "595e5c35-9a07-4af7-b03d-d94dfb7375cb"
      },
      "source": [
        "plt.imshow(image[::2,::2], interpolation='nearest')\n",
        "# plt.imshow(image[::2,::2])\n",
        "plt.show()"
      ],
      "execution_count": null,
      "outputs": [
        {
          "output_type": "display_data",
          "data": {
            "image/png": "[encoded data removed]",
            "text/plain": [
              "<Figure size 432x288 with 1 Axes>"
            ]
          },
          "metadata": {
            "tags": [],
            "needs_background": "light"
          }
        }
      ]
    },
    {
      "cell_type": "code",
      "metadata": {
        "colab": {
          "base_uri": "https://localhost:8080/",
          "height": 287
        },
        "id": "h5TDEloh-Bcq",
        "outputId": "9e429c8b-7e78-44c7-a1e9-b3f40a7dbb23"
      },
      "source": [
        "# https://rasterio.readthedocs.io/en/latest/topics/masking-by-shapefile.html\n",
        "\n",
        "import rasterio.mask\n",
        "\n",
        "with fiona.open(vector_file, \"r\") as shapefile:\n",
        "    shapes = [feature[\"geometry\"] for feature in shapefile]\n",
        "\n",
        "with rasterio.open(demPath) as src:\n",
        "    out_image, out_transform = rasterio.mask.mask(src, shapes, crop=True)\n",
        "    out_meta = src.meta\n",
        "\n",
        "# out_meta.update({\"driver\": \"GTiff\",\n",
        "#                  \"height\": out_image.shape[1],\n",
        "#                  \"width\": out_image.shape[2],\n",
        "#                  \"transform\": out_transform})\n",
        "\n",
        "plt.imshow(out_image[0,:,:], interpolation='nearest',vmin=-10)\n",
        "plt.show()"
      ],
      "execution_count": null,
      "outputs": [
        {
          "output_type": "stream",
          "text": [
            "-3.402823e+38\n"
          ],
          "name": "stdout"
        },
        {
          "output_type": "display_data",
          "data": {
            "image/png": "[encoded data removed]",
            "text/plain": [
              "<Figure size 432x288 with 1 Axes>"
            ]
          },
          "metadata": {
            "tags": [],
            "needs_background": "light"
          }
        }
      ]
    },
    {
      "cell_type": "code",
      "metadata": {
        "id": "bPhCUEVr_Zfd"
      },
      "source": [
        "# https://rasterio.readthedocs.io/en/latest/topics/features.html\n",
        "# next steps are to set these values to class code"
      ],
      "execution_count": null,
      "outputs": []
    },
    {
      "cell_type": "code",
      "metadata": {
        "id": "pCM7CvPqDBFu"
      },
      "source": [
        "# resample two raster to be identical in rasterio"
      ],
      "execution_count": null,
      "outputs": []
    },
    {
      "cell_type": "code",
      "metadata": {
        "id": "K0-U_yCsDHAE"
      },
      "source": [
        "# rasterize shape/polygon by class code"
      ],
      "execution_count": null,
      "outputs": []
    },
    {
      "cell_type": "code",
      "metadata": {
        "id": "0-ivigUIDQTc"
      },
      "source": [
        "# optional, iterate by bounding box?"
      ],
      "execution_count": null,
      "outputs": []
    },
    {
      "cell_type": "code",
      "metadata": {
        "id": "Nj2oasi5DV-g"
      },
      "source": [
        "# we need more ground truth data!"
      ],
      "execution_count": null,
      "outputs": []
    },
    {
      "cell_type": "code",
      "metadata": {
        "id": "Y9aoGIpIDmgy"
      },
      "source": [
        "# move into code base!"
      ],
      "execution_count": null,
      "outputs": []
    },
    {
      "cell_type": "markdown",
      "metadata": {
        "id": "GckMYveSUzoC"
      },
      "source": [
        "# Digging around"
      ]
    },
    {
      "cell_type": "code",
      "metadata": {
        "colab": {
          "base_uri": "https://localhost:8080/"
        },
        "id": "k9v3zGT6J8ea",
        "outputId": "d15c1e5d-2f53-4761-d70e-80e3d97b9d28"
      },
      "source": [
        "shp.records()"
      ],
      "execution_count": null,
      "outputs": [
        {
          "output_type": "execute_result",
          "data": {
            "text/plain": [
              "[Record #0: [1, 'Eelgrass'],\n",
              " Record #1: [1, 'Eelgrass'],\n",
              " Record #2: [1, 'Eelgrass'],\n",
              " Record #3: [1, 'Eelgrass'],\n",
              " Record #4: [1, 'Eelgrass'],\n",
              " Record #5: [1, 'Eelgrass'],\n",
              " Record #6: [1, 'Eelgrass'],\n",
              " Record #7: [1, 'Eelgrass'],\n",
              " Record #8: [2, 'Fucus seaweed'],\n",
              " Record #9: [1, 'Eelgrass'],\n",
              " Record #10: [1, 'Eelgrass'],\n",
              " Record #11: [1, 'Eelgrass'],\n",
              " Record #12: [3, 'Dark SAV'],\n",
              " Record #13: [3, 'Dark SAV'],\n",
              " Record #14: [3, 'Dark SAV'],\n",
              " Record #15: [2, 'Fucua seaweed'],\n",
              " Record #16: [4, 'Sand'],\n",
              " Record #17: [4, 'Sand'],\n",
              " Record #18: [4, 'Sand'],\n",
              " Record #19: [5, 'Deep Sand'],\n",
              " Record #20: [5, 'Deep Sand'],\n",
              " Record #21: [5, 'Deep Sand'],\n",
              " Record #22: [5, 'Deep Sand'],\n",
              " Record #23: [6, 'Sand with Eelgrass'],\n",
              " Record #24: [6, 'Sand with Eelgrass'],\n",
              " Record #25: [7, 'Unhealthy Eelgrass'],\n",
              " Record #26: [7, 'Unhealthy Eelgrass'],\n",
              " Record #27: [7, 'Unhealthy Eelgrass']]"
            ]
          },
          "metadata": {
            "tags": []
          },
          "execution_count": 7
        }
      ]
    },
    {
      "cell_type": "code",
      "metadata": {
        "colab": {
          "base_uri": "https://localhost:8080/"
        },
        "id": "VAzNw3_1KAuN",
        "outputId": "b474e50c-6cc5-461e-fabd-fb11f3475b84"
      },
      "source": [
        "for i in shp.shapes():\n",
        "  print(i.points)"
      ],
      "execution_count": null,
      "outputs": [
        {
          "output_type": "stream",
          "text": [
            "[(592548.211913704, 5054935.984943513), (592559.641936565, 5054937.889947325), (592572.5007122837, 5054934.873691291), (592590.4394981605, 5054925.031171603), (592598.5357643532, 5054915.029901607), (592597.1070114964, 5054909.791141126), (592587.1057414941, 5054908.83863922), (592577.4219721267, 5054912.331146203), (592567.5794524413, 5054917.8874073215), (592554.4031760884, 5054926.301174148), (592548.211913704, 5054935.984943513)]\n",
            "[(592482.4892822586, 5054946.938715422), (592498.3643140075, 5054944.081209706), (592502.4918222624, 5054941.223703992), (592509.476836234, 5054938.683698909), (592515.9855992503, 5054940.429952407), (592511.2230897261, 5054935.508692564), (592501.5393203585, 5054936.937445419), (592490.7442987689, 5054940.429952407), (592486.6167905136, 5054940.588702723), (592482.4892822586, 5054946.938715422)]\n",
            "[(592565.9919492649, 5054904.076129699), (592579.8032268872, 5054893.122357789), (592571.8657110116, 5054891.376104293), (592563.2931938672, 5054893.598608738), (592565.9919492649, 5054904.076129699)]\n",
            "[(591887.4930922522, 5055008.375088297), (591890.5093482845, 5055008.533838613), (591898.44686416, 5055014.24885004), (591903.8443749534, 5055009.962591474), (591905.4318781291, 5055004.247580038), (591895.1131074924, 5055001.866325278), (591896.2243597158, 5054995.992563529), (591904.9556271785, 5054990.595052738), (591908.2893838438, 5054987.261296071), (591898.605614476, 5054985.991293527), (591893.2081036816, 5054990.2775521), (591886.5405903481, 5054988.848799243), (591888.4455941583, 5054996.468814481), (591879.5555763759, 5055008.375088297), (591887.4930922522, 5055008.375088297)]\n",
            "[(594681.9253218796, 5051606.5051638745), (594683.6186586014, 5051609.151002502), (594684.9944946879, 5051608.727668321), (594683.7244921471, 5051605.764329062), (594682.5603231521, 5051605.3409948815), (594681.9253218796, 5051606.5051638745)]\n",
            "[(594697.1653523608, 5051610.209337955), (594698.9645226265, 5051612.326008854), (594701.5045277089, 5051613.701844938), (594704.8912011484, 5051613.490177847), (594706.1612036872, 5051618.041020282), (594705.9495365984, 5051615.289348114), (594704.9970346915, 5051611.902674671), (594701.0811935278, 5051609.8918373175), (594699.4936903524, 5051610.10350441), (594697.1653523608, 5051610.209337955)]\n",
            "[(594717.3795594571, 5051629.153542507), (594720.8720664426, 5051628.095207061), (594719.4962303584, 5051625.449368432), (594717.2737259135, 5051626.507703884), (594713.9928860173, 5051624.179365895), (594713.3578847483, 5051626.931038061), (594714.0987195622, 5051628.412707692), (594715.474555647, 5051627.142705154), (594716.9562252788, 5051627.777706422), (594717.3795594571, 5051629.153542507)]\n",
            "[(593079.4467001978, 5053089.233129361), (593080.5050356472, 5053088.280627454), (593074.6841906708, 5053070.077257715), (593072.0383520478, 5053059.917237394), (593066.0058399825, 5053052.720556336), (593066.2175070704, 5053057.800566494), (593068.2283444274, 5053067.537252635), (593071.0858501415, 5053074.204765974), (593072.5675197705, 5053076.215603327), (593074.4725235815, 5053073.887265336), (593073.9433558587, 5053078.861441949), (593074.7900242164, 5053082.248115392), (593079.4467001978, 5053089.233129361)]\n",
            "[(593178.4275231627, 5052881.801586017), (593176.8400199871, 5052886.564095544), (593186.2062887194, 5052887.040346498), (593192.8738020537, 5052884.341591099), (593190.0162963404, 5052880.055332525), (593186.0475384034, 5052872.4353172835), (593180.6500276075, 5052872.4353172835), (593181.920030148, 5052877.991578396), (593178.4275231627, 5052881.801586017)]\n",
            "[(593150.8049679174, 5052813.856450127), (593159.0599844281, 5052810.205192823), (593159.2187347444, 5052802.585177582), (593153.5037233129, 5052802.2676769495), (593146.5187093443, 5052807.347687108), (593150.8049679174, 5052813.856450127)]\n",
            "[(593216.5275993623, 5052865.13280268), (593220.6551076169, 5052860.0527925175), (593213.6700936478, 5052854.814032041), (593210.1775866622, 5052851.63902569), (593208.7488338051, 5052862.1165466495), (593207.7963318991, 5052869.736561887), (593216.5275993623, 5052865.13280268)]\n",
            "[(593018.5207940944, 5052592.243869755), (593018.3034264115, 5052592.118718664), (593018.2149664084, 5052592.826398678), (593018.5207940944, 5052592.243869755), (593018.2149664084, 5052592.826398678), (593017.9163642994, 5052593.3951646015), (593018.0897024845, 5052593.828510065), (593018.2149664084, 5052592.826398678), (593017.9163642994, 5052593.3951646015), (593017.137200578, 5052591.447255304), (593018.3034264115, 5052592.118718664), (593018.4072031184, 5052591.288504985), (593016.0259483552, 5052590.336003082), (593011.8984400999, 5052585.255992917), (593008.7234337516, 5052577.794727998), (593007.7709318458, 5052584.144740696), (593012.5334413692, 5052594.1460107025), (593017.7722018469, 5052593.669759743), (593017.9163642994, 5052593.3951646015), (593022.3759610555, 5052594.463511335), (593034.2822348672, 5052591.60600562), (593034.9172361371, 5052587.1609967295), (593025.5509674035, 5052587.002246413), (593021.1059585139, 5052587.319747046), (593018.5207940944, 5052592.243869755), (593022.3759610555, 5052594.463511335)]\n",
            "[(593096.6622901876, 5052503.728885407), (593109.3623155876, 5052499.892419402), (593109.2300236572, 5052491.028860006), (593102.7477190255, 5052488.64760524), (593099.0435449481, 5052488.515313311), (593093.4872838361, 5052497.114288842), (593096.6622901876, 5052503.728885407)]\n",
            "[(593094.9424950805, 5052481.10696516), (593101.689383574, 5052479.519461986), (593102.7477190252, 5052475.550704049), (593102.086259369, 5052464.305889893), (593098.1175014297, 5052465.099641478), (593094.281035424, 5052466.951728521), (593094.9424950805, 5052481.10696516)]\n",
            "[(593076.8185004988, 5052505.713264376), (593075.3632892548, 5052496.188245326), (593072.0559909751, 5052506.110140167), (593071.6591151807, 5052513.915364111), (593078.5382956064, 5052512.195569009), (593076.8185004988, 5052505.713264376)]\n",
            "[(593825.4585394779, 5054519.764431425), (593840.0635686883, 5054515.107755445), (593833.925223079, 5054509.604411108), (593822.0718660378, 5054509.816078201), (593820.5901964073, 5054509.392744018), (593825.4585394779, 5054519.764431425)]\n",
            "[(593469.2581048429, 5054621.470468182), (593506.8290133195, 5054605.5954364315), (593488.8373106701, 5054585.487062876), (593468.1997693931, 5054595.01208193), (593458.1455826187, 5054610.357945958), (593460.791421242, 5054610.357945958), (593469.2581048429, 5054621.470468182)]\n",
            "[(593562.3916244468, 5054692.908111056), (593596.2583588487, 5054694.495614236), (593620.0709064723, 5054687.61643381), (593584.6166688977, 5054682.853924284), (593560.2749535476, 5054686.028930634), (593562.3916244468, 5054692.908111056)]\n",
            "[(594408.5308167542, 5054784.454127492), (594413.8224940047, 5054780.749953408), (594411.705823106, 5054761.170747587), (594404.8266426796, 5054727.304013184), (594389.4807786555, 5054703.4914655555), (594370.9599082788, 5054691.849775609), (594371.4890760046, 5054704.549801009), (594394.2432881792, 5054756.408238061), (594408.5308167542, 5054784.454127492)]\n",
            "[(591448.8957307144, 5054873.354305288), (591462.1249238399, 5054866.475124862), (591450.4832338893, 5054867.004292585), (591447.3082275388, 5054858.00844126), (591469.0041042666, 5054857.479273537), (591460.0082529387, 5054846.895919036), (591440.429047112, 5054853.775099462), (591431.9623635132, 5054863.82928624), (591448.8957307144, 5054873.354305288)]\n",
            "[(591320.3079735336, 5054962.783650816), (591360.5247206353, 5054961.196147641), (591365.8163978859, 5054957.491973566), (591404.4456418116, 5054956.962805842), (591359.9955529111, 5054952.200296316), (591353.6455402122, 5054944.262780443), (591327.7163216863, 5054954.846134944), (591310.2537867589, 5054952.729464045), (591320.3079735336, 5054962.783650816)]\n",
            "[(591340.9455148089, 5054900.341859264), (591358.4080497359, 5054912.51271694), (591371.1080751364, 5054905.633536514), (591345.1788566104, 5054893.991846567), (591340.9455148089, 5054900.341859264)]\n",
            "[(593788.3462430339, 5052261.382414583), (593873.0130790378, 5052232.80735743), (593845.4963573363, 5052173.54057223), (593781.9962303336, 5052136.498831477), (593733.3127996336, 5052168.248894978), (593710.02941973, 5052204.23230028), (593788.3462430339, 5052261.382414583)]\n",
            "[(594124.8969161495, 5054816.20419099), (594213.7970939539, 5054853.245931739), (594205.3304103523, 5054822.554203689), (594109.0218843974, 5054773.870772988), (594066.6884663973, 5054751.645728534), (594124.8969161495, 5054816.20419099)]\n",
            "[(594080.4468272468, 5054695.553949684), (594133.3635997486, 5054728.362348633), (594157.7053151013, 5054698.7289560335), (594109.0218843974, 5054665.920557085), (594031.7633965455, 5054655.337202584), (594080.4468272468, 5054695.553949684)]\n",
            "[(592786.3847946315, 5054834.442838578), (592811.5202615692, 5054831.5324160885), (592797.7619007165, 5054820.684477726), (592790.3535525667, 5054820.419893865), (592779.5056142044, 5054823.330316354), (592786.3847946315, 5054834.442838578)]\n",
            "[(592336.3276444994, 5055129.453845277), (592342.6776571989, 5055134.216354804), (592341.8839056105, 5055126.543422788), (592335.5338929107, 5055123.103832575), (592331.035967249, 5055124.162168026), (592331.0359672486, 5055128.130925963), (592336.3276444994, 5055129.453845277)]\n",
            "[(592052.1645761619, 5054926.782606596), (592070.1562788119, 5054923.872184107), (592077.5646269617, 5054912.759661881), (592076.5062915122, 5054909.58465553), (592070.4208626739, 5054917.522171408), (592060.8958436234, 5054919.638842307), (592050.577072986, 5054922.284680931), (592052.1645761619, 5054926.782606596)]\n"
          ],
          "name": "stdout"
        }
      ]
    },
    {
      "cell_type": "code",
      "metadata": {
        "colab": {
          "base_uri": "https://localhost:8080/"
        },
        "id": "lqZTFPpT911H",
        "outputId": "9025ab0a-b387-4719-c6f7-fb9661da01e6"
      },
      "source": [
        "print(shape)"
      ],
      "execution_count": null,
      "outputs": [
        {
          "output_type": "stream",
          "text": [
            "shapefile Reader\n",
            "    28 shapes (type 'POLYGON')\n",
            "    28 records (3 fields)\n"
          ],
          "name": "stdout"
        }
      ]
    },
    {
      "cell_type": "code",
      "metadata": {
        "colab": {
          "base_uri": "https://localhost:8080/"
        },
        "id": "0NalgUu9-JWI",
        "outputId": "9bf8e261-3dee-400c-e14e-bd6dd6173ddc"
      },
      "source": [
        "# https://stackoverflow.com/questions/1006169/how-do-i-look-inside-a-python-object/38629300\n",
        "for i in dir(shape):\n",
        "  print(i)\n",
        "  try:\n",
        "    print(getattr(shape, i))\n",
        "  except:\n",
        "    pass\n",
        "  print()\n"
      ],
      "execution_count": null,
      "outputs": [
        {
          "output_type": "stream",
          "text": [
            "_Reader__dbfHdrLength\n",
            "97\n",
            "\n",
            "_Reader__dbfHeader\n",
            "<bound method Reader.__dbfHeader of <shapefile.Reader object at 0x7f1d8b361d90>>\n",
            "\n",
            "_Reader__fieldposition_lookup\n",
            "{'Id': 0, 'Cover_type': 1}\n",
            "\n",
            "_Reader__getFileObj\n",
            "<bound method Reader.__getFileObj of <shapefile.Reader object at 0x7f1d8b361d90>>\n",
            "\n",
            "_Reader__recStruct\n",
            "<Struct object at 0x7f1d8b364630>\n",
            "\n",
            "_Reader__record\n",
            "<bound method Reader.__record of <shapefile.Reader object at 0x7f1d8b361d90>>\n",
            "\n",
            "_Reader__recordFmt\n",
            "<bound method Reader.__recordFmt of <shapefile.Reader object at 0x7f1d8b361d90>>\n",
            "\n",
            "_Reader__recordLength\n",
            "32\n",
            "\n",
            "_Reader__restrictIndex\n",
            "<bound method Reader.__restrictIndex of <shapefile.Reader object at 0x7f1d8b361d90>>\n",
            "\n",
            "_Reader__shape\n",
            "<bound method Reader.__shape of <shapefile.Reader object at 0x7f1d8b361d90>>\n",
            "\n",
            "_Reader__shapeIndex\n",
            "<bound method Reader.__shapeIndex of <shapefile.Reader object at 0x7f1d8b361d90>>\n",
            "\n",
            "_Reader__shpHeader\n",
            "<bound method Reader.__shpHeader of <shapefile.Reader object at 0x7f1d8b361d90>>\n",
            "\n",
            "__class__\n",
            "<class 'shapefile.Reader'>\n",
            "\n",
            "__del__\n",
            "<bound method Reader.__del__ of <shapefile.Reader object at 0x7f1d8b361d90>>\n",
            "\n",
            "__delattr__\n",
            "<method-wrapper '__delattr__' of Reader object at 0x7f1d8b361d90>\n",
            "\n",
            "__dict__\n",
            "{'shp': <_io.BufferedReader name='benthic_ground_truth.shp'>, 'shx': <_io.BufferedReader name='benthic_ground_truth.shx'>, 'dbf': <_io.BufferedReader name='benthic_ground_truth.dbf'>, 'shapeName': 'benthic_ground_truth', '_offsets': [], 'shpLength': 5504, 'numRecords': 28, 'numShapes': None, 'fields': [('DeletionFlag', 'C', 1, 0), ['Id', 'N', 6, 0], ['Cover_type', 'C', 25, 0]], '_Reader__dbfHdrLength': 97, '_Reader__fieldposition_lookup': {'Id': 0, 'Cover_type': 1}, 'encoding': 'utf-8', 'encodingErrors': 'strict', 'shapeType': 5, 'bbox': [591310.2537867589, 5051605.3409948815, 594720.8720664426, 5055134.216354804], 'zbox': [0.0, 0.0], 'mbox': [0.0, 0.0], '_Reader__recordLength': 32, '_Reader__recStruct': <Struct object at 0x7f1d8b364630>}\n",
            "\n",
            "__dir__\n",
            "<built-in method __dir__ of Reader object at 0x7f1d8b361d90>\n",
            "\n",
            "__doc__\n",
            "Reads the three files of a shapefile as a unit or\n",
            "    separately.  If one of the three files (.shp, .shx,\n",
            "    .dbf) is missing no exception is thrown until you try\n",
            "    to call a method that depends on that particular file.\n",
            "    The .shx index file is used if available for efficiency\n",
            "    but is not required to read the geometry from the .shp\n",
            "    file. The \"shapefile\" argument in the constructor is the\n",
            "    name of the file you want to open.\n",
            "\n",
            "    You can instantiate a Reader without specifying a shapefile\n",
            "    and then specify one later with the load() method.\n",
            "\n",
            "    Only the shapefile headers are read upon loading. Content\n",
            "    within each file is only accessed when required and as\n",
            "    efficiently as possible. Shapefiles are usually not large\n",
            "    but they can be.\n",
            "    \n",
            "\n",
            "__enter__\n",
            "<bound method Reader.__enter__ of <shapefile.Reader object at 0x7f1d8b361d90>>\n",
            "\n",
            "__eq__\n",
            "<method-wrapper '__eq__' of Reader object at 0x7f1d8b361d90>\n",
            "\n",
            "__exit__\n",
            "<bound method Reader.__exit__ of <shapefile.Reader object at 0x7f1d8b361d90>>\n",
            "\n",
            "__format__\n",
            "<built-in method __format__ of Reader object at 0x7f1d8b361d90>\n",
            "\n",
            "__ge__\n",
            "<method-wrapper '__ge__' of Reader object at 0x7f1d8b361d90>\n",
            "\n",
            "__geo_interface__\n",
            "\n",
            "__getattribute__\n",
            "<method-wrapper '__getattribute__' of Reader object at 0x7f1d8b361d90>\n",
            "\n",
            "__gt__\n",
            "<method-wrapper '__gt__' of Reader object at 0x7f1d8b361d90>\n",
            "\n",
            "__hash__\n",
            "<method-wrapper '__hash__' of Reader object at 0x7f1d8b361d90>\n",
            "\n",
            "__init__\n",
            "<bound method Reader.__init__ of <shapefile.Reader object at 0x7f1d8b361d90>>\n",
            "\n",
            "__init_subclass__\n",
            "<built-in method __init_subclass__ of type object at 0x555778bd14a0>\n",
            "\n",
            "__iter__\n",
            "<bound method Reader.__iter__ of <shapefile.Reader object at 0x7f1d8b361d90>>\n",
            "\n",
            "__le__\n",
            "<method-wrapper '__le__' of Reader object at 0x7f1d8b361d90>\n",
            "\n",
            "__len__\n",
            "<bound method Reader.__len__ of <shapefile.Reader object at 0x7f1d8b361d90>>\n",
            "\n",
            "__lt__\n",
            "<method-wrapper '__lt__' of Reader object at 0x7f1d8b361d90>\n",
            "\n",
            "__module__\n",
            "shapefile\n",
            "\n",
            "__ne__\n",
            "<method-wrapper '__ne__' of Reader object at 0x7f1d8b361d90>\n",
            "\n",
            "__new__\n",
            "<built-in method __new__ of type object at 0x5557765d7ba0>\n",
            "\n",
            "__reduce__\n",
            "<built-in method __reduce__ of Reader object at 0x7f1d8b361d90>\n",
            "\n",
            "__reduce_ex__\n",
            "<built-in method __reduce_ex__ of Reader object at 0x7f1d8b361d90>\n",
            "\n",
            "__repr__\n",
            "<method-wrapper '__repr__' of Reader object at 0x7f1d8b361d90>\n",
            "\n",
            "__setattr__\n",
            "<method-wrapper '__setattr__' of Reader object at 0x7f1d8b361d90>\n",
            "\n",
            "__sizeof__\n",
            "<built-in method __sizeof__ of Reader object at 0x7f1d8b361d90>\n",
            "\n",
            "__str__\n",
            "<bound method Reader.__str__ of <shapefile.Reader object at 0x7f1d8b361d90>>\n",
            "\n",
            "__subclasshook__\n",
            "<built-in method __subclasshook__ of type object at 0x555778bd14a0>\n",
            "\n",
            "__weakref__\n",
            "None\n",
            "\n",
            "_offsets\n",
            "[]\n",
            "\n",
            "bbox\n",
            "[591310.2537867589, 5051605.3409948815, 594720.8720664426, 5055134.216354804]\n",
            "\n",
            "close\n",
            "<bound method Reader.close of <shapefile.Reader object at 0x7f1d8b361d90>>\n",
            "\n",
            "dbf\n",
            "<_io.BufferedReader name='benthic_ground_truth.dbf'>\n",
            "\n",
            "encoding\n",
            "utf-8\n",
            "\n",
            "encodingErrors\n",
            "strict\n",
            "\n",
            "fields\n",
            "[('DeletionFlag', 'C', 1, 0), ['Id', 'N', 6, 0], ['Cover_type', 'C', 25, 0]]\n",
            "\n",
            "iterRecords\n",
            "<bound method Reader.iterRecords of <shapefile.Reader object at 0x7f1d8b361d90>>\n",
            "\n",
            "iterShapeRecords\n",
            "<bound method Reader.iterShapeRecords of <shapefile.Reader object at 0x7f1d8b361d90>>\n",
            "\n",
            "iterShapes\n",
            "<bound method Reader.iterShapes of <shapefile.Reader object at 0x7f1d8b361d90>>\n",
            "\n",
            "load\n",
            "<bound method Reader.load of <shapefile.Reader object at 0x7f1d8b361d90>>\n",
            "\n",
            "load_dbf\n",
            "<bound method Reader.load_dbf of <shapefile.Reader object at 0x7f1d8b361d90>>\n",
            "\n",
            "load_shp\n",
            "<bound method Reader.load_shp of <shapefile.Reader object at 0x7f1d8b361d90>>\n",
            "\n",
            "load_shx\n",
            "<bound method Reader.load_shx of <shapefile.Reader object at 0x7f1d8b361d90>>\n",
            "\n",
            "mbox\n",
            "[0.0, 0.0]\n",
            "\n",
            "numRecords\n",
            "28\n",
            "\n",
            "numShapes\n",
            "None\n",
            "\n",
            "record\n",
            "<bound method Reader.record of <shapefile.Reader object at 0x7f1d8b361d90>>\n",
            "\n",
            "records\n",
            "<bound method Reader.records of <shapefile.Reader object at 0x7f1d8b361d90>>\n",
            "\n",
            "shape\n",
            "<bound method Reader.shape of <shapefile.Reader object at 0x7f1d8b361d90>>\n",
            "\n",
            "shapeName\n",
            "benthic_ground_truth\n",
            "\n",
            "shapeRecord\n",
            "<bound method Reader.shapeRecord of <shapefile.Reader object at 0x7f1d8b361d90>>\n",
            "\n",
            "shapeRecords\n",
            "<bound method Reader.shapeRecords of <shapefile.Reader object at 0x7f1d8b361d90>>\n",
            "\n",
            "shapeType\n",
            "5\n",
            "\n",
            "shapeTypeName\n",
            "POLYGON\n",
            "\n",
            "shapes\n",
            "<bound method Reader.shapes of <shapefile.Reader object at 0x7f1d8b361d90>>\n",
            "\n",
            "shp\n",
            "<_io.BufferedReader name='benthic_ground_truth.shp'>\n",
            "\n",
            "shpLength\n",
            "5504\n",
            "\n",
            "shx\n",
            "<_io.BufferedReader name='benthic_ground_truth.shx'>\n",
            "\n",
            "zbox\n",
            "[0.0, 0.0]\n",
            "\n"
          ],
          "name": "stdout"
        }
      ]
    },
    {
      "cell_type": "code",
      "metadata": {
        "colab": {
          "base_uri": "https://localhost:8080/",
          "height": 185
        },
        "id": "3mbPP9C6-RDG",
        "outputId": "02629c6c-1309-444c-ca33-0e4e497f7093"
      },
      "source": [
        "help(shape.records)"
      ],
      "execution_count": null,
      "outputs": [
        {
          "output_type": "error",
          "ename": "TypeError",
          "evalue": "ignored",
          "traceback": [
            "\u001b[0;31m---------------------------------------------------------------------------\u001b[0m",
            "\u001b[0;31mTypeError\u001b[0m                                 Traceback (most recent call last)",
            "\u001b[0;32m<ipython-input-32-b9785edc71b0>\u001b[0m in \u001b[0;36m<module>\u001b[0;34m()\u001b[0m\n\u001b[0;32m----> 1\u001b[0;31m \u001b[0;32mfor\u001b[0m \u001b[0mi\u001b[0m \u001b[0;32min\u001b[0m \u001b[0mshape\u001b[0m\u001b[0;34m.\u001b[0m\u001b[0mrecords\u001b[0m\u001b[0;34m:\u001b[0m\u001b[0;34m\u001b[0m\u001b[0;34m\u001b[0m\u001b[0m\n\u001b[0m\u001b[1;32m      2\u001b[0m   \u001b[0mprint\u001b[0m\u001b[0;34m(\u001b[0m\u001b[0mi\u001b[0m\u001b[0;34m)\u001b[0m\u001b[0;34m\u001b[0m\u001b[0;34m\u001b[0m\u001b[0m\n",
            "\u001b[0;31mTypeError\u001b[0m: 'method' object is not iterable"
          ]
        }
      ]
    },
    {
      "cell_type": "code",
      "metadata": {
        "id": "3Xl2juVSAR2P"
      },
      "source": [
        "import pandas as pd"
      ],
      "execution_count": null,
      "outputs": []
    },
    {
      "cell_type": "code",
      "metadata": {
        "id": "-cxaBvx7APtp"
      },
      "source": [
        "def read_shapefile(sf_shape):\n",
        "    \"\"\"\n",
        "    Read a shapefile into a Pandas dataframe with a 'coords' \n",
        "    column holding the geometry information. This uses the pyshp\n",
        "    package\n",
        "    \"\"\"\n",
        "\n",
        "    fields = [x[0] for x in sf_shape.fields][1:]\n",
        "    records = [y[:] for y in sf_shape.records()]\n",
        "    #records = sf_shape.records()\n",
        "    shps = [s.points for s in sf_shape.shapes()]\n",
        "    df = pd.DataFrame(columns=fields, data=records)\n",
        "    df = df.assign(coords=shps)\n",
        "    return df"
      ],
      "execution_count": null,
      "outputs": []
    },
    {
      "cell_type": "code",
      "metadata": {
        "colab": {
          "base_uri": "https://localhost:8080/",
          "height": 315
        },
        "id": "rsfJyRsWAgTH",
        "outputId": "8daac55c-340c-424e-fc78-a2bfd566b665"
      },
      "source": [
        "dframe = read_shapefile(shape)"
      ],
      "execution_count": null,
      "outputs": [
        {
          "output_type": "error",
          "ename": "ValueError",
          "evalue": "ignored",
          "traceback": [
            "\u001b[0;31m---------------------------------------------------------------------------\u001b[0m",
            "\u001b[0;31mValueError\u001b[0m                                Traceback (most recent call last)",
            "\u001b[0;32m<ipython-input-37-097bdc95f06f>\u001b[0m in \u001b[0;36m<module>\u001b[0;34m()\u001b[0m\n\u001b[0;32m----> 1\u001b[0;31m \u001b[0mdframe\u001b[0m \u001b[0;34m=\u001b[0m \u001b[0mread_shapefile\u001b[0m\u001b[0;34m(\u001b[0m\u001b[0mshape\u001b[0m\u001b[0;34m)\u001b[0m\u001b[0;34m\u001b[0m\u001b[0;34m\u001b[0m\u001b[0m\n\u001b[0m",
            "\u001b[0;32m<ipython-input-36-d1b4a782f28b>\u001b[0m in \u001b[0;36mread_shapefile\u001b[0;34m(sf_shape)\u001b[0m\n\u001b[1;32m      7\u001b[0m \u001b[0;34m\u001b[0m\u001b[0m\n\u001b[1;32m      8\u001b[0m     \u001b[0mfields\u001b[0m \u001b[0;34m=\u001b[0m \u001b[0;34m[\u001b[0m\u001b[0mx\u001b[0m\u001b[0;34m[\u001b[0m\u001b[0;36m0\u001b[0m\u001b[0;34m]\u001b[0m \u001b[0;32mfor\u001b[0m \u001b[0mx\u001b[0m \u001b[0;32min\u001b[0m \u001b[0msf_shape\u001b[0m\u001b[0;34m.\u001b[0m\u001b[0mfields\u001b[0m\u001b[0;34m]\u001b[0m\u001b[0;34m[\u001b[0m\u001b[0;36m1\u001b[0m\u001b[0;34m:\u001b[0m\u001b[0;34m]\u001b[0m\u001b[0;34m\u001b[0m\u001b[0;34m\u001b[0m\u001b[0m\n\u001b[0;32m----> 9\u001b[0;31m     \u001b[0mrecords\u001b[0m \u001b[0;34m=\u001b[0m \u001b[0;34m[\u001b[0m\u001b[0my\u001b[0m\u001b[0;34m[\u001b[0m\u001b[0;34m:\u001b[0m\u001b[0;34m]\u001b[0m \u001b[0;32mfor\u001b[0m \u001b[0my\u001b[0m \u001b[0;32min\u001b[0m \u001b[0msf_shape\u001b[0m\u001b[0;34m.\u001b[0m\u001b[0mrecords\u001b[0m\u001b[0;34m(\u001b[0m\u001b[0;34m)\u001b[0m\u001b[0;34m]\u001b[0m\u001b[0;34m\u001b[0m\u001b[0;34m\u001b[0m\u001b[0m\n\u001b[0m\u001b[1;32m     10\u001b[0m     \u001b[0;31m#records = sf_shape.records()\u001b[0m\u001b[0;34m\u001b[0m\u001b[0;34m\u001b[0m\u001b[0;34m\u001b[0m\u001b[0m\n\u001b[1;32m     11\u001b[0m     \u001b[0mshps\u001b[0m \u001b[0;34m=\u001b[0m \u001b[0;34m[\u001b[0m\u001b[0ms\u001b[0m\u001b[0;34m.\u001b[0m\u001b[0mpoints\u001b[0m \u001b[0;32mfor\u001b[0m \u001b[0ms\u001b[0m \u001b[0;32min\u001b[0m \u001b[0msf_shape\u001b[0m\u001b[0;34m.\u001b[0m\u001b[0mshapes\u001b[0m\u001b[0;34m(\u001b[0m\u001b[0;34m)\u001b[0m\u001b[0;34m]\u001b[0m\u001b[0;34m\u001b[0m\u001b[0;34m\u001b[0m\u001b[0m\n",
            "\u001b[0;32m/usr/local/lib/python3.7/dist-packages/shapefile.py\u001b[0m in \u001b[0;36mrecords\u001b[0;34m(self)\u001b[0m\n\u001b[1;32m   1302\u001b[0m         \u001b[0mrecords\u001b[0m \u001b[0;34m=\u001b[0m \u001b[0;34m[\u001b[0m\u001b[0;34m]\u001b[0m\u001b[0;34m\u001b[0m\u001b[0;34m\u001b[0m\u001b[0m\n\u001b[1;32m   1303\u001b[0m         \u001b[0mf\u001b[0m \u001b[0;34m=\u001b[0m \u001b[0mself\u001b[0m\u001b[0;34m.\u001b[0m\u001b[0m__getFileObj\u001b[0m\u001b[0;34m(\u001b[0m\u001b[0mself\u001b[0m\u001b[0;34m.\u001b[0m\u001b[0mdbf\u001b[0m\u001b[0;34m)\u001b[0m\u001b[0;34m\u001b[0m\u001b[0;34m\u001b[0m\u001b[0m\n\u001b[0;32m-> 1304\u001b[0;31m         \u001b[0mf\u001b[0m\u001b[0;34m.\u001b[0m\u001b[0mseek\u001b[0m\u001b[0;34m(\u001b[0m\u001b[0mself\u001b[0m\u001b[0;34m.\u001b[0m\u001b[0m__dbfHdrLength\u001b[0m\u001b[0;34m)\u001b[0m\u001b[0;34m\u001b[0m\u001b[0;34m\u001b[0m\u001b[0m\n\u001b[0m\u001b[1;32m   1305\u001b[0m         \u001b[0;32mfor\u001b[0m \u001b[0mi\u001b[0m \u001b[0;32min\u001b[0m \u001b[0mrange\u001b[0m\u001b[0;34m(\u001b[0m\u001b[0mself\u001b[0m\u001b[0;34m.\u001b[0m\u001b[0mnumRecords\u001b[0m\u001b[0;34m)\u001b[0m\u001b[0;34m:\u001b[0m\u001b[0;34m\u001b[0m\u001b[0;34m\u001b[0m\u001b[0m\n\u001b[1;32m   1306\u001b[0m             \u001b[0mr\u001b[0m \u001b[0;34m=\u001b[0m \u001b[0mself\u001b[0m\u001b[0;34m.\u001b[0m\u001b[0m__record\u001b[0m\u001b[0;34m(\u001b[0m\u001b[0moid\u001b[0m\u001b[0;34m=\u001b[0m\u001b[0mi\u001b[0m\u001b[0;34m)\u001b[0m\u001b[0;34m\u001b[0m\u001b[0;34m\u001b[0m\u001b[0m\n",
            "\u001b[0;31mValueError\u001b[0m: seek of closed file"
          ]
        }
      ]
    },
    {
      "cell_type": "code",
      "metadata": {
        "colab": {
          "base_uri": "https://localhost:8080/",
          "height": 292
        },
        "id": "vvGLB3mkBNsb",
        "outputId": "fece9989-69fd-4dea-f7ad-4bc9262c3efa"
      },
      "source": [
        "shape(shape.records())"
      ],
      "execution_count": null,
      "outputs": [
        {
          "output_type": "error",
          "ename": "ValueError",
          "evalue": "ignored",
          "traceback": [
            "\u001b[0;31m---------------------------------------------------------------------------\u001b[0m",
            "\u001b[0;31mValueError\u001b[0m                                Traceback (most recent call last)",
            "\u001b[0;32m<ipython-input-44-70b612ddfddf>\u001b[0m in \u001b[0;36m<module>\u001b[0;34m()\u001b[0m\n\u001b[0;32m----> 1\u001b[0;31m \u001b[0mshape\u001b[0m\u001b[0;34m(\u001b[0m\u001b[0mshape\u001b[0m\u001b[0;34m.\u001b[0m\u001b[0mrecords\u001b[0m\u001b[0;34m(\u001b[0m\u001b[0;34m)\u001b[0m\u001b[0;34m)\u001b[0m\u001b[0;34m\u001b[0m\u001b[0;34m\u001b[0m\u001b[0m\n\u001b[0m",
            "\u001b[0;32m/usr/local/lib/python3.7/dist-packages/shapefile.py\u001b[0m in \u001b[0;36mrecords\u001b[0;34m(self)\u001b[0m\n\u001b[1;32m   1302\u001b[0m         \u001b[0mrecords\u001b[0m \u001b[0;34m=\u001b[0m \u001b[0;34m[\u001b[0m\u001b[0;34m]\u001b[0m\u001b[0;34m\u001b[0m\u001b[0;34m\u001b[0m\u001b[0m\n\u001b[1;32m   1303\u001b[0m         \u001b[0mf\u001b[0m \u001b[0;34m=\u001b[0m \u001b[0mself\u001b[0m\u001b[0;34m.\u001b[0m\u001b[0m__getFileObj\u001b[0m\u001b[0;34m(\u001b[0m\u001b[0mself\u001b[0m\u001b[0;34m.\u001b[0m\u001b[0mdbf\u001b[0m\u001b[0;34m)\u001b[0m\u001b[0;34m\u001b[0m\u001b[0;34m\u001b[0m\u001b[0m\n\u001b[0;32m-> 1304\u001b[0;31m         \u001b[0mf\u001b[0m\u001b[0;34m.\u001b[0m\u001b[0mseek\u001b[0m\u001b[0;34m(\u001b[0m\u001b[0mself\u001b[0m\u001b[0;34m.\u001b[0m\u001b[0m__dbfHdrLength\u001b[0m\u001b[0;34m)\u001b[0m\u001b[0;34m\u001b[0m\u001b[0;34m\u001b[0m\u001b[0m\n\u001b[0m\u001b[1;32m   1305\u001b[0m         \u001b[0;32mfor\u001b[0m \u001b[0mi\u001b[0m \u001b[0;32min\u001b[0m \u001b[0mrange\u001b[0m\u001b[0;34m(\u001b[0m\u001b[0mself\u001b[0m\u001b[0;34m.\u001b[0m\u001b[0mnumRecords\u001b[0m\u001b[0;34m)\u001b[0m\u001b[0;34m:\u001b[0m\u001b[0;34m\u001b[0m\u001b[0;34m\u001b[0m\u001b[0m\n\u001b[1;32m   1306\u001b[0m             \u001b[0mr\u001b[0m \u001b[0;34m=\u001b[0m \u001b[0mself\u001b[0m\u001b[0;34m.\u001b[0m\u001b[0m__record\u001b[0m\u001b[0;34m(\u001b[0m\u001b[0moid\u001b[0m\u001b[0;34m=\u001b[0m\u001b[0mi\u001b[0m\u001b[0;34m)\u001b[0m\u001b[0;34m\u001b[0m\u001b[0;34m\u001b[0m\u001b[0m\n",
            "\u001b[0;31mValueError\u001b[0m: seek of closed file"
          ]
        }
      ]
    },
    {
      "cell_type": "code",
      "metadata": {
        "colab": {
          "base_uri": "https://localhost:8080/",
          "height": 495
        },
        "id": "HC2Oh20uFZsk",
        "outputId": "d09f8989-8679-4dc5-c44f-d569b92c9f8d"
      },
      "source": [
        "import pprint\n",
        "import rasterio\n",
        "from rasterio import features\n",
        "\n",
        "import requests\n",
        "\n",
        "x,y,z = 0,0,0\n",
        "url = f'http://mt.google.com/vt/lyrs=m&x={x}&y={y}&z={z}'\n",
        "print(url)\n",
        "\n",
        "headers = {\"User-Agent\":\"Mozilla/5.0 (Macintosh; Intel Mac OS X 10_15_4) AppleWebKit/537.36 (KHTML, like Gecko) Chrome/83.0.4103.97 Safari/537.36\"}\n",
        "res = requests.get(url, stream=True, headers=headers)\n",
        "\n",
        "with rasterio.open(res.content) as src:\n",
        "    blue = src.read(3)\n",
        "\n",
        "mask = blue != 255\n",
        "shapes = features.shapes(blue, mask=mask)\n",
        "pprint.pprint(next(shapes))"
      ],
      "execution_count": null,
      "outputs": [
        {
          "output_type": "stream",
          "text": [
            "http://mt.google.com/vt/lyrs=m&x=0&y=0&z=0\n"
          ],
          "name": "stdout"
        },
        {
          "output_type": "error",
          "ename": "TypeError",
          "evalue": "ignored",
          "traceback": [
            "\u001b[0;31m---------------------------------------------------------------------------\u001b[0m",
            "\u001b[0;31mTypeError\u001b[0m                                 Traceback (most recent call last)",
            "\u001b[0;32m<ipython-input-54-37f0a9fb337e>\u001b[0m in \u001b[0;36m<module>\u001b[0;34m()\u001b[0m\n\u001b[1;32m     14\u001b[0m \u001b[0mres\u001b[0m \u001b[0;34m=\u001b[0m \u001b[0mrequests\u001b[0m\u001b[0;34m.\u001b[0m\u001b[0mget\u001b[0m\u001b[0;34m(\u001b[0m\u001b[0murl\u001b[0m\u001b[0;34m,\u001b[0m \u001b[0mstream\u001b[0m\u001b[0;34m=\u001b[0m\u001b[0;32mTrue\u001b[0m\u001b[0;34m,\u001b[0m \u001b[0mheaders\u001b[0m\u001b[0;34m=\u001b[0m\u001b[0mheaders\u001b[0m\u001b[0;34m)\u001b[0m\u001b[0;34m\u001b[0m\u001b[0;34m\u001b[0m\u001b[0m\n\u001b[1;32m     15\u001b[0m \u001b[0;34m\u001b[0m\u001b[0m\n\u001b[0;32m---> 16\u001b[0;31m \u001b[0;32mwith\u001b[0m \u001b[0mrasterio\u001b[0m\u001b[0;34m.\u001b[0m\u001b[0mopen\u001b[0m\u001b[0;34m(\u001b[0m\u001b[0mres\u001b[0m\u001b[0;34m.\u001b[0m\u001b[0mcontent\u001b[0m\u001b[0;34m)\u001b[0m \u001b[0;32mas\u001b[0m \u001b[0msrc\u001b[0m\u001b[0;34m:\u001b[0m\u001b[0;34m\u001b[0m\u001b[0;34m\u001b[0m\u001b[0m\n\u001b[0m\u001b[1;32m     17\u001b[0m     \u001b[0mblue\u001b[0m \u001b[0;34m=\u001b[0m \u001b[0msrc\u001b[0m\u001b[0;34m.\u001b[0m\u001b[0mread\u001b[0m\u001b[0;34m(\u001b[0m\u001b[0;36m3\u001b[0m\u001b[0;34m)\u001b[0m\u001b[0;34m\u001b[0m\u001b[0;34m\u001b[0m\u001b[0m\n\u001b[1;32m     18\u001b[0m \u001b[0;34m\u001b[0m\u001b[0m\n",
            "\u001b[0;32m/usr/local/lib/python3.7/dist-packages/rasterio/env.py\u001b[0m in \u001b[0;36mwrapper\u001b[0;34m(*args, **kwds)\u001b[0m\n\u001b[1;32m    433\u001b[0m \u001b[0;34m\u001b[0m\u001b[0m\n\u001b[1;32m    434\u001b[0m         \u001b[0;32mwith\u001b[0m \u001b[0menv_ctor\u001b[0m\u001b[0;34m(\u001b[0m\u001b[0msession\u001b[0m\u001b[0;34m=\u001b[0m\u001b[0msession\u001b[0m\u001b[0;34m)\u001b[0m\u001b[0;34m:\u001b[0m\u001b[0;34m\u001b[0m\u001b[0;34m\u001b[0m\u001b[0m\n\u001b[0;32m--> 435\u001b[0;31m             \u001b[0;32mreturn\u001b[0m \u001b[0mf\u001b[0m\u001b[0;34m(\u001b[0m\u001b[0;34m*\u001b[0m\u001b[0margs\u001b[0m\u001b[0;34m,\u001b[0m \u001b[0;34m**\u001b[0m\u001b[0mkwds\u001b[0m\u001b[0;34m)\u001b[0m\u001b[0;34m\u001b[0m\u001b[0;34m\u001b[0m\u001b[0m\n\u001b[0m\u001b[1;32m    436\u001b[0m \u001b[0;34m\u001b[0m\u001b[0m\n\u001b[1;32m    437\u001b[0m     \u001b[0;32mreturn\u001b[0m \u001b[0mwrapper\u001b[0m\u001b[0;34m\u001b[0m\u001b[0;34m\u001b[0m\u001b[0m\n",
            "\u001b[0;32m/usr/local/lib/python3.7/dist-packages/rasterio/__init__.py\u001b[0m in \u001b[0;36mopen\u001b[0;34m(fp, mode, driver, width, height, count, crs, transform, dtype, nodata, sharing, **kwargs)\u001b[0m\n\u001b[1;32m    142\u001b[0m     \u001b[0;32mif\u001b[0m \u001b[0;32mnot\u001b[0m \u001b[0misinstance\u001b[0m\u001b[0;34m(\u001b[0m\u001b[0mfp\u001b[0m\u001b[0;34m,\u001b[0m \u001b[0mstr\u001b[0m\u001b[0;34m)\u001b[0m\u001b[0;34m:\u001b[0m\u001b[0;34m\u001b[0m\u001b[0;34m\u001b[0m\u001b[0m\n\u001b[1;32m    143\u001b[0m         \u001b[0;32mif\u001b[0m \u001b[0;32mnot\u001b[0m \u001b[0;34m(\u001b[0m\u001b[0mhasattr\u001b[0m\u001b[0;34m(\u001b[0m\u001b[0mfp\u001b[0m\u001b[0;34m,\u001b[0m \u001b[0;34m'read'\u001b[0m\u001b[0;34m)\u001b[0m \u001b[0;32mor\u001b[0m \u001b[0mhasattr\u001b[0m\u001b[0;34m(\u001b[0m\u001b[0mfp\u001b[0m\u001b[0;34m,\u001b[0m \u001b[0;34m'write'\u001b[0m\u001b[0;34m)\u001b[0m \u001b[0;32mor\u001b[0m \u001b[0misinstance\u001b[0m\u001b[0;34m(\u001b[0m\u001b[0mfp\u001b[0m\u001b[0;34m,\u001b[0m \u001b[0mPath\u001b[0m\u001b[0;34m)\u001b[0m\u001b[0;34m)\u001b[0m\u001b[0;34m:\u001b[0m\u001b[0;34m\u001b[0m\u001b[0;34m\u001b[0m\u001b[0m\n\u001b[0;32m--> 144\u001b[0;31m             \u001b[0;32mraise\u001b[0m \u001b[0mTypeError\u001b[0m\u001b[0;34m(\u001b[0m\u001b[0;34m\"invalid path or file: {0!r}\"\u001b[0m\u001b[0;34m.\u001b[0m\u001b[0mformat\u001b[0m\u001b[0;34m(\u001b[0m\u001b[0mfp\u001b[0m\u001b[0;34m)\u001b[0m\u001b[0;34m)\u001b[0m\u001b[0;34m\u001b[0m\u001b[0;34m\u001b[0m\u001b[0m\n\u001b[0m\u001b[1;32m    145\u001b[0m     \u001b[0;32mif\u001b[0m \u001b[0mmode\u001b[0m \u001b[0;32mand\u001b[0m \u001b[0;32mnot\u001b[0m \u001b[0misinstance\u001b[0m\u001b[0;34m(\u001b[0m\u001b[0mmode\u001b[0m\u001b[0;34m,\u001b[0m \u001b[0mstr\u001b[0m\u001b[0;34m)\u001b[0m\u001b[0;34m:\u001b[0m\u001b[0;34m\u001b[0m\u001b[0;34m\u001b[0m\u001b[0m\n\u001b[1;32m    146\u001b[0m         \u001b[0;32mraise\u001b[0m \u001b[0mTypeError\u001b[0m\u001b[0;34m(\u001b[0m\u001b[0;34m\"invalid mode: {0!r}\"\u001b[0m\u001b[0;34m.\u001b[0m\u001b[0mformat\u001b[0m\u001b[0;34m(\u001b[0m\u001b[0mmode\u001b[0m\u001b[0;34m)\u001b[0m\u001b[0;34m)\u001b[0m\u001b[0;34m\u001b[0m\u001b[0;34m\u001b[0m\u001b[0m\n",
            "\u001b[0;31mTypeError\u001b[0m: invalid path or file: b'\\x89PNG\\r\\n\\x1a\\n\\x00\\x00\\x00\\rIHDR\\x00\\x00\\x01\\x00\\x00\\x00\\x01\\x00\\x08\\x03\\x00\\x00\\x00k\\xacXT\\x00\\x00\\x00\\tpHYs\\x00\\x00\\x00\\x1c\\x00\\x00\\x00\\x1c\\x00\\x0f\\x01\\xb9\\x8f\\x00\\x00\\x00\\x84PLTE\\x8a\\xb4\\xf8\\xe8\\xea\\xed\\xbb\\xe2\\xc6\\xc4\\xe4\\xce\\x99\\xc7\\xd7\\x94\\xbc\\xea\\xdd\\xdf\\xe2\\xb2\\xde\\xbe\\x90\\xb8\\xf8\\xae\\xc9\\xf5\\xa8\\xc9\\xcc\\x99\\xbf\\xe3\\xb2\\xcf\\xbd\\xa8\\xda\\xb5\\xc6\\xd7\\xf2\\xac\\xd4\\xd6\\x9d\\xd6\\xac\\xd2\\xe6\\xda\\xdd\\xe4\\xef\\xa2\\xc2\\xf6\\x92\\xc9\\xc0\\xad\\xdc\\xba\\x94\\xd2\\xa5\\xd1\\xdd\\xf0\\xd6\\xd8\\xdb\\x8d\\xbc\\xe4\\x96\\xbb\\xf7\\xe1\\xe8\\xd2\\xd0\\xd2\\xd5\\xf1\\xe9\\xd7\\xee\\xf0\\xee\\xd3\\xe4\\xca\\xf3\\xf3\\xf3\\x88\\x8a\\xbd\\xff\\xff\\xff\\xf5\\xf0\\xe4\\x8a\\xaa\\xea\\x85_\\x81\\x87u\\xa0\\x89\\x9f\\xdb\\x88\\x95\\xcc\\xce\\xb2\\xb5\\x8f\\xa0\\x7f\\x7f\\n\\n]\\xa7\\xbc\\xa9\\x00\\x00 \\x1fIDATx\\xda\\xed\\xfd\\x87z\\xe38\\xaf\\x05\\x00\\xa8\\xab\\xab\\xcb\\xdd%\\xc9\\xb4\\xfd\\xdf\\xff\\x01/\\x00\\x92\\x12\\xd5lJV&\\x9e;\\x83\\xfd6Ec\\x15\\x1c\\xa2\\x1c\\x82\\xa0\\xa2\\xfd\\xd4\\xfej\\xf9\\xa9\\xbdi\\x7f\\xb5\\xbc\\xfd\\x03\\xe0\\x1f\\x00\\xda_-\\xff\\x00\\xf8\\x97\\x05\\xfez\\xf9\\xc7\\x03\\xb4\\xbfZ~S\\x10\\xf4}_{M\\xf9=\\x00l\\xdfI\\xb4\\x17\\x94\\xcf\\x07\\xe0\\xa0i\\tj\\x7f\\xd3\\xf5R{=\\xf9t\\x00\\xfc\\xf7\\xc4\\xb3##\\x8a\\xa2\\xe0\\x14X\\xda\\xcb\\xc9z<\\xa0\\xf4\\x93m\\xa1\\x17Iw\\x98\\xfd\\xf7\\xf7(\\xb2\\xa2\\xc8\\x8c\\xa2\\x9d~\\xbeF\\xa1\\xf6b\\xb2Z\\x12\\xf4u\\x92b\\xa7w\\xc2\\xdd\\xc1O\\x8a\\\\\\xbf\\xddn\\xa7hw=\\x1e\\x01\\x0c\\xed\\xd5d\\x1d\\x08J\\xae\\xff\\xc9\\xd1\\x1d\\xc9\\x06\\xca4\\xb9\\\\.\\xe0\\xfe\\xfa\\xe9t\\x02\\x00\\x00\\x01\\xed\\xb5d\\x1d\\x1e\\xe0\\xe1\\xf8;\\xf0\\xffn\\xe78\\xa7\\xc6\\xce}\\xad\\xbc\\x187B\\xc6\\xe1\\x00\\x1c_\\..."
          ]
        }
      ]
    },
    {
      "cell_type": "code",
      "metadata": {
        "colab": {
          "base_uri": "https://localhost:8080/"
        },
        "id": "6HZn5TR9Fyr0",
        "outputId": "8946d4bd-9529-49c7-c644-d337137f0e07"
      },
      "source": [
        "!pip install rasterio"
      ],
      "execution_count": null,
      "outputs": [
        {
          "output_type": "stream",
          "text": [
            "Collecting rasterio\n",
            "\u001b[?25l  Downloading https://files.pythonhosted.org/packages/04/37/40712857e6c82cac52051d9faee43bc468e5806640ddbf88e10d591dbdf1/rasterio-1.2.1-cp37-cp37m-manylinux1_x86_64.whl (19.1MB)\n",
            "\u001b[K     |████████████████████████████████| 19.1MB 1.5MB/s \n",
            "\u001b[?25hRequirement already satisfied: attrs in /usr/local/lib/python3.7/dist-packages (from rasterio) (20.3.0)\n",
            "Collecting cligj>=0.5\n",
            "  Downloading https://files.pythonhosted.org/packages/42/1e/947eadf10d6804bf276eb8a038bd5307996dceaaa41cfd21b7a15ec62f5d/cligj-0.7.1-py3-none-any.whl\n",
            "Requirement already satisfied: click<8,>=4.0 in /usr/local/lib/python3.7/dist-packages (from rasterio) (7.1.2)\n",
            "Collecting click-plugins\n",
            "  Downloading https://files.pythonhosted.org/packages/e9/da/824b92d9942f4e472702488857914bdd50f73021efea15b4cad9aca8ecef/click_plugins-1.1.1-py2.py3-none-any.whl\n",
            "Collecting affine\n",
            "  Downloading https://files.pythonhosted.org/packages/ac/a6/1a39a1ede71210e3ddaf623982b06ecfc5c5c03741ae659073159184cd3e/affine-2.3.0-py2.py3-none-any.whl\n",
            "Requirement already satisfied: certifi in /usr/local/lib/python3.7/dist-packages (from rasterio) (2020.12.5)\n",
            "Collecting snuggs>=1.4.1\n",
            "  Downloading https://files.pythonhosted.org/packages/cc/0e/d27d6e806d6c0d1a2cfdc5d1f088e42339a0a54a09c3343f7f81ec8947ea/snuggs-1.4.7-py3-none-any.whl\n",
            "Requirement already satisfied: numpy in /usr/local/lib/python3.7/dist-packages (from rasterio) (1.19.5)\n",
            "Requirement already satisfied: pyparsing>=2.1.6 in /usr/local/lib/python3.7/dist-packages (from snuggs>=1.4.1->rasterio) (2.4.7)\n",
            "Installing collected packages: cligj, click-plugins, affine, snuggs, rasterio\n",
            "Successfully installed affine-2.3.0 click-plugins-1.1.1 cligj-0.7.1 rasterio-1.2.1 snuggs-1.4.7\n"
          ],
          "name": "stdout"
        }
      ]
    },
    {
      "cell_type": "code",
      "metadata": {
        "colab": {
          "base_uri": "https://localhost:8080/",
          "height": 203
        },
        "id": "pnmiFkKGF9CS",
        "outputId": "404425d0-c289-46a7-cec9-ad919bdc64a1"
      },
      "source": [
        "image = features.rasterize(\n",
        "            ((g, 255) for g, v in shapes),\n",
        "            out_shape=src.shape)"
      ],
      "execution_count": null,
      "outputs": [
        {
          "output_type": "error",
          "ename": "NameError",
          "evalue": "ignored",
          "traceback": [
            "\u001b[0;31m---------------------------------------------------------------------------\u001b[0m",
            "\u001b[0;31mNameError\u001b[0m                                 Traceback (most recent call last)",
            "\u001b[0;32m<ipython-input-49-8441155aab52>\u001b[0m in \u001b[0;36m<module>\u001b[0;34m()\u001b[0m\n\u001b[1;32m      1\u001b[0m image = features.rasterize(\n\u001b[1;32m      2\u001b[0m             \u001b[0;34m(\u001b[0m\u001b[0;34m(\u001b[0m\u001b[0mg\u001b[0m\u001b[0;34m,\u001b[0m \u001b[0;36m255\u001b[0m\u001b[0;34m)\u001b[0m \u001b[0;32mfor\u001b[0m \u001b[0mg\u001b[0m\u001b[0;34m,\u001b[0m \u001b[0mv\u001b[0m \u001b[0;32min\u001b[0m \u001b[0mshapes\u001b[0m\u001b[0;34m)\u001b[0m\u001b[0;34m,\u001b[0m\u001b[0;34m\u001b[0m\u001b[0;34m\u001b[0m\u001b[0m\n\u001b[0;32m----> 3\u001b[0;31m             out_shape=src.shape)\n\u001b[0m",
            "\u001b[0;31mNameError\u001b[0m: name 'src' is not defined"
          ]
        }
      ]
    },
    {
      "cell_type": "code",
      "metadata": {
        "colab": {
          "base_uri": "https://localhost:8080/",
          "height": 265
        },
        "id": "f2hUTkiZIpsc",
        "outputId": "beaa004d-1e91-46af-d263-a6d3535c4751"
      },
      "source": [
        "import numpy as np\n",
        "from matplotlib.path import Path\n",
        "from matplotlib import pyplot as plt\n",
        "\n",
        "nx, ny = 10, 10\n",
        "poly_verts = [(1,1), (5,1), (5,9),(3,2),(1,1)]\n",
        "\n",
        "# Create vertex coordinates for each grid cell...\n",
        "# (<0,0> is at the top left of the grid in this system)\n",
        "x, y = np.meshgrid(np.arange(nx), np.arange(ny))\n",
        "x, y = x.flatten(), y.flatten()\n",
        "\n",
        "points = np.vstack((x,y)).T\n",
        "\n",
        "path = Path(poly_verts)\n",
        "grid = path.contains_points(points)\n",
        "grid = grid.reshape((ny,nx))\n",
        "\n",
        "plt.imshow(grid)\n",
        "plt.show()"
      ],
      "execution_count": null,
      "outputs": [
        {
          "output_type": "display_data",
          "data": {
            "image/png": "[encoded data removed]",
            "text/plain": [
              "<Figure size 432x288 with 1 Axes>"
            ]
          },
          "metadata": {
            "tags": [],
            "needs_background": "light"
          }
        }
      ]
    },
    {
      "cell_type": "code",
      "metadata": {
        "id": "x20KvXU4Is_g"
      },
      "source": [
        ""
      ],
      "execution_count": null,
      "outputs": []
    },
    {
      "cell_type": "markdown",
      "metadata": {
        "id": "1R2gQJDqRxtO"
      },
      "source": [
        "# But what about GDAL?"
      ]
    },
    {
      "cell_type": "code",
      "metadata": {
        "colab": {
          "base_uri": "https://localhost:8080/"
        },
        "id": "7HWZsvuH7ItZ",
        "outputId": "e7507360-3496-40b3-b44c-ebea57f1373a"
      },
      "source": [
        "# https://colab.research.google.com/github/bwsi-hadr/00-InitialSetup/blob/master/00_InitialSetup.ipynb#scrollTo=M5gF6uvA3mwo\n",
        "!apt update\n",
        "!apt upgrade\n",
        "!apt install gdal-bin python-gdal python3-gdal ## this should replace step 2 and 3 above"
      ],
      "execution_count": null,
      "outputs": [
        {
          "output_type": "stream",
          "text": [
            "Get:1 https://cloud.r-project.org/bin/linux/ubuntu bionic-cran40/ InRelease [3,626 B]\n",
            "Ign:2 https://developer.download.nvidia.com/compute/cuda/repos/ubuntu1804/x86_64  InRelease\n",
            "Get:3 http://security.ubuntu.com/ubuntu bionic-security InRelease [88.7 kB]\n",
            "Get:4 http://ppa.launchpad.net/c2d4u.team/c2d4u4.0+/ubuntu bionic InRelease [15.9 kB]\n",
            "Ign:5 https://developer.download.nvidia.com/compute/machine-learning/repos/ubuntu1804/x86_64  InRelease\n",
            "Hit:6 https://developer.download.nvidia.com/compute/cuda/repos/ubuntu1804/x86_64  Release\n",
            "Hit:7 https://developer.download.nvidia.com/compute/machine-learning/repos/ubuntu1804/x86_64  Release\n",
            "Hit:8 http://archive.ubuntu.com/ubuntu bionic InRelease\n",
            "Get:9 http://archive.ubuntu.com/ubuntu bionic-updates InRelease [88.7 kB]\n",
            "Hit:10 http://ppa.launchpad.net/cran/libgit2/ubuntu bionic InRelease\n",
            "Get:11 https://cloud.r-project.org/bin/linux/ubuntu bionic-cran40/ Packages [49.8 kB]\n",
            "Hit:12 http://ppa.launchpad.net/deadsnakes/ppa/ubuntu bionic InRelease\n",
            "Get:13 http://archive.ubuntu.com/ubuntu bionic-backports InRelease [74.6 kB]\n",
            "Get:15 http://ppa.launchpad.net/graphics-drivers/ppa/ubuntu bionic InRelease [21.3 kB]\n",
            "Get:17 http://ppa.launchpad.net/c2d4u.team/c2d4u4.0+/ubuntu bionic/main Sources [1,749 kB]\n",
            "Get:18 http://security.ubuntu.com/ubuntu bionic-security/universe amd64 Packages [1,402 kB]\n",
            "Get:19 http://archive.ubuntu.com/ubuntu bionic-updates/restricted amd64 Packages [378 kB]\n",
            "Get:20 http://security.ubuntu.com/ubuntu bionic-security/main amd64 Packages [2,045 kB]\n",
            "Get:21 http://security.ubuntu.com/ubuntu bionic-security/restricted amd64 Packages [348 kB]\n",
            "Get:22 http://ppa.launchpad.net/c2d4u.team/c2d4u4.0+/ubuntu bionic/main amd64 Packages [895 kB]\n",
            "Get:23 http://archive.ubuntu.com/ubuntu bionic-updates/main amd64 Packages [2,475 kB]\n",
            "Get:24 http://archive.ubuntu.com/ubuntu bionic-updates/universe amd64 Packages [2,170 kB]\n",
            "Get:25 http://ppa.launchpad.net/graphics-drivers/ppa/ubuntu bionic/main amd64 Packages [49.4 kB]\n",
            "Fetched 11.9 MB in 3s (3,437 kB/s)\n",
            "Reading package lists... Done\n",
            "Building dependency tree       \n",
            "Reading state information... Done\n",
            "60 packages can be upgraded. Run 'apt list --upgradable' to see them.\n",
            "Reading package lists... Done\n",
            "Building dependency tree       \n",
            "Reading state information... Done\n",
            "Calculating upgrade... Done\n",
            "The following packages were automatically installed and are no longer required:\n",
            "  linux-headers-4.15.0-137 linux-headers-4.15.0-137-generic\n",
            "Use 'apt autoremove' to remove them.\n",
            "The following NEW packages will be installed:\n",
            "  linux-headers-4.15.0-140 linux-headers-4.15.0-140-generic\n",
            "The following packages have been kept back:\n",
            "  libcudnn8 libcudnn8-dev libnccl-dev libnccl2\n",
            "The following packages will be upgraded:\n",
            "  binutils binutils-common binutils-x86-64-linux-gnu cuda-compat-11-0 gnupg2\n",
            "  libaudit-common libaudit1 libbinutils libc-bin libcublas-dev libcublas10\n",
            "  libcudnn7 libcudnn7-dev libldap-2.4-2 libldap-common libnvidia-cfg1-460\n",
            "  libnvidia-common-460 libnvidia-compute-460 libnvidia-decode-460\n",
            "  libnvidia-encode-460 libnvidia-extra-460 libnvidia-fbc1-460 libnvidia-gl-460\n",
            "  libnvidia-ifr1-460 libp11-kit0 libpam-systemd libperl5.26 libsasl2-2\n",
            "  libsasl2-modules-db libssl-dev libssl1.1 libsystemd0 libudev1 libxnvctrl0\n",
            "  libzstd1 linux-headers-generic linux-libc-dev nvidia-compute-utils-460\n",
            "  nvidia-dkms-460 nvidia-driver-460 nvidia-kernel-common-460\n",
            "  nvidia-kernel-source-460 nvidia-settings nvidia-utils-460 openssl perl\n",
            "  perl-base perl-modules-5.26 r-cran-callr r-cran-diffobj r-cran-processx\n",
            "  systemd systemd-sysv tar udev xserver-xorg-video-nvidia-460\n",
            "56 upgraded, 2 newly installed, 0 to remove and 4 not upgraded.\n",
            "Need to get 613 MB of archives.\n",
            "After this operation, 159 MB of additional disk space will be used.\n",
            "Get:1 https://developer.download.nvidia.com/compute/cuda/repos/ubuntu1804/x86_64  cuda-compat-11-0 450.102.04-1 [6,712 kB]\n",
            "Get:2 http://ppa.launchpad.net/graphics-drivers/ppa/ubuntu bionic/main amd64 nvidia-driver-460 amd64 460.67-0ubuntu0~0.18.04.1 [433 kB]\n",
            "Get:3 http://archive.ubuntu.com/ubuntu bionic-updates/main amd64 libperl5.26 amd64 5.26.1-6ubuntu0.5 [3,534 kB]\n",
            "Get:4 https://developer.download.nvidia.com/compute/cuda/repos/ubuntu1804/x86_64  libcublas10 10.2.3.254-1 [43.1 MB]\n",
            "Get:5 http://ppa.launchpad.net/graphics-drivers/ppa/ubuntu bionic/main amd64 libnvidia-extra-460 amd64 460.67-0ubuntu0~0.18.04.1 [40.9 kB]\n",
            "Get:6 http://archive.ubuntu.com/ubuntu bionic-updates/main amd64 perl amd64 5.26.1-6ubuntu0.5 [201 kB]\n",
            "Get:7 http://archive.ubuntu.com/ubuntu bionic-updates/main amd64 perl-base amd64 5.26.1-6ubuntu0.5 [1,391 kB]\n",
            "Get:8 http://archive.ubuntu.com/ubuntu bionic-updates/main amd64 perl-modules-5.26 all 5.26.1-6ubuntu0.5 [2,762 kB]\n",
            "Get:9 http://ppa.launchpad.net/graphics-drivers/ppa/ubuntu bionic/main amd64 libnvidia-common-460 all 460.67-0ubuntu0~0.18.04.1 [10.3 kB]\n",
            "Get:10 http://archive.ubuntu.com/ubuntu bionic-updates/main amd64 tar amd64 1.29b-2ubuntu0.2 [234 kB]\n",
            "Get:11 http://archive.ubuntu.com/ubuntu bionic-updates/main amd64 libc-bin amd64 2.27-3ubuntu1.4 [643 kB]\n",
            "Get:12 http://archive.ubuntu.com/ubuntu bionic-updates/main amd64 systemd-sysv amd64 237-3ubuntu10.45 [16.7 kB]\n",
            "Get:13 http://archive.ubuntu.com/ubuntu bionic-updates/main amd64 libpam-systemd amd64 237-3ubuntu10.45 [107 kB]\n",
            "Get:14 https://developer.download.nvidia.com/compute/cuda/repos/ubuntu1804/x86_64  libcublas-dev 10.2.3.254-1 [42.4 MB]\n",
            "Get:15 http://archive.ubuntu.com/ubuntu bionic-updates/main amd64 libsystemd0 amd64 237-3ubuntu10.45 [210 kB]\n",
            "Get:16 http://archive.ubuntu.com/ubuntu bionic-updates/main amd64 systemd amd64 237-3ubuntu10.45 [2,913 kB]\n",
            "Get:17 http://archive.ubuntu.com/ubuntu bionic-updates/main amd64 udev amd64 237-3ubuntu10.45 [1,101 kB]\n",
            "Get:18 http://ppa.launchpad.net/graphics-drivers/ppa/ubuntu bionic/main amd64 libnvidia-gl-460 amd64 460.67-0ubuntu0~0.18.04.1 [80.6 MB]\n",
            "Get:19 http://archive.ubuntu.com/ubuntu bionic-updates/main amd64 libudev1 amd64 237-3ubuntu10.45 [59.0 kB]\n",
            "Get:20 http://archive.ubuntu.com/ubuntu bionic-updates/main amd64 libaudit-common all 1:2.8.2-1ubuntu1.1 [4,068 B]\n",
            "Get:21 http://archive.ubuntu.com/ubuntu bionic-updates/main amd64 libaudit1 amd64 1:2.8.2-1ubuntu1.1 [38.7 kB]\n",
            "Get:22 http://archive.ubuntu.com/ubuntu bionic-updates/main amd64 libzstd1 amd64 1.3.3+dfsg-2ubuntu1.2 [189 kB]\n",
            "Get:23 http://archive.ubuntu.com/ubuntu bionic-updates/main amd64 libp11-kit0 amd64 0.23.9-2ubuntu0.1 [187 kB]\n",
            "Get:24 http://archive.ubuntu.com/ubuntu bionic-updates/main amd64 libssl-dev amd64 1.1.1-1ubuntu2.1~18.04.9 [1,566 kB]\n",
            "Get:25 http://archive.ubuntu.com/ubuntu bionic-updates/main amd64 libssl1.1 amd64 1.1.1-1ubuntu2.1~18.04.9 [1,301 kB]\n",
            "Get:26 http://archive.ubuntu.com/ubuntu bionic-updates/main amd64 openssl amd64 1.1.1-1ubuntu2.1~18.04.9 [614 kB]\n",
            "Get:27 http://archive.ubuntu.com/ubuntu bionic-updates/main amd64 binutils-x86-64-linux-gnu amd64 2.30-21ubuntu1~18.04.5 [1,839 kB]\n",
            "Get:28 http://archive.ubuntu.com/ubuntu bionic-updates/main amd64 binutils-common amd64 2.30-21ubuntu1~18.04.5 [197 kB]\n",
            "Get:29 http://archive.ubuntu.com/ubuntu bionic-updates/main amd64 binutils amd64 2.30-21ubuntu1~18.04.5 [3,388 B]\n",
            "Get:30 http://archive.ubuntu.com/ubuntu bionic-updates/main amd64 libbinutils amd64 2.30-21ubuntu1~18.04.5 [489 kB]\n",
            "Get:31 http://archive.ubuntu.com/ubuntu bionic-updates/main amd64 libsasl2-modules-db amd64 2.1.27~101-g0780600+dfsg-3ubuntu2.3 [15.0 kB]\n",
            "Get:32 http://archive.ubuntu.com/ubuntu bionic-updates/main amd64 libsasl2-2 amd64 2.1.27~101-g0780600+dfsg-3ubuntu2.3 [49.2 kB]\n",
            "Get:33 http://archive.ubuntu.com/ubuntu bionic-updates/main amd64 libldap-common all 2.4.45+dfsg-1ubuntu1.10 [15.8 kB]\n",
            "Get:34 http://archive.ubuntu.com/ubuntu bionic-updates/main amd64 libldap-2.4-2 amd64 2.4.45+dfsg-1ubuntu1.10 [154 kB]\n",
            "Get:35 http://archive.ubuntu.com/ubuntu bionic-updates/main amd64 libxnvctrl0 amd64 460.39-0ubuntu0.18.04.2 [11.0 kB]\n",
            "Get:36 http://archive.ubuntu.com/ubuntu bionic-updates/main amd64 linux-headers-4.15.0-140 all 4.15.0-140.144 [10.9 MB]\n",
            "Get:37 http://archive.ubuntu.com/ubuntu bionic-updates/main amd64 linux-headers-4.15.0-140-generic amd64 4.15.0-140.144 [1,101 kB]\n",
            "Get:38 http://archive.ubuntu.com/ubuntu bionic-updates/main amd64 linux-headers-generic amd64 4.15.0.140.127 [2,484 B]\n",
            "Get:39 http://archive.ubuntu.com/ubuntu bionic-updates/main amd64 linux-libc-dev amd64 4.15.0-140.144 [993 kB]\n",
            "Get:40 http://archive.ubuntu.com/ubuntu bionic-updates/main amd64 nvidia-settings amd64 460.39-0ubuntu0.18.04.2 [882 kB]\n",
            "Get:41 http://archive.ubuntu.com/ubuntu bionic-updates/universe amd64 gnupg2 all 2.2.4-1ubuntu1.4 [5,292 B]\n",
            "Get:42 https://developer.download.nvidia.com/compute/machine-learning/repos/ubuntu1804/x86_64  libcudnn7-dev 7.6.5.32-1+cuda10.2 [165 MB]\n",
            "Get:43 http://ppa.launchpad.net/graphics-drivers/ppa/ubuntu bionic/main amd64 nvidia-dkms-460 amd64 460.67-0ubuntu0~0.18.04.1 [29.4 kB]\n",
            "Get:44 http://ppa.launchpad.net/graphics-drivers/ppa/ubuntu bionic/main amd64 nvidia-kernel-source-460 amd64 460.67-0ubuntu0~0.18.04.1 [24.5 MB]\n",
            "Get:45 http://ppa.launchpad.net/graphics-drivers/ppa/ubuntu bionic/main amd64 nvidia-kernel-common-460 amd64 460.67-0ubuntu0~0.18.04.1 [19.7 kB]\n",
            "Get:46 https://developer.download.nvidia.com/compute/machine-learning/repos/ubuntu1804/x86_64  libcudnn7 7.6.5.32-1+cuda10.2 [189 MB]\n",
            "Get:47 http://ppa.launchpad.net/graphics-drivers/ppa/ubuntu bionic/main amd64 libnvidia-decode-460 amd64 460.67-0ubuntu0~0.18.04.1 [1,310 kB]\n",
            "Get:48 http://ppa.launchpad.net/graphics-drivers/ppa/ubuntu bionic/main amd64 libnvidia-compute-460 amd64 460.67-0ubuntu0~0.18.04.1 [21.8 MB]\n",
            "Get:49 http://ppa.launchpad.net/graphics-drivers/ppa/ubuntu bionic/main amd64 nvidia-compute-utils-460 amd64 460.67-0ubuntu0~0.18.04.1 [106 kB]\n",
            "Get:50 http://ppa.launchpad.net/graphics-drivers/ppa/ubuntu bionic/main amd64 libnvidia-encode-460 amd64 460.67-0ubuntu0~0.18.04.1 [40.8 kB]\n",
            "Get:51 http://ppa.launchpad.net/graphics-drivers/ppa/ubuntu bionic/main amd64 nvidia-utils-460 amd64 460.67-0ubuntu0~0.18.04.1 [364 kB]\n",
            "Get:52 http://ppa.launchpad.net/graphics-drivers/ppa/ubuntu bionic/main amd64 libnvidia-ifr1-460 amd64 460.67-0ubuntu0~0.18.04.1 [68.8 kB]\n",
            "Get:53 http://ppa.launchpad.net/graphics-drivers/ppa/ubuntu bionic/main amd64 libnvidia-fbc1-460 amd64 460.67-0ubuntu0~0.18.04.1 [46.5 kB]\n",
            "Get:54 http://ppa.launchpad.net/graphics-drivers/ppa/ubuntu bionic/main amd64 xserver-xorg-video-nvidia-460 amd64 460.67-0ubuntu0~0.18.04.1 [1,558 kB]\n",
            "Get:55 http://ppa.launchpad.net/graphics-drivers/ppa/ubuntu bionic/main amd64 libnvidia-cfg1-460 amd64 460.67-0ubuntu0~0.18.04.1 [78.5 kB]\n",
            "Get:56 http://ppa.launchpad.net/c2d4u.team/c2d4u4.0+/ubuntu bionic/main amd64 r-cran-processx amd64 3.5.0-1cran1.1804.0 [297 kB]\n",
            "Get:57 http://ppa.launchpad.net/c2d4u.team/c2d4u4.0+/ubuntu bionic/main amd64 r-cran-callr all 3.6.0-1cran1.1804.0 [414 kB]\n",
            "Get:58 http://ppa.launchpad.net/c2d4u.team/c2d4u4.0+/ubuntu bionic/main amd64 r-cran-diffobj amd64 0.3.4-1cran1.1804.0 [946 kB]\n",
            "Fetched 613 MB in 14s (44.2 MB/s)\n",
            "Extracting templates from packages: 100%\n",
            "Preconfiguring packages ...\n",
            "(Reading database ... 160980 files and directories currently installed.)\n",
            "Preparing to unpack .../libperl5.26_5.26.1-6ubuntu0.5_amd64.deb ...\n",
            "Unpacking libperl5.26:amd64 (5.26.1-6ubuntu0.5) over (5.26.1-6ubuntu0.3) ...\n",
            "Preparing to unpack .../perl_5.26.1-6ubuntu0.5_amd64.deb ...\n",
            "Unpacking perl (5.26.1-6ubuntu0.5) over (5.26.1-6ubuntu0.3) ...\n",
            "Preparing to unpack .../perl-base_5.26.1-6ubuntu0.5_amd64.deb ...\n",
            "Unpacking perl-base (5.26.1-6ubuntu0.5) over (5.26.1-6ubuntu0.3) ...\n",
            "Setting up perl-base (5.26.1-6ubuntu0.5) ...\n",
            "(Reading database ... 160980 files and directories currently installed.)\n",
            "Preparing to unpack .../perl-modules-5.26_5.26.1-6ubuntu0.5_all.deb ...\n",
            "Unpacking perl-modules-5.26 (5.26.1-6ubuntu0.5) over (5.26.1-6ubuntu0.3) ...\n",
            "Preparing to unpack .../tar_1.29b-2ubuntu0.2_amd64.deb ...\n",
            "Unpacking tar (1.29b-2ubuntu0.2) over (1.29b-2ubuntu0.1) ...\n",
            "Setting up tar (1.29b-2ubuntu0.2) ...\n",
            "update-alternatives: warning: forcing reinstallation of alternative /usr/sbin/rmt-tar because link group rmt is broken\n",
            "(Reading database ... 160980 files and directories currently installed.)\n",
            "Preparing to unpack .../libc-bin_2.27-3ubuntu1.4_amd64.deb ...\n",
            "Unpacking libc-bin (2.27-3ubuntu1.4) over (2.27-3ubuntu1.2) ...\n",
            "Setting up libc-bin (2.27-3ubuntu1.4) ...\n",
            "/sbin/ldconfig.real: /usr/local/lib/python3.7/dist-packages/ideep4py/lib/libmkldnn.so.0 is not a symbolic link\n",
            "\n",
            "(Reading database ... 160980 files and directories currently installed.)\n",
            "Preparing to unpack .../systemd-sysv_237-3ubuntu10.45_amd64.deb ...\n",
            "Unpacking systemd-sysv (237-3ubuntu10.45) over (237-3ubuntu10.44) ...\n",
            "Preparing to unpack .../libpam-systemd_237-3ubuntu10.45_amd64.deb ...\n",
            "Unpacking libpam-systemd:amd64 (237-3ubuntu10.45) over (237-3ubuntu10.44) ...\n",
            "Preparing to unpack .../libsystemd0_237-3ubuntu10.45_amd64.deb ...\n",
            "Unpacking libsystemd0:amd64 (237-3ubuntu10.45) over (237-3ubuntu10.44) ...\n",
            "Setting up libsystemd0:amd64 (237-3ubuntu10.45) ...\n",
            "(Reading database ... 160980 files and directories currently installed.)\n",
            "Preparing to unpack .../systemd_237-3ubuntu10.45_amd64.deb ...\n",
            "Unpacking systemd (237-3ubuntu10.45) over (237-3ubuntu10.44) ...\n",
            "Preparing to unpack .../udev_237-3ubuntu10.45_amd64.deb ...\n",
            "Unpacking udev (237-3ubuntu10.45) over (237-3ubuntu10.44) ...\n",
            "Preparing to unpack .../libudev1_237-3ubuntu10.45_amd64.deb ...\n",
            "Unpacking libudev1:amd64 (237-3ubuntu10.45) over (237-3ubuntu10.44) ...\n",
            "Setting up libudev1:amd64 (237-3ubuntu10.45) ...\n",
            "(Reading database ... 160980 files and directories currently installed.)\n",
            "Preparing to unpack .../libaudit-common_1%3a2.8.2-1ubuntu1.1_all.deb ...\n",
            "Unpacking libaudit-common (1:2.8.2-1ubuntu1.1) over (1:2.8.2-1ubuntu1) ...\n",
            "Setting up libaudit-common (1:2.8.2-1ubuntu1.1) ...\n",
            "(Reading database ... 160980 files and directories currently installed.)\n",
            "Preparing to unpack .../libaudit1_1%3a2.8.2-1ubuntu1.1_amd64.deb ...\n",
            "Unpacking libaudit1:amd64 (1:2.8.2-1ubuntu1.1) over (1:2.8.2-1ubuntu1) ...\n",
            "Setting up libaudit1:amd64 (1:2.8.2-1ubuntu1.1) ...\n",
            "(Reading database ... 160980 files and directories currently installed.)\n",
            "Preparing to unpack .../libzstd1_1.3.3+dfsg-2ubuntu1.2_amd64.deb ...\n",
            "Unpacking libzstd1:amd64 (1.3.3+dfsg-2ubuntu1.2) over (1.3.3+dfsg-2ubuntu1.1) ...\n",
            "Setting up libzstd1:amd64 (1.3.3+dfsg-2ubuntu1.2) ...\n",
            "(Reading database ... 160980 files and directories currently installed.)\n",
            "Preparing to unpack .../libp11-kit0_0.23.9-2ubuntu0.1_amd64.deb ...\n",
            "Unpacking libp11-kit0:amd64 (0.23.9-2ubuntu0.1) over (0.23.9-2) ...\n",
            "Setting up libp11-kit0:amd64 (0.23.9-2ubuntu0.1) ...\n",
            "(Reading database ... 160980 files and directories currently installed.)\n",
            "Preparing to unpack .../00-libssl-dev_1.1.1-1ubuntu2.1~18.04.9_amd64.deb ...\n",
            "Unpacking libssl-dev:amd64 (1.1.1-1ubuntu2.1~18.04.9) over (1.1.1-1ubuntu2.1~18.04.8) ...\n",
            "Preparing to unpack .../01-libssl1.1_1.1.1-1ubuntu2.1~18.04.9_amd64.deb ...\n",
            "Unpacking libssl1.1:amd64 (1.1.1-1ubuntu2.1~18.04.9) over (1.1.1-1ubuntu2.1~18.04.8) ...\n",
            "Preparing to unpack .../02-openssl_1.1.1-1ubuntu2.1~18.04.9_amd64.deb ...\n",
            "Unpacking openssl (1.1.1-1ubuntu2.1~18.04.9) over (1.1.1-1ubuntu2.1~18.04.6) ...\n",
            "Preparing to unpack .../03-binutils-x86-64-linux-gnu_2.30-21ubuntu1~18.04.5_amd64.deb ...\n",
            "Unpacking binutils-x86-64-linux-gnu (2.30-21ubuntu1~18.04.5) over (2.30-21ubuntu1~18.04.4) ...\n",
            "Preparing to unpack .../04-binutils-common_2.30-21ubuntu1~18.04.5_amd64.deb ...\n",
            "Unpacking binutils-common:amd64 (2.30-21ubuntu1~18.04.5) over (2.30-21ubuntu1~18.04.4) ...\n",
            "Preparing to unpack .../05-binutils_2.30-21ubuntu1~18.04.5_amd64.deb ...\n",
            "Unpacking binutils (2.30-21ubuntu1~18.04.5) over (2.30-21ubuntu1~18.04.4) ...\n",
            "Preparing to unpack .../06-libbinutils_2.30-21ubuntu1~18.04.5_amd64.deb ...\n",
            "Unpacking libbinutils:amd64 (2.30-21ubuntu1~18.04.5) over (2.30-21ubuntu1~18.04.4) ...\n",
            "Preparing to unpack .../07-cuda-compat-11-0_450.102.04-1_amd64.deb ...\n",
            "Unpacking cuda-compat-11-0 (450.102.04-1) over (450.80.02-1) ...\n",
            "Preparing to unpack .../08-libcublas10_10.2.3.254-1_amd64.deb ...\n",
            "Unpacking libcublas10 (10.2.3.254-1) over (10.2.1.243-1) ...\n",
            "Preparing to unpack .../09-libcublas-dev_10.2.3.254-1_amd64.deb ...\n",
            "Unpacking libcublas-dev (10.2.3.254-1) over (10.2.1.243-1) ...\n",
            "Preparing to unpack .../10-libcudnn7-dev_7.6.5.32-1+cuda10.2_amd64.deb ...\n",
            "update-alternatives: removing manually selected alternative - switching libcudnn to auto mode\n",
            "update-alternatives: using /usr/include/x86_64-linux-gnu/cudnn_v8.h to provide /usr/include/cudnn.h (libcudnn) in auto mode\n",
            "Unpacking libcudnn7-dev (7.6.5.32-1+cuda10.2) over (7.6.5.32-1+cuda10.1) ...\n",
            "Preparing to unpack .../11-libcudnn7_7.6.5.32-1+cuda10.2_amd64.deb ...\n",
            "Unpacking libcudnn7 (7.6.5.32-1+cuda10.2) over (7.6.5.32-1+cuda10.1) ...\n",
            "Preparing to unpack .../12-libsasl2-modules-db_2.1.27~101-g0780600+dfsg-3ubuntu2.3_amd64.deb ...\n",
            "Unpacking libsasl2-modules-db:amd64 (2.1.27~101-g0780600+dfsg-3ubuntu2.3) over (2.1.27~101-g0780600+dfsg-3ubuntu2.1) ...\n",
            "Preparing to unpack .../13-libsasl2-2_2.1.27~101-g0780600+dfsg-3ubuntu2.3_amd64.deb ...\n",
            "Unpacking libsasl2-2:amd64 (2.1.27~101-g0780600+dfsg-3ubuntu2.3) over (2.1.27~101-g0780600+dfsg-3ubuntu2.1) ...\n",
            "Preparing to unpack .../14-libldap-common_2.4.45+dfsg-1ubuntu1.10_all.deb ...\n",
            "Unpacking libldap-common (2.4.45+dfsg-1ubuntu1.10) over (2.4.45+dfsg-1ubuntu1.6) ...\n",
            "Preparing to unpack .../15-libldap-2.4-2_2.4.45+dfsg-1ubuntu1.10_amd64.deb ...\n",
            "Unpacking libldap-2.4-2:amd64 (2.4.45+dfsg-1ubuntu1.10) over (2.4.45+dfsg-1ubuntu1.6) ...\n",
            "Preparing to unpack .../16-nvidia-driver-460_460.67-0ubuntu0~0.18.04.1_amd64.deb ...\n",
            "Unpacking nvidia-driver-460 (460.67-0ubuntu0~0.18.04.1) over (460.56-0ubuntu0.18.04.1) ...\n",
            "Preparing to unpack .../17-libnvidia-extra-460_460.67-0ubuntu0~0.18.04.1_amd64.deb ...\n",
            "Unpacking libnvidia-extra-460:amd64 (460.67-0ubuntu0~0.18.04.1) over (460.56-0ubuntu0.18.04.1) ...\n",
            "Preparing to unpack .../18-libnvidia-common-460_460.67-0ubuntu0~0.18.04.1_all.deb ...\n",
            "Unpacking libnvidia-common-460 (460.67-0ubuntu0~0.18.04.1) over (460.56-0ubuntu0.18.04.1) ...\n",
            "Preparing to unpack .../19-libnvidia-gl-460_460.67-0ubuntu0~0.18.04.1_amd64.deb ...\n",
            "Unpacking libnvidia-gl-460:amd64 (460.67-0ubuntu0~0.18.04.1) over (460.56-0ubuntu0.18.04.1) ...\n",
            "Preparing to unpack .../20-nvidia-dkms-460_460.67-0ubuntu0~0.18.04.1_amd64.deb ...\n",
            "Removing all DKMS Modules\n",
            "Done.\n",
            "Unpacking nvidia-dkms-460 (460.67-0ubuntu0~0.18.04.1) over (460.56-0ubuntu0.18.04.1) ...\n",
            "Preparing to unpack .../21-nvidia-kernel-source-460_460.67-0ubuntu0~0.18.04.1_amd64.deb ...\n",
            "Unpacking nvidia-kernel-source-460 (460.67-0ubuntu0~0.18.04.1) over (460.56-0ubuntu0.18.04.1) ...\n",
            "Preparing to unpack .../22-nvidia-kernel-common-460_460.67-0ubuntu0~0.18.04.1_amd64.deb ...\n",
            "Unpacking nvidia-kernel-common-460 (460.67-0ubuntu0~0.18.04.1) over (460.56-0ubuntu0.18.04.1) ...\n",
            "Preparing to unpack .../23-libnvidia-decode-460_460.67-0ubuntu0~0.18.04.1_amd64.deb ...\n",
            "Unpacking libnvidia-decode-460:amd64 (460.67-0ubuntu0~0.18.04.1) over (460.56-0ubuntu0.18.04.1) ...\n",
            "Preparing to unpack .../24-libnvidia-compute-460_460.67-0ubuntu0~0.18.04.1_amd64.deb ...\n",
            "Unpacking libnvidia-compute-460:amd64 (460.67-0ubuntu0~0.18.04.1) over (460.56-0ubuntu0.18.04.1) ...\n",
            "Preparing to unpack .../25-nvidia-compute-utils-460_460.67-0ubuntu0~0.18.04.1_amd64.deb ...\n",
            "System has not been booted with systemd as init system (PID 1). Can't operate.\n",
            "System has not been booted with systemd as init system (PID 1). Can't operate.\n",
            "Unpacking nvidia-compute-utils-460 (460.67-0ubuntu0~0.18.04.1) over (460.56-0ubuntu0.18.04.1) ...\n",
            "Preparing to unpack .../26-libnvidia-encode-460_460.67-0ubuntu0~0.18.04.1_amd64.deb ...\n",
            "Unpacking libnvidia-encode-460:amd64 (460.67-0ubuntu0~0.18.04.1) over (460.56-0ubuntu0.18.04.1) ...\n",
            "Preparing to unpack .../27-nvidia-utils-460_460.67-0ubuntu0~0.18.04.1_amd64.deb ...\n",
            "Unpacking nvidia-utils-460 (460.67-0ubuntu0~0.18.04.1) over (460.56-0ubuntu0.18.04.1) ...\n",
            "Preparing to unpack .../28-libnvidia-ifr1-460_460.67-0ubuntu0~0.18.04.1_amd64.deb ...\n",
            "Unpacking libnvidia-ifr1-460:amd64 (460.67-0ubuntu0~0.18.04.1) over (460.56-0ubuntu0.18.04.1) ...\n",
            "Preparing to unpack .../29-libnvidia-fbc1-460_460.67-0ubuntu0~0.18.04.1_amd64.deb ...\n",
            "Unpacking libnvidia-fbc1-460:amd64 (460.67-0ubuntu0~0.18.04.1) over (460.56-0ubuntu0.18.04.1) ...\n",
            "Preparing to unpack .../30-xserver-xorg-video-nvidia-460_460.67-0ubuntu0~0.18.04.1_amd64.deb ...\n",
            "Unpacking xserver-xorg-video-nvidia-460 (460.67-0ubuntu0~0.18.04.1) over (460.56-0ubuntu0.18.04.1) ...\n",
            "Preparing to unpack .../31-libnvidia-cfg1-460_460.67-0ubuntu0~0.18.04.1_amd64.deb ...\n",
            "Unpacking libnvidia-cfg1-460:amd64 (460.67-0ubuntu0~0.18.04.1) over (460.56-0ubuntu0.18.04.1) ...\n",
            "Preparing to unpack .../32-libxnvctrl0_460.39-0ubuntu0.18.04.2_amd64.deb ...\n",
            "Unpacking libxnvctrl0:amd64 (460.39-0ubuntu0.18.04.2) over (460.32.03-0ubuntu1) ...\n",
            "Selecting previously unselected package linux-headers-4.15.0-140.\n",
            "Preparing to unpack .../33-linux-headers-4.15.0-140_4.15.0-140.144_all.deb ...\n",
            "Unpacking linux-headers-4.15.0-140 (4.15.0-140.144) ...\n",
            "Selecting previously unselected package linux-headers-4.15.0-140-generic.\n",
            "Preparing to unpack .../34-linux-headers-4.15.0-140-generic_4.15.0-140.144_amd64.deb ...\n",
            "Unpacking linux-headers-4.15.0-140-generic (4.15.0-140.144) ...\n",
            "Preparing to unpack .../35-linux-headers-generic_4.15.0.140.127_amd64.deb ...\n",
            "Unpacking linux-headers-generic (4.15.0.140.127) over (4.15.0.137.124) ...\n",
            "Preparing to unpack .../36-linux-libc-dev_4.15.0-140.144_amd64.deb ...\n",
            "Unpacking linux-libc-dev:amd64 (4.15.0-140.144) over (4.15.0-118.119) ...\n",
            "Preparing to unpack .../37-nvidia-settings_460.39-0ubuntu0.18.04.2_amd64.deb ...\n",
            "Unpacking nvidia-settings (460.39-0ubuntu0.18.04.2) over (460.32.03-0ubuntu1) ...\n",
            "Preparing to unpack .../38-r-cran-processx_3.5.0-1cran1.1804.0_amd64.deb ...\n",
            "Unpacking r-cran-processx (3.5.0-1cran1.1804.0) over (3.4.5-1cran1.1804.0) ...\n",
            "Preparing to unpack .../39-r-cran-callr_3.6.0-1cran1.1804.0_all.deb ...\n",
            "Unpacking r-cran-callr (3.6.0-1cran1.1804.0) over (3.5.1-1cran1.1804.0) ...\n",
            "Preparing to unpack .../40-r-cran-diffobj_0.3.4-1cran1.1804.0_amd64.deb ...\n",
            "Unpacking r-cran-diffobj (0.3.4-1cran1.1804.0) over (0.3.3-1cran1.1804.0) ...\n",
            "Preparing to unpack .../41-gnupg2_2.2.4-1ubuntu1.4_all.deb ...\n",
            "Unpacking gnupg2 (2.2.4-1ubuntu1.4) over (2.2.4-1ubuntu1.3) ...\n",
            "Setting up libcudnn7 (7.6.5.32-1+cuda10.2) ...\n",
            "Setting up r-cran-diffobj (0.3.4-1cran1.1804.0) ...\n",
            "Setting up r-cran-processx (3.5.0-1cran1.1804.0) ...\n",
            "Setting up libnvidia-extra-460:amd64 (460.67-0ubuntu0~0.18.04.1) ...\n",
            "Setting up libldap-common (2.4.45+dfsg-1ubuntu1.10) ...\n",
            "Setting up cuda-compat-11-0 (450.102.04-1) ...\n",
            "Setting up libnvidia-common-460 (460.67-0ubuntu0~0.18.04.1) ...\n",
            "Setting up libsasl2-modules-db:amd64 (2.1.27~101-g0780600+dfsg-3ubuntu2.3) ...\n",
            "Setting up linux-headers-4.15.0-140 (4.15.0-140.144) ...\n",
            "Setting up linux-libc-dev:amd64 (4.15.0-140.144) ...\n",
            "Setting up libsasl2-2:amd64 (2.1.27~101-g0780600+dfsg-3ubuntu2.3) ...\n",
            "Setting up libcudnn7-dev (7.6.5.32-1+cuda10.2) ...\n",
            "update-alternatives: using /usr/include/x86_64-linux-gnu/cudnn_v7.h to provide /usr/include/cudnn.h (libcudnn) in manual mode\n",
            "Setting up libnvidia-fbc1-460:amd64 (460.67-0ubuntu0~0.18.04.1) ...\n",
            "Setting up perl-modules-5.26 (5.26.1-6ubuntu0.5) ...\n",
            "Setting up libnvidia-gl-460:amd64 (460.67-0ubuntu0~0.18.04.1) ...\n",
            "Setting up binutils-common:amd64 (2.30-21ubuntu1~18.04.5) ...\n",
            "Setting up gnupg2 (2.2.4-1ubuntu1.4) ...\n",
            "Setting up libnvidia-ifr1-460:amd64 (460.67-0ubuntu0~0.18.04.1) ...\n",
            "Setting up libcublas10 (10.2.3.254-1) ...\n",
            "Setting up libcublas-dev (10.2.3.254-1) ...\n",
            "Setting up libnvidia-compute-460:amd64 (460.67-0ubuntu0~0.18.04.1) ...\n",
            "Setting up libperl5.26:amd64 (5.26.1-6ubuntu0.5) ...\n",
            "Setting up udev (237-3ubuntu10.45) ...\n",
            "invoke-rc.d: could not determine current runlevel\n",
            "invoke-rc.d: policy-rc.d denied execution of restart.\n",
            "Setting up libldap-2.4-2:amd64 (2.4.45+dfsg-1ubuntu1.10) ...\n",
            "Setting up libssl1.1:amd64 (1.1.1-1ubuntu2.1~18.04.9) ...\n",
            "Setting up nvidia-kernel-source-460 (460.67-0ubuntu0~0.18.04.1) ...\n",
            "Setting up systemd (237-3ubuntu10.45) ...\n",
            "Setting up openssl (1.1.1-1ubuntu2.1~18.04.9) ...\n",
            "Setting up nvidia-utils-460 (460.67-0ubuntu0~0.18.04.1) ...\n",
            "Setting up nvidia-kernel-common-460 (460.67-0ubuntu0~0.18.04.1) ...\n",
            "Setting up libnvidia-cfg1-460:amd64 (460.67-0ubuntu0~0.18.04.1) ...\n",
            "Setting up libxnvctrl0:amd64 (460.39-0ubuntu0.18.04.2) ...\n",
            "Setting up libnvidia-decode-460:amd64 (460.67-0ubuntu0~0.18.04.1) ...\n",
            "Setting up r-cran-callr (3.6.0-1cran1.1804.0) ...\n",
            "Setting up nvidia-compute-utils-460 (460.67-0ubuntu0~0.18.04.1) ...\n",
            "Setting up linux-headers-4.15.0-140-generic (4.15.0-140.144) ...\n",
            "/etc/kernel/header_postinst.d/dkms:\n",
            " * dkms: running auto installation service for kernel 4.15.0-140-generic\n",
            "   ...done.\n",
            "Setting up libbinutils:amd64 (2.30-21ubuntu1~18.04.5) ...\n",
            "Setting up systemd-sysv (237-3ubuntu10.45) ...\n",
            "Setting up libssl-dev:amd64 (1.1.1-1ubuntu2.1~18.04.9) ...\n",
            "Setting up nvidia-settings (460.39-0ubuntu0.18.04.2) ...\n",
            "Setting up perl (5.26.1-6ubuntu0.5) ...\n",
            "Setting up libnvidia-encode-460:amd64 (460.67-0ubuntu0~0.18.04.1) ...\n",
            "Setting up xserver-xorg-video-nvidia-460 (460.67-0ubuntu0~0.18.04.1) ...\n",
            "Setting up nvidia-dkms-460 (460.67-0ubuntu0~0.18.04.1) ...\n",
            "Loading new nvidia-460.67 DKMS files...\n",
            "It is likely that 4.19.112+ belongs to a chroot's host\n",
            "Building for 4.15.0-137-generic and 4.15.0-140-generic\n",
            "Building for architecture x86_64\n",
            "Building initial module for 4.15.0-137-generic\n",
            "Done.\n",
            "\n",
            "nvidia:\n",
            "Running module version sanity check.\n",
            " - Original module\n",
            "   - No original module exists within this kernel\n",
            " - Installation\n",
            "   - Installing to /lib/modules/4.15.0-137-generic/updates/dkms/\n",
            "\n",
            "nvidia-modeset.ko:\n",
            "Running module version sanity check.\n",
            " - Original module\n",
            "   - No original module exists within this kernel\n",
            " - Installation\n",
            "   - Installing to /lib/modules/4.15.0-137-generic/updates/dkms/\n",
            "\n",
            "nvidia-drm.ko:\n",
            "Running module version sanity check.\n",
            " - Original module\n",
            "   - No original module exists within this kernel\n",
            " - Installation\n",
            "   - Installing to /lib/modules/4.15.0-137-generic/updates/dkms/\n",
            "\n",
            "nvidia-uvm.ko:\n",
            "Running module version sanity check.\n",
            " - Original module\n",
            "   - No original module exists within this kernel\n",
            " - Installation\n",
            "   - Installing to /lib/modules/4.15.0-137-generic/updates/dkms/\n",
            "\n",
            "depmod...\n",
            "\n",
            "DKMS: install completed.\n",
            "Building initial module for 4.15.0-140-generic\n",
            "Done.\n",
            "\n",
            "nvidia:\n",
            "Running module version sanity check.\n",
            " - Original module\n",
            "   - No original module exists within this kernel\n",
            " - Installation\n",
            "   - Installing to /lib/modules/4.15.0-140-generic/updates/dkms/\n",
            "\n",
            "nvidia-modeset.ko:\n",
            "Running module version sanity check.\n",
            " - Original module\n",
            "   - No original module exists within this kernel\n",
            " - Installation\n",
            "   - Installing to /lib/modules/4.15.0-140-generic/updates/dkms/\n",
            "\n",
            "nvidia-drm.ko:\n",
            "Running module version sanity check.\n",
            " - Original module\n",
            "   - No original module exists within this kernel\n",
            " - Installation\n",
            "   - Installing to /lib/modules/4.15.0-140-generic/updates/dkms/\n",
            "\n",
            "nvidia-uvm.ko:\n",
            "Running module version sanity check.\n",
            " - Original module\n",
            "   - No original module exists within this kernel\n",
            " - Installation\n",
            "   - Installing to /lib/modules/4.15.0-140-generic/updates/dkms/\n",
            "\n",
            "depmod...\n",
            "\n",
            "DKMS: install completed.\n",
            "Setting up nvidia-driver-460 (460.67-0ubuntu0~0.18.04.1) ...\n",
            "Setting up linux-headers-generic (4.15.0.140.127) ...\n",
            "Setting up binutils-x86-64-linux-gnu (2.30-21ubuntu1~18.04.5) ...\n",
            "Setting up libpam-systemd:amd64 (237-3ubuntu10.45) ...\n",
            "Setting up binutils (2.30-21ubuntu1~18.04.5) ...\n",
            "Processing triggers for mime-support (3.60ubuntu1) ...\n",
            "Processing triggers for libc-bin (2.27-3ubuntu1.4) ...\n",
            "/sbin/ldconfig.real: /usr/local/lib/python3.7/dist-packages/ideep4py/lib/libmkldnn.so.0 is not a symbolic link\n",
            "\n",
            "Processing triggers for man-db (2.8.3-2ubuntu0.1) ...\n",
            "Processing triggers for dbus (1.12.2-1ubuntu1.2) ...\n",
            "Reading package lists... Done\n",
            "Building dependency tree       \n",
            "Reading state information... Done\n",
            "gdal-bin is already the newest version (2.2.3+dfsg-2).\n",
            "python-gdal is already the newest version (2.2.3+dfsg-2).\n",
            "The following packages were automatically installed and are no longer required:\n",
            "  linux-headers-4.15.0-137 linux-headers-4.15.0-137-generic\n",
            "Use 'apt autoremove' to remove them.\n",
            "The following additional packages will be installed:\n",
            "  python3-numpy\n",
            "Suggested packages:\n",
            "  python-numpy-doc python3-nose python3-numpy-dbg\n",
            "The following NEW packages will be installed:\n",
            "  python3-gdal python3-numpy\n",
            "0 upgraded, 2 newly installed, 0 to remove and 4 not upgraded.\n",
            "Need to get 2,288 kB of archives.\n",
            "After this operation, 13.2 MB of additional disk space will be used.\n",
            "Get:1 http://archive.ubuntu.com/ubuntu bionic/main amd64 python3-numpy amd64 1:1.13.3-2ubuntu1 [1,943 kB]\n",
            "Get:2 http://archive.ubuntu.com/ubuntu bionic/universe amd64 python3-gdal amd64 2.2.3+dfsg-2 [346 kB]\n",
            "Fetched 2,288 kB in 1s (2,494 kB/s)\n",
            "Selecting previously unselected package python3-numpy.\n",
            "(Reading database ... 190272 files and directories currently installed.)\n",
            "Preparing to unpack .../python3-numpy_1%3a1.13.3-2ubuntu1_amd64.deb ...\n",
            "Unpacking python3-numpy (1:1.13.3-2ubuntu1) ...\n",
            "Selecting previously unselected package python3-gdal.\n",
            "Preparing to unpack .../python3-gdal_2.2.3+dfsg-2_amd64.deb ...\n",
            "Unpacking python3-gdal (2.2.3+dfsg-2) ...\n",
            "Setting up python3-numpy (1:1.13.3-2ubuntu1) ...\n",
            "Setting up python3-gdal (2.2.3+dfsg-2) ...\n",
            "Processing triggers for man-db (2.8.3-2ubuntu0.1) ...\n"
          ],
          "name": "stdout"
        }
      ]
    }
  ]
}