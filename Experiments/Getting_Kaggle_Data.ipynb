{
  "nbformat": 4,
  "nbformat_minor": 0,
  "metadata": {
    "colab": {
      "name": "Getting_Kaggle_Data.ipynb",
      "provenance": []
    },
    "kernelspec": {
      "name": "python3",
      "display_name": "Python 3"
    }
  },
  "cells": [
    {
      "cell_type": "markdown",
      "metadata": {
        "id": "-TE_bwqOHNwH"
      },
      "source": [
        "This is a simple example of downloading a machine learning competition dataset from [kaggle.com](https://www.kaggle.com/)"
      ]
    },
    {
      "cell_type": "markdown",
      "metadata": {
        "id": "e4T1mjB-HmX_"
      },
      "source": [
        "First we ensure kaggle is 'installed' on our machine\r\n",
        "\r\n",
        "note the little -q just keeps the output of this line from showing up in the python notebook"
      ]
    },
    {
      "cell_type": "code",
      "metadata": {
        "id": "_xJpJ8rlrrls"
      },
      "source": [
        "!pip -q install kaggle"
      ],
      "execution_count": 2,
      "outputs": []
    },
    {
      "cell_type": "markdown",
      "metadata": {
        "id": "rZ0hKznhHwf_"
      },
      "source": [
        "We then create the following prompt for our Kaggle user name and api key. This can be obtained by logging into [kaggle.com](https://www.kaggle.com/), navigating to your account page, scrolling down to the API section, and selecting *Create New API Tolken*\r\n",
        "\r\n",
        "Your KAGGLE_USERNAME and KAGGLE_KEY will be indicated in the downloaded text file\r\n",
        "\r\n",
        "Running the code block below - we should have a prompt occur asking us to enter your KAGGLE_USERNAME followed by your KAGGLE_KEY. These will be dest as temporary environment variables in, for example, your google colab session. "
      ]
    },
    {
      "cell_type": "code",
      "metadata": {
        "id": "9DvKRy0l0MBA"
      },
      "source": [
        "import os\r\n",
        "\r\n",
        "os.environ['KAGGLE_USERNAME'] = input()\r\n",
        "os.environ['KAGGLE_KEY'] = input()"
      ],
      "execution_count": null,
      "outputs": []
    },
    {
      "cell_type": "markdown",
      "metadata": {
        "id": "YQLsjUyYInq3"
      },
      "source": [
        "Note: I've removed my KAGGLE_USERNAME and KAGGLE_KEY from this example to keep them out of our public Git\r\n",
        "\r\n",
        "\r\n",
        "Once these are set, we can initiate the download of a kaggle dataset to the local  envivonment (for example, directly into the google colab session). Here we will download the [Overhead-MNIST dataset ](https://www.kaggle.com/datamunge/overheadmnist)\r\n"
      ]
    },
    {
      "cell_type": "code",
      "metadata": {
        "colab": {
          "base_uri": "https://localhost:8080/"
        },
        "id": "ETbYSJLenPGh",
        "outputId": "57e05ec1-55b5-4a76-800d-c9b73b87d143"
      },
      "source": [
        "!kaggle datasets download -d datamunge/overheadmnist"
      ],
      "execution_count": 6,
      "outputs": [
        {
          "output_type": "stream",
          "text": [
            "Downloading overheadmnist.zip to /content\n",
            " 99% 217M/218M [00:29<00:00, 7.79MB/s]\n",
            "100% 218M/218M [00:29<00:00, 7.83MB/s]\n"
          ],
          "name": "stdout"
        }
      ]
    },
    {
      "cell_type": "markdown",
      "metadata": {
        "id": "78zPkr0zKIbu"
      },
      "source": [
        "Once the download is complete we can simply unzip the file to access the individual images. Once again we use the little -q argument to avoid seeing a huge printout of files being unzipped. "
      ]
    },
    {
      "cell_type": "code",
      "metadata": {
        "id": "qwUNNmWL1xFT"
      },
      "source": [
        "!unzip -q overheadmnist"
      ],
      "execution_count": 8,
      "outputs": []
    },
    {
      "cell_type": "markdown",
      "metadata": {
        "id": "cmMMWKZeLzzc"
      },
      "source": [
        "Once the data has been distracted we can use matplotlib to quickly display a random image to the screen. Here we see a car example. "
      ]
    },
    {
      "cell_type": "code",
      "metadata": {
        "colab": {
          "base_uri": "https://localhost:8080/",
          "height": 265
        },
        "id": "HfvL5YPOLHVp",
        "outputId": "57545f74-47b3-4bef-c142-4145b6740d12"
      },
      "source": [
        "from matplotlib import pyplot as plt\r\n",
        "\r\n",
        "examplePath = r'/content/version2/train/car/00002.jpg'\r\n",
        "exampleImage = plt.imread(examplePath)\r\n",
        "plt.imshow(exampleImage, cmap='gray')\r\n",
        "plt.show()"
      ],
      "execution_count": 16,
      "outputs": [
        {
          "output_type": "display_data",
          "data": {
            "image/png": "[encoded data removed]",
            "text/plain": [
              "<Figure size 432x288 with 1 Axes>"
            ]
          },
          "metadata": {
            "tags": [],
            "needs_background": "light"
          }
        }
      ]
    }
  ]
}